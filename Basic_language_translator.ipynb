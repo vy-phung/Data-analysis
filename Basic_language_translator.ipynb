{
  "nbformat": 4,
  "nbformat_minor": 0,
  "metadata": {
    "colab": {
      "name": "Basic language translator.ipynb",
      "provenance": [],
      "authorship_tag": "ABX9TyMBc8ZwKi6PTz6s8tfXasD2",
      "include_colab_link": true
    },
    "kernelspec": {
      "name": "python3",
      "display_name": "Python 3"
    },
    "language_info": {
      "name": "python"
    }
  },
  "cells": [
    {
      "cell_type": "markdown",
      "metadata": {
        "id": "view-in-github",
        "colab_type": "text"
      },
      "source": [
        "<a href=\"https://colab.research.google.com/github/vy-phung/Data-analysis/blob/main/Basic_language_translator.ipynb\" target=\"_parent\"><img src=\"https://colab.research.google.com/assets/colab-badge.svg\" alt=\"Open In Colab\"/></a>"
      ]
    },
    {
      "cell_type": "code",
      "metadata": {
        "id": "fIJYJvwADv4_"
      },
      "source": [
        "! pip install --upgrade \"ibm-watson>=4.2.1\"  "
      ],
      "execution_count": null,
      "outputs": []
    },
    {
      "cell_type": "code",
      "metadata": {
        "id": "s2k9BIJ6YJr9"
      },
      "source": [
        "from ibm_watson import LanguageTranslatorV3\n",
        "from ibm_cloud_sdk_core.authenticators import IAMAuthenticator\n",
        "\n",
        "authenticator = IAMAuthenticator('p9nTUgusELZe1dNWLQwDjbg2EAzqlQJNYF-XyW608xeF')\n",
        "language_translator = LanguageTranslatorV3(\n",
        "    version='2018-05-01',\n",
        "    authenticator=authenticator\n",
        ")\n",
        "\n",
        "language_translator.set_service_url('https://api.us-south.language-translator.watson.cloud.ibm.com/instances/df06279e-fc78-4863-aeef-a809865bfdfe')\n"
      ],
      "execution_count": 10,
      "outputs": []
    },
    {
      "cell_type": "code",
      "metadata": {
        "id": "x47JC84Zc__t"
      },
      "source": [
        "import pandas as pd\n",
        "import numpy as np"
      ],
      "execution_count": 17,
      "outputs": []
    },
    {
      "cell_type": "code",
      "metadata": {
        "id": "mH_56bAJcxCe",
        "outputId": "26cbc0fd-0416-4609-82c6-37feb2943bf3",
        "colab": {
          "base_uri": "https://localhost:8080/",
          "height": 423
        }
      },
      "source": [
        "language_list = language_translator.list_identifiable_languages().get_result()\n",
        "language = language_list['languages']\n",
        "language = pd.DataFrame(language)\n",
        "language = language.set_index(\"name\")\n",
        "language.index.names = [None]\n",
        "language"
      ],
      "execution_count": 82,
      "outputs": [
        {
          "output_type": "execute_result",
          "data": {
            "text/html": [
              "<div>\n",
              "<style scoped>\n",
              "    .dataframe tbody tr th:only-of-type {\n",
              "        vertical-align: middle;\n",
              "    }\n",
              "\n",
              "    .dataframe tbody tr th {\n",
              "        vertical-align: top;\n",
              "    }\n",
              "\n",
              "    .dataframe thead th {\n",
              "        text-align: right;\n",
              "    }\n",
              "</style>\n",
              "<table border=\"1\" class=\"dataframe\">\n",
              "  <thead>\n",
              "    <tr style=\"text-align: right;\">\n",
              "      <th></th>\n",
              "      <th>language</th>\n",
              "    </tr>\n",
              "  </thead>\n",
              "  <tbody>\n",
              "    <tr>\n",
              "      <th>Afrikaans</th>\n",
              "      <td>af</td>\n",
              "    </tr>\n",
              "    <tr>\n",
              "      <th>Arabic</th>\n",
              "      <td>ar</td>\n",
              "    </tr>\n",
              "    <tr>\n",
              "      <th>Azerbaijani</th>\n",
              "      <td>az</td>\n",
              "    </tr>\n",
              "    <tr>\n",
              "      <th>Bashkir</th>\n",
              "      <td>ba</td>\n",
              "    </tr>\n",
              "    <tr>\n",
              "      <th>Belarusian</th>\n",
              "      <td>be</td>\n",
              "    </tr>\n",
              "    <tr>\n",
              "      <th>...</th>\n",
              "      <td>...</td>\n",
              "    </tr>\n",
              "    <tr>\n",
              "      <th>Ukrainian</th>\n",
              "      <td>uk</td>\n",
              "    </tr>\n",
              "    <tr>\n",
              "      <th>Urdu</th>\n",
              "      <td>ur</td>\n",
              "    </tr>\n",
              "    <tr>\n",
              "      <th>Vietnamese</th>\n",
              "      <td>vi</td>\n",
              "    </tr>\n",
              "    <tr>\n",
              "      <th>Simplified Chinese</th>\n",
              "      <td>zh</td>\n",
              "    </tr>\n",
              "    <tr>\n",
              "      <th>Traditional Chinese</th>\n",
              "      <td>zh-TW</td>\n",
              "    </tr>\n",
              "  </tbody>\n",
              "</table>\n",
              "<p>76 rows × 1 columns</p>\n",
              "</div>"
            ],
            "text/plain": [
              "                    language\n",
              "Afrikaans                 af\n",
              "Arabic                    ar\n",
              "Azerbaijani               az\n",
              "Bashkir                   ba\n",
              "Belarusian                be\n",
              "...                      ...\n",
              "Ukrainian                 uk\n",
              "Urdu                      ur\n",
              "Vietnamese                vi\n",
              "Simplified Chinese        zh\n",
              "Traditional Chinese    zh-TW\n",
              "\n",
              "[76 rows x 1 columns]"
            ]
          },
          "metadata": {},
          "execution_count": 82
        }
      ]
    },
    {
      "cell_type": "code",
      "metadata": {
        "id": "3SGTEIU0bC77",
        "outputId": "5134ce6d-938c-488e-fb07-3d3a4e6e3b10",
        "colab": {
          "base_uri": "https://localhost:8080/",
          "height": 87
        }
      },
      "source": [
        "input_lan = input(\"Your input language\")\n",
        "i = '%s'%input_lan\n",
        "i = language.loc[i,:]\n",
        "if i\n",
        "\n",
        "output_lan = input(\"Your output language\")\n",
        "o = '%s'%output_lan\n",
        "o = language.loc[o,:]\n",
        "model_id = \"%s-%s\"%(i[0],o[0])\n",
        "\n",
        "text_to_translate = input(\"Your content you want translate here\")\n",
        "text = '%s'%text_to_translate\n",
        "# Translate\n",
        "translation = language_translator.translate(\n",
        "    text=text,\n",
        "    model_id=model_id).get_result()\n",
        "translation['translations'][0]['translation']"
      ],
      "execution_count": 111,
      "outputs": [
        {
          "name": "stdout",
          "output_type": "stream",
          "text": [
            "Your input languageEnglish\n",
            "Your output languageVietnamese\n",
            "Your content you want translate hereHello\n"
          ]
        },
        {
          "output_type": "execute_result",
          "data": {
            "application/vnd.google.colaboratory.intrinsic+json": {
              "type": "string"
            },
            "text/plain": [
              "'Xin chào'"
            ]
          },
          "metadata": {},
          "execution_count": 111
        }
      ]
    },
    {
      "cell_type": "code",
      "metadata": {
        "id": "iynQ7bVSamAo"
      },
      "source": [
        ""
      ],
      "execution_count": 9,
      "outputs": []
    }
  ]
}