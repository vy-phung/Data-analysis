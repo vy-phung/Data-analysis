{
  "nbformat": 4,
  "nbformat_minor": 0,
  "metadata": {
    "colab": {
      "name": "Basic language translator and speech to text.ipynb",
      "provenance": [],
      "collapsed_sections": [],
      "authorship_tag": "ABX9TyN49sFxh/HzfnkGfp57L9PV",
      "include_colab_link": true
    },
    "kernelspec": {
      "name": "python3",
      "display_name": "Python 3"
    },
    "language_info": {
      "name": "python"
    }
  },
  "cells": [
    {
      "cell_type": "markdown",
      "metadata": {
        "id": "view-in-github",
        "colab_type": "text"
      },
      "source": [
        "<a href=\"https://colab.research.google.com/github/vy-phung/Data-analysis/blob/main/Basic_language_translator_and_speech_to_text.ipynb\" target=\"_parent\"><img src=\"https://colab.research.google.com/assets/colab-badge.svg\" alt=\"Open In Colab\"/></a>"
      ]
    },
    {
      "cell_type": "markdown",
      "metadata": {
        "id": "exq0Fm__BTZw"
      },
      "source": [
        "This is just a basic language translator, which translates from one language to another language and a speech to text, which converts a speech to a text.   \n",
        "\n",
        "1. For speech to text, I will download a standup comedy speech on Youtube ('How The British Took Over India' - TREVOR NOAH) https://youtu.be/QhMO5SSmiaA\n",
        "2. For language translator, I will use 3 options to translate: \n",
        "*   Typing (You have to typing directly) \n",
        "*   A file (a file you've already had in your path) (in this case I use *.txt)\n",
        "*   Using a text from the above speech to text section\n",
        "\n",
        "About the APIKEY and URL for both Language translator and Speech to text, I take them from my IBM Watson Studio account. Actually, I feel ok if you intend to use this APIKEY or URL for the purpose of learning. \n",
        "\n",
        "\n",
        "\n",
        "\n"
      ]
    },
    {
      "cell_type": "markdown",
      "metadata": {
        "id": "zIgLceau5k7_"
      },
      "source": [
        "**AUTHENTICATE**"
      ]
    },
    {
      "cell_type": "code",
      "metadata": {
        "id": "fIJYJvwADv4_"
      },
      "source": [
        "! pip install --upgrade \"ibm-watson>=4.2.1\"  "
      ],
      "execution_count": null,
      "outputs": []
    },
    {
      "cell_type": "code",
      "metadata": {
        "id": "rXwM8IqL6kIz"
      },
      "source": [
        "from ibm_watson import LanguageTranslatorV3, SpeechToTextV1 \n",
        "from ibm_cloud_sdk_core.authenticators import IAMAuthenticator"
      ],
      "execution_count": 2,
      "outputs": []
    },
    {
      "cell_type": "code",
      "metadata": {
        "id": "Ni7Swf0d5uql"
      },
      "source": [
        "ltapikey = \"p9nTUgusELZe1dNWLQwDjbg2EAzqlQJNYF-XyW608xeF\"\n",
        "lturl = \"https://api.us-south.language-translator.watson.cloud.ibm.com/instances/df06279e-fc78-4863-aeef-a809865bfdfe\"\n",
        "sttapikey = \"O43QI28AeQ-qtV9hdsvj8QVSAUX1q8bhoh3Xf5Vr3pPr\"\n",
        "stturl = \"https://api.us-south.speech-to-text.watson.cloud.ibm.com/instances/7252e247-f575-456d-a86e-431c2622d39e\""
      ],
      "execution_count": 3,
      "outputs": []
    },
    {
      "cell_type": "code",
      "metadata": {
        "id": "s2k9BIJ6YJr9"
      },
      "source": [
        "# Language Translator\n",
        "ltauthenticator = IAMAuthenticator(ltapikey)\n",
        "language_translator = LanguageTranslatorV3(\n",
        "    version='2018-05-01',\n",
        "    authenticator=ltauthenticator\n",
        ")\n",
        "\n",
        "language_translator.set_service_url(lturl)\n",
        "# Speech To Text\n",
        "sttauthenticator = IAMAuthenticator(sttapikey)\n",
        "SpeechToText = SpeechToTextV1(\n",
        "    authenticator=sttauthenticator\n",
        ")\n",
        "\n",
        "SpeechToText.set_service_url(stturl)\n"
      ],
      "execution_count": 4,
      "outputs": []
    },
    {
      "cell_type": "markdown",
      "metadata": {
        "id": "w3JtBmpY6YX4"
      },
      "source": [
        "**Speech to Text**"
      ]
    },
    {
      "cell_type": "markdown",
      "metadata": {
        "id": "Vs5GyPygFyMB"
      },
      "source": [
        "In this case, because I use audio/mp3 to run SpeechToText, I will have to convert the youtube speech to mp3 file.\n",
        "\n",
        "I use the code and instruction from \"https://github.com/silvanohirtie/youtube-mp3-downloader.git\" to convert. "
      ]
    },
    {
      "cell_type": "code",
      "metadata": {
        "colab": {
          "base_uri": "https://localhost:8080/"
        },
        "id": "Wgy6E6L1HnF7",
        "outputId": "2ddf180d-9d94-4eb6-ba44-0a49b4e95195"
      },
      "source": [
        "pip install youtube-dl"
      ],
      "execution_count": 6,
      "outputs": [
        {
          "output_type": "stream",
          "name": "stdout",
          "text": [
            "Collecting youtube-dl\n",
            "  Downloading youtube_dl-2021.6.6-py2.py3-none-any.whl (1.9 MB)\n",
            "\u001b[K     |████████████████████████████████| 1.9 MB 5.1 MB/s \n",
            "\u001b[?25hInstalling collected packages: youtube-dl\n",
            "Successfully installed youtube-dl-2021.6.6\n"
          ]
        }
      ]
    },
    {
      "cell_type": "code",
      "metadata": {
        "colab": {
          "base_uri": "https://localhost:8080/"
        },
        "id": "D1BbSyGMa3Xb",
        "outputId": "e9abfc06-e3b7-4396-aec4-048744cca7f9"
      },
      "source": [
        "from __future__ import unicode_literals\n",
        "import youtube_dl\n",
        "print(\"Insert the link\")\n",
        "link = input (\"\")\n",
        "ydl_opts = {\n",
        "    'format': 'bestaudio/best',\n",
        "    'postprocessors': [{\n",
        "        'key': 'FFmpegExtractAudio',\n",
        "        'preferredcodec': 'mp3',\n",
        "        'preferredquality': '320',\n",
        "    }],\n",
        "}\n",
        "with youtube_dl.YoutubeDL(ydl_opts) as ydl:\n",
        "    ydl.download([link])"
      ],
      "execution_count": 7,
      "outputs": [
        {
          "output_type": "stream",
          "name": "stdout",
          "text": [
            "Insert the link\n",
            "https://youtu.be/QhMO5SSmiaA\n",
            "[youtube] QhMO5SSmiaA: Downloading webpage\n",
            "[download] Destination: 'How The British Took Over India' - TREVOR NOAH (from 'Afraid Of The Dark' on Netflix)-QhMO5SSmiaA.m4a\n",
            "[download] 100% of 5.41MiB in 02:07\n",
            "[ffmpeg] Correcting container in \"'How The British Took Over India' - TREVOR NOAH (from 'Afraid Of The Dark' on Netflix)-QhMO5SSmiaA.m4a\"\n",
            "[ffmpeg] Destination: 'How The British Took Over India' - TREVOR NOAH (from 'Afraid Of The Dark' on Netflix)-QhMO5SSmiaA.mp3\n",
            "Deleting original file 'How The British Took Over India' - TREVOR NOAH (from 'Afraid Of The Dark' on Netflix)-QhMO5SSmiaA.m4a (pass -k to keep)\n"
          ]
        }
      ]
    },
    {
      "cell_type": "code",
      "metadata": {
        "id": "pmThE0rucmH8",
        "colab": {
          "base_uri": "https://localhost:8080/"
        },
        "outputId": "d87613c0-ee03-49fd-9ea0-2a885c9299a0"
      },
      "source": [
        "print('Drop the file path')\n",
        "file = input(\"\")\n",
        "with open(file, 'rb') as f:\n",
        "  res = SpeechToText.recognize(audio=f,content_type='audio/mp3', model='en-US_NarrowbandModel').get_result()"
      ],
      "execution_count": null,
      "outputs": [
        {
          "name": "stdout",
          "output_type": "stream",
          "text": [
            "Drop the file path\n",
            "/content/'How The British Took Over India' - TREVOR NOAH (from 'Afraid Of The Dark' on Netflix)-QhMO5SSmiaA.mp3\n"
          ]
        }
      ]
    },
    {
      "cell_type": "code",
      "metadata": {
        "id": "Op4E1X91ONBx"
      },
      "source": [
        "res"
      ],
      "execution_count": null,
      "outputs": []
    },
    {
      "cell_type": "markdown",
      "metadata": {
        "id": "IsBeis_1PXsq"
      },
      "source": [
        "**Language Translator**"
      ]
    },
    {
      "cell_type": "code",
      "metadata": {
        "id": "x47JC84Zc__t"
      },
      "source": [
        "import pandas as pd\n",
        "import numpy as np"
      ],
      "execution_count": 9,
      "outputs": []
    },
    {
      "cell_type": "code",
      "metadata": {
        "colab": {
          "base_uri": "https://localhost:8080/",
          "height": 423
        },
        "id": "mH_56bAJcxCe",
        "outputId": "8967705a-e079-4ac0-b6e4-b9c0e31fb220"
      },
      "source": [
        "language_list = language_translator.list_identifiable_languages().get_result()\n",
        "language = language_list['languages']\n",
        "language = pd.DataFrame(language)\n",
        "language = language.set_index(\"name\")\n",
        "language.index.names = [None]\n",
        "language"
      ],
      "execution_count": 10,
      "outputs": [
        {
          "output_type": "execute_result",
          "data": {
            "text/html": [
              "<div>\n",
              "<style scoped>\n",
              "    .dataframe tbody tr th:only-of-type {\n",
              "        vertical-align: middle;\n",
              "    }\n",
              "\n",
              "    .dataframe tbody tr th {\n",
              "        vertical-align: top;\n",
              "    }\n",
              "\n",
              "    .dataframe thead th {\n",
              "        text-align: right;\n",
              "    }\n",
              "</style>\n",
              "<table border=\"1\" class=\"dataframe\">\n",
              "  <thead>\n",
              "    <tr style=\"text-align: right;\">\n",
              "      <th></th>\n",
              "      <th>language</th>\n",
              "    </tr>\n",
              "  </thead>\n",
              "  <tbody>\n",
              "    <tr>\n",
              "      <th>Afrikaans</th>\n",
              "      <td>af</td>\n",
              "    </tr>\n",
              "    <tr>\n",
              "      <th>Arabic</th>\n",
              "      <td>ar</td>\n",
              "    </tr>\n",
              "    <tr>\n",
              "      <th>Azerbaijani</th>\n",
              "      <td>az</td>\n",
              "    </tr>\n",
              "    <tr>\n",
              "      <th>Bashkir</th>\n",
              "      <td>ba</td>\n",
              "    </tr>\n",
              "    <tr>\n",
              "      <th>Belarusian</th>\n",
              "      <td>be</td>\n",
              "    </tr>\n",
              "    <tr>\n",
              "      <th>...</th>\n",
              "      <td>...</td>\n",
              "    </tr>\n",
              "    <tr>\n",
              "      <th>Ukrainian</th>\n",
              "      <td>uk</td>\n",
              "    </tr>\n",
              "    <tr>\n",
              "      <th>Urdu</th>\n",
              "      <td>ur</td>\n",
              "    </tr>\n",
              "    <tr>\n",
              "      <th>Vietnamese</th>\n",
              "      <td>vi</td>\n",
              "    </tr>\n",
              "    <tr>\n",
              "      <th>Simplified Chinese</th>\n",
              "      <td>zh</td>\n",
              "    </tr>\n",
              "    <tr>\n",
              "      <th>Traditional Chinese</th>\n",
              "      <td>zh-TW</td>\n",
              "    </tr>\n",
              "  </tbody>\n",
              "</table>\n",
              "<p>76 rows × 1 columns</p>\n",
              "</div>"
            ],
            "text/plain": [
              "                    language\n",
              "Afrikaans                 af\n",
              "Arabic                    ar\n",
              "Azerbaijani               az\n",
              "Bashkir                   ba\n",
              "Belarusian                be\n",
              "...                      ...\n",
              "Ukrainian                 uk\n",
              "Urdu                      ur\n",
              "Vietnamese                vi\n",
              "Simplified Chinese        zh\n",
              "Traditional Chinese    zh-TW\n",
              "\n",
              "[76 rows x 1 columns]"
            ]
          },
          "metadata": {},
          "execution_count": 10
        }
      ]
    },
    {
      "cell_type": "code",
      "metadata": {
        "colab": {
          "base_uri": "https://localhost:8080/"
        },
        "id": "YCtN_cfTrj-F",
        "outputId": "0b50daf9-2956-482d-d5de-e5203e4bce3c"
      },
      "source": [
        "print('Insert your input language')\n",
        "i = input(\"\")\n",
        "i = language.loc[i,:]\n",
        "print(\"Insert your output langugae\")\n",
        "o = input(\"\")\n",
        "o = language.loc[o,:]\n",
        "model_id = \"%s-%s\"%(i[0],o[0])\n",
        "print(\"There are 3 choices for translation:\\n\",\n",
        "      \"1. Typing a content\\n\",\n",
        "      \"2. Drop a path file you have\\n\",\n",
        "      \"3. Translate from voice text\\n\",\n",
        "      \"Type the number 1 or 2 or 3 to choose\")\n",
        "content = input(\"\")\n",
        "if content == \"1\":\n",
        "  text_to_translate = input(\"Your content you want translate here\")\n",
        "  text = '%s'%text_to_translate\n",
        "elif content == \"2\":\n",
        "  text = input(\"Drop a path of your file\")\n",
        "  t = '%s'%text\n",
        "  with open(t) as f:\n",
        "    text = f.read()\n",
        "elif content == \"3\":\n",
        "  t = []\n",
        "  for f in res['results']:\n",
        "    texts = f['alternatives'][0]['transcript']\n",
        "    t.append(texts)\n",
        "  text = ' '.join(t)\n",
        "# Translate\n",
        "translation = language_translator.translate(\n",
        "    text=text,\n",
        "    model_id=model_id).get_result()\n",
        "tran = translation['translations'][0]['translation']\n",
        "print(tran)"
      ],
      "execution_count": 11,
      "outputs": [
        {
          "output_type": "stream",
          "name": "stdout",
          "text": [
            "Insert your input language\n",
            "English\n",
            "Insert your output langugae\n",
            "Vietnamese\n",
            "There are 3 choices for translation:\n",
            " 1. Typing a content\n",
            " 2. Drop a path file you have\n",
            " 3. Translate from voice text\n",
            " Type the number 1 or 2 or 3 to choose\n",
            "2\n",
            "Drop a path of your file/content/test.txt\n",
            "Xin chào, tên tôi là Vy.\n"
          ]
        }
      ]
    },
    {
      "cell_type": "code",
      "metadata": {
        "id": "oVTiUFAK1Fs4"
      },
      "source": [
        ""
      ],
      "execution_count": null,
      "outputs": []
    }
  ]
}