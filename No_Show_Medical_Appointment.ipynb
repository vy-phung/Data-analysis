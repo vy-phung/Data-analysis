{
  "nbformat": 4,
  "nbformat_minor": 0,
  "metadata": {
    "colab": {
      "name": "No Show Medical Appointment.ipynb",
      "provenance": [],
      "collapsed_sections": [
        "iFMQAu5Ln-GH",
        "-CMIKANn_ieH",
        "lWisRD_Wk8yS",
        "n4kIKeiClMrF"
      ],
      "authorship_tag": "ABX9TyOCgKDtpNhK0bcm3Ok8R5E0",
      "include_colab_link": true
    },
    "kernelspec": {
      "display_name": "Python 3",
      "name": "python3"
    },
    "language_info": {
      "name": "python"
    }
  },
  "cells": [
    {
      "cell_type": "markdown",
      "metadata": {
        "id": "view-in-github",
        "colab_type": "text"
      },
      "source": [
        "<a href=\"https://colab.research.google.com/github/vy-phung/Data-analysis/blob/main/No_Show_Medical_Appointment.ipynb\" target=\"_parent\"><img src=\"https://colab.research.google.com/assets/colab-badge.svg\" alt=\"Open In Colab\"/></a>"
      ]
    },
    {
      "cell_type": "markdown",
      "metadata": {
        "id": "zi-MnVbsM0MZ"
      },
      "source": [
        "**<h1>Data analysis Medical Appointment <h1>**\n",
        "\n",
        "**<h3>Author</h3>** \n",
        "<p>Vy K Phung</p>\n",
        "\n",
        "**<h3>Date</h3>** \n",
        "<p>2021-Nov-5</p>\n"
      ]
    },
    {
      "cell_type": "markdown",
      "metadata": {
        "id": "7eCArbS34Xxg"
      },
      "source": [
        "## **Introduction**\n",
        "The purpose of this data analysis is to find if receiving SMS or not is associated with the customers showing up or not showing up in Medical appointment. I re-analyse the data source on Kaggle (you can go to the link below if you're also interested to analyse it) \n",
        "\n",
        "In addition, I wil analyse another factor which is scheduling in the same day or in advance the Medical appointment to know if it may effect the relationship between SMS_received and no-show appointment. \n"
      ]
    },
    {
      "cell_type": "markdown",
      "metadata": {
        "id": "9wPDTbcU8KTr"
      },
      "source": [
        "**Data source:** https://www.kaggle.com/joniarroba/noshowappointments/home \n",
        "\n",
        " (In this data source there is also the explanation for variable name. Moreover, this analysis for this data source refers to Simple Regression Analysis of Public Health on Coursera )"
      ]
    },
    {
      "cell_type": "markdown",
      "metadata": {
        "id": "5YavWOD_7ZfR"
      },
      "source": [
        "##**Summary:**\n",
        "1. Data preprocessing\n",
        "2. Exploratory data analysis\n",
        "<ul>\n",
        "<li>Feature engineering</li>\n",
        "</ul>\n",
        "3. Statistical analysis in R (using Logistic regression analysis)\n",
        "<ul>\n",
        "<li>Unadjusted data analysis</li>\n",
        "<li>Adjusted data analysis</li>\n",
        "<li>Stratified analysis</li>\n",
        "</ul>\n",
        "4. Basic predicting and classifying\n",
        "<ul>\n",
        "<li>Test-train split</li>\n",
        "<li>Predicting using logistic regression and GridSearchCV</li>\n",
        "</ul>\n"
      ]
    },
    {
      "cell_type": "code",
      "metadata": {
        "id": "llMVzCWm23z2",
        "cellView": "code"
      },
      "source": [
        "# Import packages \n",
        "# Package\n",
        "import pandas as pd\n",
        "import numpy as np\n",
        "from sklearn.linear_model import LogisticRegression\n",
        "from sklearn.model_selection import train_test_split\n",
        "from sklearn import metrics\n",
        "from sklearn.model_selection import GridSearchCV\n",
        "from sklearn import preprocessing\n",
        "# import the visualization package\n",
        "import seaborn as sns\n",
        "import matplotlib.pyplot as plt\n",
        "%matplotlib inline "
      ],
      "execution_count": 1,
      "outputs": []
    },
    {
      "cell_type": "markdown",
      "metadata": {
        "id": "9KRBdRQY9k8R"
      },
      "source": [
        "## **Data preprocessing**"
      ]
    },
    {
      "cell_type": "code",
      "metadata": {
        "colab": {
          "base_uri": "https://localhost:8080/",
          "height": 206
        },
        "id": "qNhETP4bdvDz",
        "outputId": "3df29ab8-f740-40e0-cb18-c30b5d68335a"
      },
      "source": [
        "noshow = pd.read_csv('/content/KaggleV2-May-2016.csv')\n",
        "noshow.head()"
      ],
      "execution_count": 2,
      "outputs": [
        {
          "output_type": "execute_result",
          "data": {
            "text/html": [
              "\n",
              "  <div id=\"df-485e9653-1bd5-4df1-8bdc-4c5536c0df49\">\n",
              "    <div class=\"colab-df-container\">\n",
              "      <div>\n",
              "<style scoped>\n",
              "    .dataframe tbody tr th:only-of-type {\n",
              "        vertical-align: middle;\n",
              "    }\n",
              "\n",
              "    .dataframe tbody tr th {\n",
              "        vertical-align: top;\n",
              "    }\n",
              "\n",
              "    .dataframe thead th {\n",
              "        text-align: right;\n",
              "    }\n",
              "</style>\n",
              "<table border=\"1\" class=\"dataframe\">\n",
              "  <thead>\n",
              "    <tr style=\"text-align: right;\">\n",
              "      <th></th>\n",
              "      <th>PatientId</th>\n",
              "      <th>AppointmentID</th>\n",
              "      <th>Gender</th>\n",
              "      <th>ScheduledDay</th>\n",
              "      <th>AppointmentDay</th>\n",
              "      <th>Age</th>\n",
              "      <th>Neighbourhood</th>\n",
              "      <th>Scholarship</th>\n",
              "      <th>Hipertension</th>\n",
              "      <th>Diabetes</th>\n",
              "      <th>Alcoholism</th>\n",
              "      <th>Handcap</th>\n",
              "      <th>SMS_received</th>\n",
              "      <th>No-show</th>\n",
              "    </tr>\n",
              "  </thead>\n",
              "  <tbody>\n",
              "    <tr>\n",
              "      <th>0</th>\n",
              "      <td>2.987250e+13</td>\n",
              "      <td>5642903</td>\n",
              "      <td>F</td>\n",
              "      <td>2016-04-29T18:38:08Z</td>\n",
              "      <td>2016-04-29T00:00:00Z</td>\n",
              "      <td>62</td>\n",
              "      <td>JARDIM DA PENHA</td>\n",
              "      <td>0</td>\n",
              "      <td>1</td>\n",
              "      <td>0</td>\n",
              "      <td>0</td>\n",
              "      <td>0</td>\n",
              "      <td>0</td>\n",
              "      <td>No</td>\n",
              "    </tr>\n",
              "    <tr>\n",
              "      <th>1</th>\n",
              "      <td>5.589978e+14</td>\n",
              "      <td>5642503</td>\n",
              "      <td>M</td>\n",
              "      <td>2016-04-29T16:08:27Z</td>\n",
              "      <td>2016-04-29T00:00:00Z</td>\n",
              "      <td>56</td>\n",
              "      <td>JARDIM DA PENHA</td>\n",
              "      <td>0</td>\n",
              "      <td>0</td>\n",
              "      <td>0</td>\n",
              "      <td>0</td>\n",
              "      <td>0</td>\n",
              "      <td>0</td>\n",
              "      <td>No</td>\n",
              "    </tr>\n",
              "    <tr>\n",
              "      <th>2</th>\n",
              "      <td>4.262962e+12</td>\n",
              "      <td>5642549</td>\n",
              "      <td>F</td>\n",
              "      <td>2016-04-29T16:19:04Z</td>\n",
              "      <td>2016-04-29T00:00:00Z</td>\n",
              "      <td>62</td>\n",
              "      <td>MATA DA PRAIA</td>\n",
              "      <td>0</td>\n",
              "      <td>0</td>\n",
              "      <td>0</td>\n",
              "      <td>0</td>\n",
              "      <td>0</td>\n",
              "      <td>0</td>\n",
              "      <td>No</td>\n",
              "    </tr>\n",
              "    <tr>\n",
              "      <th>3</th>\n",
              "      <td>8.679512e+11</td>\n",
              "      <td>5642828</td>\n",
              "      <td>F</td>\n",
              "      <td>2016-04-29T17:29:31Z</td>\n",
              "      <td>2016-04-29T00:00:00Z</td>\n",
              "      <td>8</td>\n",
              "      <td>PONTAL DE CAMBURI</td>\n",
              "      <td>0</td>\n",
              "      <td>0</td>\n",
              "      <td>0</td>\n",
              "      <td>0</td>\n",
              "      <td>0</td>\n",
              "      <td>0</td>\n",
              "      <td>No</td>\n",
              "    </tr>\n",
              "    <tr>\n",
              "      <th>4</th>\n",
              "      <td>8.841186e+12</td>\n",
              "      <td>5642494</td>\n",
              "      <td>F</td>\n",
              "      <td>2016-04-29T16:07:23Z</td>\n",
              "      <td>2016-04-29T00:00:00Z</td>\n",
              "      <td>56</td>\n",
              "      <td>JARDIM DA PENHA</td>\n",
              "      <td>0</td>\n",
              "      <td>1</td>\n",
              "      <td>1</td>\n",
              "      <td>0</td>\n",
              "      <td>0</td>\n",
              "      <td>0</td>\n",
              "      <td>No</td>\n",
              "    </tr>\n",
              "  </tbody>\n",
              "</table>\n",
              "</div>\n",
              "      <button class=\"colab-df-convert\" onclick=\"convertToInteractive('df-485e9653-1bd5-4df1-8bdc-4c5536c0df49')\"\n",
              "              title=\"Convert this dataframe to an interactive table.\"\n",
              "              style=\"display:none;\">\n",
              "        \n",
              "  <svg xmlns=\"http://www.w3.org/2000/svg\" height=\"24px\"viewBox=\"0 0 24 24\"\n",
              "       width=\"24px\">\n",
              "    <path d=\"M0 0h24v24H0V0z\" fill=\"none\"/>\n",
              "    <path d=\"M18.56 5.44l.94 2.06.94-2.06 2.06-.94-2.06-.94-.94-2.06-.94 2.06-2.06.94zm-11 1L8.5 8.5l.94-2.06 2.06-.94-2.06-.94L8.5 2.5l-.94 2.06-2.06.94zm10 10l.94 2.06.94-2.06 2.06-.94-2.06-.94-.94-2.06-.94 2.06-2.06.94z\"/><path d=\"M17.41 7.96l-1.37-1.37c-.4-.4-.92-.59-1.43-.59-.52 0-1.04.2-1.43.59L10.3 9.45l-7.72 7.72c-.78.78-.78 2.05 0 2.83L4 21.41c.39.39.9.59 1.41.59.51 0 1.02-.2 1.41-.59l7.78-7.78 2.81-2.81c.8-.78.8-2.07 0-2.86zM5.41 20L4 18.59l7.72-7.72 1.47 1.35L5.41 20z\"/>\n",
              "  </svg>\n",
              "      </button>\n",
              "      \n",
              "  <style>\n",
              "    .colab-df-container {\n",
              "      display:flex;\n",
              "      flex-wrap:wrap;\n",
              "      gap: 12px;\n",
              "    }\n",
              "\n",
              "    .colab-df-convert {\n",
              "      background-color: #E8F0FE;\n",
              "      border: none;\n",
              "      border-radius: 50%;\n",
              "      cursor: pointer;\n",
              "      display: none;\n",
              "      fill: #1967D2;\n",
              "      height: 32px;\n",
              "      padding: 0 0 0 0;\n",
              "      width: 32px;\n",
              "    }\n",
              "\n",
              "    .colab-df-convert:hover {\n",
              "      background-color: #E2EBFA;\n",
              "      box-shadow: 0px 1px 2px rgba(60, 64, 67, 0.3), 0px 1px 3px 1px rgba(60, 64, 67, 0.15);\n",
              "      fill: #174EA6;\n",
              "    }\n",
              "\n",
              "    [theme=dark] .colab-df-convert {\n",
              "      background-color: #3B4455;\n",
              "      fill: #D2E3FC;\n",
              "    }\n",
              "\n",
              "    [theme=dark] .colab-df-convert:hover {\n",
              "      background-color: #434B5C;\n",
              "      box-shadow: 0px 1px 3px 1px rgba(0, 0, 0, 0.15);\n",
              "      filter: drop-shadow(0px 1px 2px rgba(0, 0, 0, 0.3));\n",
              "      fill: #FFFFFF;\n",
              "    }\n",
              "  </style>\n",
              "\n",
              "      <script>\n",
              "        const buttonEl =\n",
              "          document.querySelector('#df-485e9653-1bd5-4df1-8bdc-4c5536c0df49 button.colab-df-convert');\n",
              "        buttonEl.style.display =\n",
              "          google.colab.kernel.accessAllowed ? 'block' : 'none';\n",
              "\n",
              "        async function convertToInteractive(key) {\n",
              "          const element = document.querySelector('#df-485e9653-1bd5-4df1-8bdc-4c5536c0df49');\n",
              "          const dataTable =\n",
              "            await google.colab.kernel.invokeFunction('convertToInteractive',\n",
              "                                                     [key], {});\n",
              "          if (!dataTable) return;\n",
              "\n",
              "          const docLinkHtml = 'Like what you see? Visit the ' +\n",
              "            '<a target=\"_blank\" href=https://colab.research.google.com/notebooks/data_table.ipynb>data table notebook</a>'\n",
              "            + ' to learn more about interactive tables.';\n",
              "          element.innerHTML = '';\n",
              "          dataTable['output_type'] = 'display_data';\n",
              "          await google.colab.output.renderOutput(dataTable, element);\n",
              "          const docLink = document.createElement('div');\n",
              "          docLink.innerHTML = docLinkHtml;\n",
              "          element.appendChild(docLink);\n",
              "        }\n",
              "      </script>\n",
              "    </div>\n",
              "  </div>\n",
              "  "
            ],
            "text/plain": [
              "      PatientId  AppointmentID Gender  ... Handcap SMS_received  No-show\n",
              "0  2.987250e+13        5642903      F  ...       0            0       No\n",
              "1  5.589978e+14        5642503      M  ...       0            0       No\n",
              "2  4.262962e+12        5642549      F  ...       0            0       No\n",
              "3  8.679512e+11        5642828      F  ...       0            0       No\n",
              "4  8.841186e+12        5642494      F  ...       0            0       No\n",
              "\n",
              "[5 rows x 14 columns]"
            ]
          },
          "metadata": {},
          "execution_count": 2
        }
      ]
    },
    {
      "cell_type": "code",
      "source": [
        "noshow.shape"
      ],
      "metadata": {
        "colab": {
          "base_uri": "https://localhost:8080/"
        },
        "id": "snCVEqvkwsg_",
        "outputId": "674ac2a6-b174-4641-f247-986409b6b36b"
      },
      "execution_count": 3,
      "outputs": [
        {
          "output_type": "execute_result",
          "data": {
            "text/plain": [
              "(110527, 14)"
            ]
          },
          "metadata": {},
          "execution_count": 3
        }
      ]
    },
    {
      "cell_type": "code",
      "metadata": {
        "colab": {
          "base_uri": "https://localhost:8080/",
          "height": 300
        },
        "id": "qtBG2NhI-Yw1",
        "outputId": "5406fd29-4a56-4a6d-e91e-4ad36130a489"
      },
      "source": [
        "noshow.describe()"
      ],
      "execution_count": 4,
      "outputs": [
        {
          "output_type": "execute_result",
          "data": {
            "text/html": [
              "\n",
              "  <div id=\"df-15b1a438-f8d8-480a-85e7-c504d70d76f2\">\n",
              "    <div class=\"colab-df-container\">\n",
              "      <div>\n",
              "<style scoped>\n",
              "    .dataframe tbody tr th:only-of-type {\n",
              "        vertical-align: middle;\n",
              "    }\n",
              "\n",
              "    .dataframe tbody tr th {\n",
              "        vertical-align: top;\n",
              "    }\n",
              "\n",
              "    .dataframe thead th {\n",
              "        text-align: right;\n",
              "    }\n",
              "</style>\n",
              "<table border=\"1\" class=\"dataframe\">\n",
              "  <thead>\n",
              "    <tr style=\"text-align: right;\">\n",
              "      <th></th>\n",
              "      <th>PatientId</th>\n",
              "      <th>AppointmentID</th>\n",
              "      <th>Age</th>\n",
              "      <th>Scholarship</th>\n",
              "      <th>Hipertension</th>\n",
              "      <th>Diabetes</th>\n",
              "      <th>Alcoholism</th>\n",
              "      <th>Handcap</th>\n",
              "      <th>SMS_received</th>\n",
              "    </tr>\n",
              "  </thead>\n",
              "  <tbody>\n",
              "    <tr>\n",
              "      <th>count</th>\n",
              "      <td>1.105270e+05</td>\n",
              "      <td>1.105270e+05</td>\n",
              "      <td>110527.000000</td>\n",
              "      <td>110527.000000</td>\n",
              "      <td>110527.000000</td>\n",
              "      <td>110527.000000</td>\n",
              "      <td>110527.000000</td>\n",
              "      <td>110527.000000</td>\n",
              "      <td>110527.000000</td>\n",
              "    </tr>\n",
              "    <tr>\n",
              "      <th>mean</th>\n",
              "      <td>1.474963e+14</td>\n",
              "      <td>5.675305e+06</td>\n",
              "      <td>37.088874</td>\n",
              "      <td>0.098266</td>\n",
              "      <td>0.197246</td>\n",
              "      <td>0.071865</td>\n",
              "      <td>0.030400</td>\n",
              "      <td>0.022248</td>\n",
              "      <td>0.321026</td>\n",
              "    </tr>\n",
              "    <tr>\n",
              "      <th>std</th>\n",
              "      <td>2.560949e+14</td>\n",
              "      <td>7.129575e+04</td>\n",
              "      <td>23.110205</td>\n",
              "      <td>0.297675</td>\n",
              "      <td>0.397921</td>\n",
              "      <td>0.258265</td>\n",
              "      <td>0.171686</td>\n",
              "      <td>0.161543</td>\n",
              "      <td>0.466873</td>\n",
              "    </tr>\n",
              "    <tr>\n",
              "      <th>min</th>\n",
              "      <td>3.921784e+04</td>\n",
              "      <td>5.030230e+06</td>\n",
              "      <td>-1.000000</td>\n",
              "      <td>0.000000</td>\n",
              "      <td>0.000000</td>\n",
              "      <td>0.000000</td>\n",
              "      <td>0.000000</td>\n",
              "      <td>0.000000</td>\n",
              "      <td>0.000000</td>\n",
              "    </tr>\n",
              "    <tr>\n",
              "      <th>25%</th>\n",
              "      <td>4.172614e+12</td>\n",
              "      <td>5.640286e+06</td>\n",
              "      <td>18.000000</td>\n",
              "      <td>0.000000</td>\n",
              "      <td>0.000000</td>\n",
              "      <td>0.000000</td>\n",
              "      <td>0.000000</td>\n",
              "      <td>0.000000</td>\n",
              "      <td>0.000000</td>\n",
              "    </tr>\n",
              "    <tr>\n",
              "      <th>50%</th>\n",
              "      <td>3.173184e+13</td>\n",
              "      <td>5.680573e+06</td>\n",
              "      <td>37.000000</td>\n",
              "      <td>0.000000</td>\n",
              "      <td>0.000000</td>\n",
              "      <td>0.000000</td>\n",
              "      <td>0.000000</td>\n",
              "      <td>0.000000</td>\n",
              "      <td>0.000000</td>\n",
              "    </tr>\n",
              "    <tr>\n",
              "      <th>75%</th>\n",
              "      <td>9.439172e+13</td>\n",
              "      <td>5.725524e+06</td>\n",
              "      <td>55.000000</td>\n",
              "      <td>0.000000</td>\n",
              "      <td>0.000000</td>\n",
              "      <td>0.000000</td>\n",
              "      <td>0.000000</td>\n",
              "      <td>0.000000</td>\n",
              "      <td>1.000000</td>\n",
              "    </tr>\n",
              "    <tr>\n",
              "      <th>max</th>\n",
              "      <td>9.999816e+14</td>\n",
              "      <td>5.790484e+06</td>\n",
              "      <td>115.000000</td>\n",
              "      <td>1.000000</td>\n",
              "      <td>1.000000</td>\n",
              "      <td>1.000000</td>\n",
              "      <td>1.000000</td>\n",
              "      <td>4.000000</td>\n",
              "      <td>1.000000</td>\n",
              "    </tr>\n",
              "  </tbody>\n",
              "</table>\n",
              "</div>\n",
              "      <button class=\"colab-df-convert\" onclick=\"convertToInteractive('df-15b1a438-f8d8-480a-85e7-c504d70d76f2')\"\n",
              "              title=\"Convert this dataframe to an interactive table.\"\n",
              "              style=\"display:none;\">\n",
              "        \n",
              "  <svg xmlns=\"http://www.w3.org/2000/svg\" height=\"24px\"viewBox=\"0 0 24 24\"\n",
              "       width=\"24px\">\n",
              "    <path d=\"M0 0h24v24H0V0z\" fill=\"none\"/>\n",
              "    <path d=\"M18.56 5.44l.94 2.06.94-2.06 2.06-.94-2.06-.94-.94-2.06-.94 2.06-2.06.94zm-11 1L8.5 8.5l.94-2.06 2.06-.94-2.06-.94L8.5 2.5l-.94 2.06-2.06.94zm10 10l.94 2.06.94-2.06 2.06-.94-2.06-.94-.94-2.06-.94 2.06-2.06.94z\"/><path d=\"M17.41 7.96l-1.37-1.37c-.4-.4-.92-.59-1.43-.59-.52 0-1.04.2-1.43.59L10.3 9.45l-7.72 7.72c-.78.78-.78 2.05 0 2.83L4 21.41c.39.39.9.59 1.41.59.51 0 1.02-.2 1.41-.59l7.78-7.78 2.81-2.81c.8-.78.8-2.07 0-2.86zM5.41 20L4 18.59l7.72-7.72 1.47 1.35L5.41 20z\"/>\n",
              "  </svg>\n",
              "      </button>\n",
              "      \n",
              "  <style>\n",
              "    .colab-df-container {\n",
              "      display:flex;\n",
              "      flex-wrap:wrap;\n",
              "      gap: 12px;\n",
              "    }\n",
              "\n",
              "    .colab-df-convert {\n",
              "      background-color: #E8F0FE;\n",
              "      border: none;\n",
              "      border-radius: 50%;\n",
              "      cursor: pointer;\n",
              "      display: none;\n",
              "      fill: #1967D2;\n",
              "      height: 32px;\n",
              "      padding: 0 0 0 0;\n",
              "      width: 32px;\n",
              "    }\n",
              "\n",
              "    .colab-df-convert:hover {\n",
              "      background-color: #E2EBFA;\n",
              "      box-shadow: 0px 1px 2px rgba(60, 64, 67, 0.3), 0px 1px 3px 1px rgba(60, 64, 67, 0.15);\n",
              "      fill: #174EA6;\n",
              "    }\n",
              "\n",
              "    [theme=dark] .colab-df-convert {\n",
              "      background-color: #3B4455;\n",
              "      fill: #D2E3FC;\n",
              "    }\n",
              "\n",
              "    [theme=dark] .colab-df-convert:hover {\n",
              "      background-color: #434B5C;\n",
              "      box-shadow: 0px 1px 3px 1px rgba(0, 0, 0, 0.15);\n",
              "      filter: drop-shadow(0px 1px 2px rgba(0, 0, 0, 0.3));\n",
              "      fill: #FFFFFF;\n",
              "    }\n",
              "  </style>\n",
              "\n",
              "      <script>\n",
              "        const buttonEl =\n",
              "          document.querySelector('#df-15b1a438-f8d8-480a-85e7-c504d70d76f2 button.colab-df-convert');\n",
              "        buttonEl.style.display =\n",
              "          google.colab.kernel.accessAllowed ? 'block' : 'none';\n",
              "\n",
              "        async function convertToInteractive(key) {\n",
              "          const element = document.querySelector('#df-15b1a438-f8d8-480a-85e7-c504d70d76f2');\n",
              "          const dataTable =\n",
              "            await google.colab.kernel.invokeFunction('convertToInteractive',\n",
              "                                                     [key], {});\n",
              "          if (!dataTable) return;\n",
              "\n",
              "          const docLinkHtml = 'Like what you see? Visit the ' +\n",
              "            '<a target=\"_blank\" href=https://colab.research.google.com/notebooks/data_table.ipynb>data table notebook</a>'\n",
              "            + ' to learn more about interactive tables.';\n",
              "          element.innerHTML = '';\n",
              "          dataTable['output_type'] = 'display_data';\n",
              "          await google.colab.output.renderOutput(dataTable, element);\n",
              "          const docLink = document.createElement('div');\n",
              "          docLink.innerHTML = docLinkHtml;\n",
              "          element.appendChild(docLink);\n",
              "        }\n",
              "      </script>\n",
              "    </div>\n",
              "  </div>\n",
              "  "
            ],
            "text/plain": [
              "          PatientId  AppointmentID  ...        Handcap   SMS_received\n",
              "count  1.105270e+05   1.105270e+05  ...  110527.000000  110527.000000\n",
              "mean   1.474963e+14   5.675305e+06  ...       0.022248       0.321026\n",
              "std    2.560949e+14   7.129575e+04  ...       0.161543       0.466873\n",
              "min    3.921784e+04   5.030230e+06  ...       0.000000       0.000000\n",
              "25%    4.172614e+12   5.640286e+06  ...       0.000000       0.000000\n",
              "50%    3.173184e+13   5.680573e+06  ...       0.000000       0.000000\n",
              "75%    9.439172e+13   5.725524e+06  ...       0.000000       1.000000\n",
              "max    9.999816e+14   5.790484e+06  ...       4.000000       1.000000\n",
              "\n",
              "[8 rows x 9 columns]"
            ]
          },
          "metadata": {},
          "execution_count": 4
        }
      ]
    },
    {
      "cell_type": "code",
      "metadata": {
        "colab": {
          "base_uri": "https://localhost:8080/"
        },
        "id": "heg3nYASAkI7",
        "outputId": "9a631b52-49ac-4d47-b12b-a69b686163be"
      },
      "source": [
        "print(noshow.dtypes)"
      ],
      "execution_count": 5,
      "outputs": [
        {
          "output_type": "stream",
          "name": "stdout",
          "text": [
            "PatientId         float64\n",
            "AppointmentID       int64\n",
            "Gender             object\n",
            "ScheduledDay       object\n",
            "AppointmentDay     object\n",
            "Age                 int64\n",
            "Neighbourhood      object\n",
            "Scholarship         int64\n",
            "Hipertension        int64\n",
            "Diabetes            int64\n",
            "Alcoholism          int64\n",
            "Handcap             int64\n",
            "SMS_received        int64\n",
            "No-show            object\n",
            "dtype: object\n"
          ]
        }
      ]
    },
    {
      "cell_type": "code",
      "source": [
        "print(noshow.isnull().sum())"
      ],
      "metadata": {
        "colab": {
          "base_uri": "https://localhost:8080/"
        },
        "id": "D8PUn4HMqb0K",
        "outputId": "6dceebd4-bd62-4e43-8a48-d1e97677e970"
      },
      "execution_count": 6,
      "outputs": [
        {
          "output_type": "stream",
          "name": "stdout",
          "text": [
            "PatientId         0\n",
            "AppointmentID     0\n",
            "Gender            0\n",
            "ScheduledDay      0\n",
            "AppointmentDay    0\n",
            "Age               0\n",
            "Neighbourhood     0\n",
            "Scholarship       0\n",
            "Hipertension      0\n",
            "Diabetes          0\n",
            "Alcoholism        0\n",
            "Handcap           0\n",
            "SMS_received      0\n",
            "No-show           0\n",
            "dtype: int64\n"
          ]
        }
      ]
    },
    {
      "cell_type": "markdown",
      "metadata": {
        "id": "RebgFarL-nEr"
      },
      "source": [
        "## **Exploratory data analysis**"
      ]
    },
    {
      "cell_type": "code",
      "metadata": {
        "colab": {
          "base_uri": "https://localhost:8080/",
          "height": 206
        },
        "id": "Vo_RYBpQd18M",
        "outputId": "cafbbf78-ad5a-4028-c6b3-20f0473c0b04"
      },
      "source": [
        "no_show = []\n",
        "for term in noshow['No-show']:\n",
        "  if term == 'No':\n",
        "    no_show.append('0')\n",
        "  elif term == 'Yes':\n",
        "    no_show.append('1')\n",
        "df = pd.Series(no_show, name='noshow')\n",
        "noshow = pd.concat([noshow, df], axis=1)\n",
        "noshow.head()"
      ],
      "execution_count": 7,
      "outputs": [
        {
          "output_type": "execute_result",
          "data": {
            "text/html": [
              "\n",
              "  <div id=\"df-1dd99952-0b67-481d-b61d-52ed67287847\">\n",
              "    <div class=\"colab-df-container\">\n",
              "      <div>\n",
              "<style scoped>\n",
              "    .dataframe tbody tr th:only-of-type {\n",
              "        vertical-align: middle;\n",
              "    }\n",
              "\n",
              "    .dataframe tbody tr th {\n",
              "        vertical-align: top;\n",
              "    }\n",
              "\n",
              "    .dataframe thead th {\n",
              "        text-align: right;\n",
              "    }\n",
              "</style>\n",
              "<table border=\"1\" class=\"dataframe\">\n",
              "  <thead>\n",
              "    <tr style=\"text-align: right;\">\n",
              "      <th></th>\n",
              "      <th>PatientId</th>\n",
              "      <th>AppointmentID</th>\n",
              "      <th>Gender</th>\n",
              "      <th>ScheduledDay</th>\n",
              "      <th>AppointmentDay</th>\n",
              "      <th>Age</th>\n",
              "      <th>Neighbourhood</th>\n",
              "      <th>Scholarship</th>\n",
              "      <th>Hipertension</th>\n",
              "      <th>Diabetes</th>\n",
              "      <th>Alcoholism</th>\n",
              "      <th>Handcap</th>\n",
              "      <th>SMS_received</th>\n",
              "      <th>No-show</th>\n",
              "      <th>noshow</th>\n",
              "    </tr>\n",
              "  </thead>\n",
              "  <tbody>\n",
              "    <tr>\n",
              "      <th>0</th>\n",
              "      <td>2.987250e+13</td>\n",
              "      <td>5642903</td>\n",
              "      <td>F</td>\n",
              "      <td>2016-04-29T18:38:08Z</td>\n",
              "      <td>2016-04-29T00:00:00Z</td>\n",
              "      <td>62</td>\n",
              "      <td>JARDIM DA PENHA</td>\n",
              "      <td>0</td>\n",
              "      <td>1</td>\n",
              "      <td>0</td>\n",
              "      <td>0</td>\n",
              "      <td>0</td>\n",
              "      <td>0</td>\n",
              "      <td>No</td>\n",
              "      <td>0</td>\n",
              "    </tr>\n",
              "    <tr>\n",
              "      <th>1</th>\n",
              "      <td>5.589978e+14</td>\n",
              "      <td>5642503</td>\n",
              "      <td>M</td>\n",
              "      <td>2016-04-29T16:08:27Z</td>\n",
              "      <td>2016-04-29T00:00:00Z</td>\n",
              "      <td>56</td>\n",
              "      <td>JARDIM DA PENHA</td>\n",
              "      <td>0</td>\n",
              "      <td>0</td>\n",
              "      <td>0</td>\n",
              "      <td>0</td>\n",
              "      <td>0</td>\n",
              "      <td>0</td>\n",
              "      <td>No</td>\n",
              "      <td>0</td>\n",
              "    </tr>\n",
              "    <tr>\n",
              "      <th>2</th>\n",
              "      <td>4.262962e+12</td>\n",
              "      <td>5642549</td>\n",
              "      <td>F</td>\n",
              "      <td>2016-04-29T16:19:04Z</td>\n",
              "      <td>2016-04-29T00:00:00Z</td>\n",
              "      <td>62</td>\n",
              "      <td>MATA DA PRAIA</td>\n",
              "      <td>0</td>\n",
              "      <td>0</td>\n",
              "      <td>0</td>\n",
              "      <td>0</td>\n",
              "      <td>0</td>\n",
              "      <td>0</td>\n",
              "      <td>No</td>\n",
              "      <td>0</td>\n",
              "    </tr>\n",
              "    <tr>\n",
              "      <th>3</th>\n",
              "      <td>8.679512e+11</td>\n",
              "      <td>5642828</td>\n",
              "      <td>F</td>\n",
              "      <td>2016-04-29T17:29:31Z</td>\n",
              "      <td>2016-04-29T00:00:00Z</td>\n",
              "      <td>8</td>\n",
              "      <td>PONTAL DE CAMBURI</td>\n",
              "      <td>0</td>\n",
              "      <td>0</td>\n",
              "      <td>0</td>\n",
              "      <td>0</td>\n",
              "      <td>0</td>\n",
              "      <td>0</td>\n",
              "      <td>No</td>\n",
              "      <td>0</td>\n",
              "    </tr>\n",
              "    <tr>\n",
              "      <th>4</th>\n",
              "      <td>8.841186e+12</td>\n",
              "      <td>5642494</td>\n",
              "      <td>F</td>\n",
              "      <td>2016-04-29T16:07:23Z</td>\n",
              "      <td>2016-04-29T00:00:00Z</td>\n",
              "      <td>56</td>\n",
              "      <td>JARDIM DA PENHA</td>\n",
              "      <td>0</td>\n",
              "      <td>1</td>\n",
              "      <td>1</td>\n",
              "      <td>0</td>\n",
              "      <td>0</td>\n",
              "      <td>0</td>\n",
              "      <td>No</td>\n",
              "      <td>0</td>\n",
              "    </tr>\n",
              "  </tbody>\n",
              "</table>\n",
              "</div>\n",
              "      <button class=\"colab-df-convert\" onclick=\"convertToInteractive('df-1dd99952-0b67-481d-b61d-52ed67287847')\"\n",
              "              title=\"Convert this dataframe to an interactive table.\"\n",
              "              style=\"display:none;\">\n",
              "        \n",
              "  <svg xmlns=\"http://www.w3.org/2000/svg\" height=\"24px\"viewBox=\"0 0 24 24\"\n",
              "       width=\"24px\">\n",
              "    <path d=\"M0 0h24v24H0V0z\" fill=\"none\"/>\n",
              "    <path d=\"M18.56 5.44l.94 2.06.94-2.06 2.06-.94-2.06-.94-.94-2.06-.94 2.06-2.06.94zm-11 1L8.5 8.5l.94-2.06 2.06-.94-2.06-.94L8.5 2.5l-.94 2.06-2.06.94zm10 10l.94 2.06.94-2.06 2.06-.94-2.06-.94-.94-2.06-.94 2.06-2.06.94z\"/><path d=\"M17.41 7.96l-1.37-1.37c-.4-.4-.92-.59-1.43-.59-.52 0-1.04.2-1.43.59L10.3 9.45l-7.72 7.72c-.78.78-.78 2.05 0 2.83L4 21.41c.39.39.9.59 1.41.59.51 0 1.02-.2 1.41-.59l7.78-7.78 2.81-2.81c.8-.78.8-2.07 0-2.86zM5.41 20L4 18.59l7.72-7.72 1.47 1.35L5.41 20z\"/>\n",
              "  </svg>\n",
              "      </button>\n",
              "      \n",
              "  <style>\n",
              "    .colab-df-container {\n",
              "      display:flex;\n",
              "      flex-wrap:wrap;\n",
              "      gap: 12px;\n",
              "    }\n",
              "\n",
              "    .colab-df-convert {\n",
              "      background-color: #E8F0FE;\n",
              "      border: none;\n",
              "      border-radius: 50%;\n",
              "      cursor: pointer;\n",
              "      display: none;\n",
              "      fill: #1967D2;\n",
              "      height: 32px;\n",
              "      padding: 0 0 0 0;\n",
              "      width: 32px;\n",
              "    }\n",
              "\n",
              "    .colab-df-convert:hover {\n",
              "      background-color: #E2EBFA;\n",
              "      box-shadow: 0px 1px 2px rgba(60, 64, 67, 0.3), 0px 1px 3px 1px rgba(60, 64, 67, 0.15);\n",
              "      fill: #174EA6;\n",
              "    }\n",
              "\n",
              "    [theme=dark] .colab-df-convert {\n",
              "      background-color: #3B4455;\n",
              "      fill: #D2E3FC;\n",
              "    }\n",
              "\n",
              "    [theme=dark] .colab-df-convert:hover {\n",
              "      background-color: #434B5C;\n",
              "      box-shadow: 0px 1px 3px 1px rgba(0, 0, 0, 0.15);\n",
              "      filter: drop-shadow(0px 1px 2px rgba(0, 0, 0, 0.3));\n",
              "      fill: #FFFFFF;\n",
              "    }\n",
              "  </style>\n",
              "\n",
              "      <script>\n",
              "        const buttonEl =\n",
              "          document.querySelector('#df-1dd99952-0b67-481d-b61d-52ed67287847 button.colab-df-convert');\n",
              "        buttonEl.style.display =\n",
              "          google.colab.kernel.accessAllowed ? 'block' : 'none';\n",
              "\n",
              "        async function convertToInteractive(key) {\n",
              "          const element = document.querySelector('#df-1dd99952-0b67-481d-b61d-52ed67287847');\n",
              "          const dataTable =\n",
              "            await google.colab.kernel.invokeFunction('convertToInteractive',\n",
              "                                                     [key], {});\n",
              "          if (!dataTable) return;\n",
              "\n",
              "          const docLinkHtml = 'Like what you see? Visit the ' +\n",
              "            '<a target=\"_blank\" href=https://colab.research.google.com/notebooks/data_table.ipynb>data table notebook</a>'\n",
              "            + ' to learn more about interactive tables.';\n",
              "          element.innerHTML = '';\n",
              "          dataTable['output_type'] = 'display_data';\n",
              "          await google.colab.output.renderOutput(dataTable, element);\n",
              "          const docLink = document.createElement('div');\n",
              "          docLink.innerHTML = docLinkHtml;\n",
              "          element.appendChild(docLink);\n",
              "        }\n",
              "      </script>\n",
              "    </div>\n",
              "  </div>\n",
              "  "
            ],
            "text/plain": [
              "      PatientId  AppointmentID Gender  ... SMS_received No-show  noshow\n",
              "0  2.987250e+13        5642903      F  ...            0      No       0\n",
              "1  5.589978e+14        5642503      M  ...            0      No       0\n",
              "2  4.262962e+12        5642549      F  ...            0      No       0\n",
              "3  8.679512e+11        5642828      F  ...            0      No       0\n",
              "4  8.841186e+12        5642494      F  ...            0      No       0\n",
              "\n",
              "[5 rows x 15 columns]"
            ]
          },
          "metadata": {},
          "execution_count": 7
        }
      ]
    },
    {
      "cell_type": "code",
      "metadata": {
        "colab": {
          "base_uri": "https://localhost:8080/",
          "height": 349
        },
        "id": "h_MqC6ihh_ye",
        "outputId": "7210c278-ec83-4491-b2f7-56e1653a7f6f"
      },
      "source": [
        "print(noshow['No-show'].value_counts())\n",
        "sns.countplot(data=noshow,x = 'No-show')"
      ],
      "execution_count": 8,
      "outputs": [
        {
          "output_type": "stream",
          "name": "stdout",
          "text": [
            "No     88208\n",
            "Yes    22319\n",
            "Name: No-show, dtype: int64\n"
          ]
        },
        {
          "output_type": "execute_result",
          "data": {
            "text/plain": [
              "<matplotlib.axes._subplots.AxesSubplot at 0x7f5b167d77d0>"
            ]
          },
          "metadata": {},
          "execution_count": 8
        },
        {
          "output_type": "display_data",
          "data": {
            "image/png": "[encoded data removed]",
            "text/plain": [
              "<Figure size 432x288 with 1 Axes>"
            ]
          },
          "metadata": {
            "needs_background": "light"
          }
        }
      ]
    },
    {
      "cell_type": "code",
      "metadata": {
        "colab": {
          "base_uri": "https://localhost:8080/",
          "height": 349
        },
        "id": "8oWBbY6_iq13",
        "outputId": "f8ebfc23-64e6-4db5-c332-bd40af232f20"
      },
      "source": [
        "print(noshow['SMS_received'].value_counts())\n",
        "sns.countplot(data=noshow,x = 'SMS_received')"
      ],
      "execution_count": 9,
      "outputs": [
        {
          "output_type": "stream",
          "name": "stdout",
          "text": [
            "0    75045\n",
            "1    35482\n",
            "Name: SMS_received, dtype: int64\n"
          ]
        },
        {
          "output_type": "execute_result",
          "data": {
            "text/plain": [
              "<matplotlib.axes._subplots.AxesSubplot at 0x7f5b15524910>"
            ]
          },
          "metadata": {},
          "execution_count": 9
        },
        {
          "output_type": "display_data",
          "data": {
            "image/png": "[encoded data removed]",
            "text/plain": [
              "<Figure size 432x288 with 1 Axes>"
            ]
          },
          "metadata": {
            "needs_background": "light"
          }
        }
      ]
    },
    {
      "cell_type": "markdown",
      "source": [
        "Because I also want to analyse other factors especially the factor of scheduling in the same day or in advance the Medical appointment may effect the relationship between SMS_received and no-show appointment, I will do data wrangling and exploratory data analysis with Appointment day and Scheduled day columns"
      ],
      "metadata": {
        "id": "KJsL6Tovy2oR"
      }
    },
    {
      "cell_type": "code",
      "metadata": {
        "colab": {
          "base_uri": "https://localhost:8080/",
          "height": 423
        },
        "id": "QnffBL1JHbI2",
        "outputId": "a3dfe645-4c19-4d67-bdce-611d73c69cdf"
      },
      "source": [
        "day = noshow[['AppointmentDay','ScheduledDay']]\n",
        "day "
      ],
      "execution_count": 10,
      "outputs": [
        {
          "output_type": "execute_result",
          "data": {
            "text/html": [
              "\n",
              "  <div id=\"df-d7db29c1-bae9-4237-bb00-541187001682\">\n",
              "    <div class=\"colab-df-container\">\n",
              "      <div>\n",
              "<style scoped>\n",
              "    .dataframe tbody tr th:only-of-type {\n",
              "        vertical-align: middle;\n",
              "    }\n",
              "\n",
              "    .dataframe tbody tr th {\n",
              "        vertical-align: top;\n",
              "    }\n",
              "\n",
              "    .dataframe thead th {\n",
              "        text-align: right;\n",
              "    }\n",
              "</style>\n",
              "<table border=\"1\" class=\"dataframe\">\n",
              "  <thead>\n",
              "    <tr style=\"text-align: right;\">\n",
              "      <th></th>\n",
              "      <th>AppointmentDay</th>\n",
              "      <th>ScheduledDay</th>\n",
              "    </tr>\n",
              "  </thead>\n",
              "  <tbody>\n",
              "    <tr>\n",
              "      <th>0</th>\n",
              "      <td>2016-04-29T00:00:00Z</td>\n",
              "      <td>2016-04-29T18:38:08Z</td>\n",
              "    </tr>\n",
              "    <tr>\n",
              "      <th>1</th>\n",
              "      <td>2016-04-29T00:00:00Z</td>\n",
              "      <td>2016-04-29T16:08:27Z</td>\n",
              "    </tr>\n",
              "    <tr>\n",
              "      <th>2</th>\n",
              "      <td>2016-04-29T00:00:00Z</td>\n",
              "      <td>2016-04-29T16:19:04Z</td>\n",
              "    </tr>\n",
              "    <tr>\n",
              "      <th>3</th>\n",
              "      <td>2016-04-29T00:00:00Z</td>\n",
              "      <td>2016-04-29T17:29:31Z</td>\n",
              "    </tr>\n",
              "    <tr>\n",
              "      <th>4</th>\n",
              "      <td>2016-04-29T00:00:00Z</td>\n",
              "      <td>2016-04-29T16:07:23Z</td>\n",
              "    </tr>\n",
              "    <tr>\n",
              "      <th>...</th>\n",
              "      <td>...</td>\n",
              "      <td>...</td>\n",
              "    </tr>\n",
              "    <tr>\n",
              "      <th>110522</th>\n",
              "      <td>2016-06-07T00:00:00Z</td>\n",
              "      <td>2016-05-03T09:15:35Z</td>\n",
              "    </tr>\n",
              "    <tr>\n",
              "      <th>110523</th>\n",
              "      <td>2016-06-07T00:00:00Z</td>\n",
              "      <td>2016-05-03T07:27:33Z</td>\n",
              "    </tr>\n",
              "    <tr>\n",
              "      <th>110524</th>\n",
              "      <td>2016-06-07T00:00:00Z</td>\n",
              "      <td>2016-04-27T16:03:52Z</td>\n",
              "    </tr>\n",
              "    <tr>\n",
              "      <th>110525</th>\n",
              "      <td>2016-06-07T00:00:00Z</td>\n",
              "      <td>2016-04-27T15:09:23Z</td>\n",
              "    </tr>\n",
              "    <tr>\n",
              "      <th>110526</th>\n",
              "      <td>2016-06-07T00:00:00Z</td>\n",
              "      <td>2016-04-27T13:30:56Z</td>\n",
              "    </tr>\n",
              "  </tbody>\n",
              "</table>\n",
              "<p>110527 rows × 2 columns</p>\n",
              "</div>\n",
              "      <button class=\"colab-df-convert\" onclick=\"convertToInteractive('df-d7db29c1-bae9-4237-bb00-541187001682')\"\n",
              "              title=\"Convert this dataframe to an interactive table.\"\n",
              "              style=\"display:none;\">\n",
              "        \n",
              "  <svg xmlns=\"http://www.w3.org/2000/svg\" height=\"24px\"viewBox=\"0 0 24 24\"\n",
              "       width=\"24px\">\n",
              "    <path d=\"M0 0h24v24H0V0z\" fill=\"none\"/>\n",
              "    <path d=\"M18.56 5.44l.94 2.06.94-2.06 2.06-.94-2.06-.94-.94-2.06-.94 2.06-2.06.94zm-11 1L8.5 8.5l.94-2.06 2.06-.94-2.06-.94L8.5 2.5l-.94 2.06-2.06.94zm10 10l.94 2.06.94-2.06 2.06-.94-2.06-.94-.94-2.06-.94 2.06-2.06.94z\"/><path d=\"M17.41 7.96l-1.37-1.37c-.4-.4-.92-.59-1.43-.59-.52 0-1.04.2-1.43.59L10.3 9.45l-7.72 7.72c-.78.78-.78 2.05 0 2.83L4 21.41c.39.39.9.59 1.41.59.51 0 1.02-.2 1.41-.59l7.78-7.78 2.81-2.81c.8-.78.8-2.07 0-2.86zM5.41 20L4 18.59l7.72-7.72 1.47 1.35L5.41 20z\"/>\n",
              "  </svg>\n",
              "      </button>\n",
              "      \n",
              "  <style>\n",
              "    .colab-df-container {\n",
              "      display:flex;\n",
              "      flex-wrap:wrap;\n",
              "      gap: 12px;\n",
              "    }\n",
              "\n",
              "    .colab-df-convert {\n",
              "      background-color: #E8F0FE;\n",
              "      border: none;\n",
              "      border-radius: 50%;\n",
              "      cursor: pointer;\n",
              "      display: none;\n",
              "      fill: #1967D2;\n",
              "      height: 32px;\n",
              "      padding: 0 0 0 0;\n",
              "      width: 32px;\n",
              "    }\n",
              "\n",
              "    .colab-df-convert:hover {\n",
              "      background-color: #E2EBFA;\n",
              "      box-shadow: 0px 1px 2px rgba(60, 64, 67, 0.3), 0px 1px 3px 1px rgba(60, 64, 67, 0.15);\n",
              "      fill: #174EA6;\n",
              "    }\n",
              "\n",
              "    [theme=dark] .colab-df-convert {\n",
              "      background-color: #3B4455;\n",
              "      fill: #D2E3FC;\n",
              "    }\n",
              "\n",
              "    [theme=dark] .colab-df-convert:hover {\n",
              "      background-color: #434B5C;\n",
              "      box-shadow: 0px 1px 3px 1px rgba(0, 0, 0, 0.15);\n",
              "      filter: drop-shadow(0px 1px 2px rgba(0, 0, 0, 0.3));\n",
              "      fill: #FFFFFF;\n",
              "    }\n",
              "  </style>\n",
              "\n",
              "      <script>\n",
              "        const buttonEl =\n",
              "          document.querySelector('#df-d7db29c1-bae9-4237-bb00-541187001682 button.colab-df-convert');\n",
              "        buttonEl.style.display =\n",
              "          google.colab.kernel.accessAllowed ? 'block' : 'none';\n",
              "\n",
              "        async function convertToInteractive(key) {\n",
              "          const element = document.querySelector('#df-d7db29c1-bae9-4237-bb00-541187001682');\n",
              "          const dataTable =\n",
              "            await google.colab.kernel.invokeFunction('convertToInteractive',\n",
              "                                                     [key], {});\n",
              "          if (!dataTable) return;\n",
              "\n",
              "          const docLinkHtml = 'Like what you see? Visit the ' +\n",
              "            '<a target=\"_blank\" href=https://colab.research.google.com/notebooks/data_table.ipynb>data table notebook</a>'\n",
              "            + ' to learn more about interactive tables.';\n",
              "          element.innerHTML = '';\n",
              "          dataTable['output_type'] = 'display_data';\n",
              "          await google.colab.output.renderOutput(dataTable, element);\n",
              "          const docLink = document.createElement('div');\n",
              "          docLink.innerHTML = docLinkHtml;\n",
              "          element.appendChild(docLink);\n",
              "        }\n",
              "      </script>\n",
              "    </div>\n",
              "  </div>\n",
              "  "
            ],
            "text/plain": [
              "              AppointmentDay          ScheduledDay\n",
              "0       2016-04-29T00:00:00Z  2016-04-29T18:38:08Z\n",
              "1       2016-04-29T00:00:00Z  2016-04-29T16:08:27Z\n",
              "2       2016-04-29T00:00:00Z  2016-04-29T16:19:04Z\n",
              "3       2016-04-29T00:00:00Z  2016-04-29T17:29:31Z\n",
              "4       2016-04-29T00:00:00Z  2016-04-29T16:07:23Z\n",
              "...                      ...                   ...\n",
              "110522  2016-06-07T00:00:00Z  2016-05-03T09:15:35Z\n",
              "110523  2016-06-07T00:00:00Z  2016-05-03T07:27:33Z\n",
              "110524  2016-06-07T00:00:00Z  2016-04-27T16:03:52Z\n",
              "110525  2016-06-07T00:00:00Z  2016-04-27T15:09:23Z\n",
              "110526  2016-06-07T00:00:00Z  2016-04-27T13:30:56Z\n",
              "\n",
              "[110527 rows x 2 columns]"
            ]
          },
          "metadata": {},
          "execution_count": 10
        }
      ]
    },
    {
      "cell_type": "code",
      "source": [
        "month = []\n",
        "year = []\n",
        "month1 = []\n",
        "year1 = []\n",
        "for s,a in zip(day['ScheduledDay'].values,day['AppointmentDay'].values):\n",
        "  schedule = s.split('-')\n",
        "  appoint = a.split('-')\n",
        "  year.append(schedule[0]) \n",
        "  month.append(schedule[1]) \n",
        "  month1.append(appoint[1]) \n",
        "  year1.append(appoint[0]) \n",
        "Scheduled1 = pd.Series(month, name='Month_Sched')\n",
        "Scheduled2 = pd.Series(year, name='Year_Sched')\n",
        "Scheduled3 = pd.Series(month1, name='Month_App')\n",
        "Scheduled4 = pd.Series(year1, name='Year_App')\n",
        "day = pd.concat([day, Scheduled1, Scheduled2, Scheduled3, Scheduled4], axis=1)\n",
        "day"
      ],
      "metadata": {
        "colab": {
          "base_uri": "https://localhost:8080/",
          "height": 423
        },
        "id": "h8fXeCz_mL_j",
        "outputId": "38d99ad0-d43c-41dd-c7cc-897c4768ab7e"
      },
      "execution_count": 11,
      "outputs": [
        {
          "output_type": "execute_result",
          "data": {
            "text/html": [
              "\n",
              "  <div id=\"df-71a7d856-e49d-4081-ad63-ea7dd774caf1\">\n",
              "    <div class=\"colab-df-container\">\n",
              "      <div>\n",
              "<style scoped>\n",
              "    .dataframe tbody tr th:only-of-type {\n",
              "        vertical-align: middle;\n",
              "    }\n",
              "\n",
              "    .dataframe tbody tr th {\n",
              "        vertical-align: top;\n",
              "    }\n",
              "\n",
              "    .dataframe thead th {\n",
              "        text-align: right;\n",
              "    }\n",
              "</style>\n",
              "<table border=\"1\" class=\"dataframe\">\n",
              "  <thead>\n",
              "    <tr style=\"text-align: right;\">\n",
              "      <th></th>\n",
              "      <th>AppointmentDay</th>\n",
              "      <th>ScheduledDay</th>\n",
              "      <th>Month_Sched</th>\n",
              "      <th>Year_Sched</th>\n",
              "      <th>Month_App</th>\n",
              "      <th>Year_App</th>\n",
              "    </tr>\n",
              "  </thead>\n",
              "  <tbody>\n",
              "    <tr>\n",
              "      <th>0</th>\n",
              "      <td>2016-04-29T00:00:00Z</td>\n",
              "      <td>2016-04-29T18:38:08Z</td>\n",
              "      <td>04</td>\n",
              "      <td>2016</td>\n",
              "      <td>04</td>\n",
              "      <td>2016</td>\n",
              "    </tr>\n",
              "    <tr>\n",
              "      <th>1</th>\n",
              "      <td>2016-04-29T00:00:00Z</td>\n",
              "      <td>2016-04-29T16:08:27Z</td>\n",
              "      <td>04</td>\n",
              "      <td>2016</td>\n",
              "      <td>04</td>\n",
              "      <td>2016</td>\n",
              "    </tr>\n",
              "    <tr>\n",
              "      <th>2</th>\n",
              "      <td>2016-04-29T00:00:00Z</td>\n",
              "      <td>2016-04-29T16:19:04Z</td>\n",
              "      <td>04</td>\n",
              "      <td>2016</td>\n",
              "      <td>04</td>\n",
              "      <td>2016</td>\n",
              "    </tr>\n",
              "    <tr>\n",
              "      <th>3</th>\n",
              "      <td>2016-04-29T00:00:00Z</td>\n",
              "      <td>2016-04-29T17:29:31Z</td>\n",
              "      <td>04</td>\n",
              "      <td>2016</td>\n",
              "      <td>04</td>\n",
              "      <td>2016</td>\n",
              "    </tr>\n",
              "    <tr>\n",
              "      <th>4</th>\n",
              "      <td>2016-04-29T00:00:00Z</td>\n",
              "      <td>2016-04-29T16:07:23Z</td>\n",
              "      <td>04</td>\n",
              "      <td>2016</td>\n",
              "      <td>04</td>\n",
              "      <td>2016</td>\n",
              "    </tr>\n",
              "    <tr>\n",
              "      <th>...</th>\n",
              "      <td>...</td>\n",
              "      <td>...</td>\n",
              "      <td>...</td>\n",
              "      <td>...</td>\n",
              "      <td>...</td>\n",
              "      <td>...</td>\n",
              "    </tr>\n",
              "    <tr>\n",
              "      <th>110522</th>\n",
              "      <td>2016-06-07T00:00:00Z</td>\n",
              "      <td>2016-05-03T09:15:35Z</td>\n",
              "      <td>05</td>\n",
              "      <td>2016</td>\n",
              "      <td>06</td>\n",
              "      <td>2016</td>\n",
              "    </tr>\n",
              "    <tr>\n",
              "      <th>110523</th>\n",
              "      <td>2016-06-07T00:00:00Z</td>\n",
              "      <td>2016-05-03T07:27:33Z</td>\n",
              "      <td>05</td>\n",
              "      <td>2016</td>\n",
              "      <td>06</td>\n",
              "      <td>2016</td>\n",
              "    </tr>\n",
              "    <tr>\n",
              "      <th>110524</th>\n",
              "      <td>2016-06-07T00:00:00Z</td>\n",
              "      <td>2016-04-27T16:03:52Z</td>\n",
              "      <td>04</td>\n",
              "      <td>2016</td>\n",
              "      <td>06</td>\n",
              "      <td>2016</td>\n",
              "    </tr>\n",
              "    <tr>\n",
              "      <th>110525</th>\n",
              "      <td>2016-06-07T00:00:00Z</td>\n",
              "      <td>2016-04-27T15:09:23Z</td>\n",
              "      <td>04</td>\n",
              "      <td>2016</td>\n",
              "      <td>06</td>\n",
              "      <td>2016</td>\n",
              "    </tr>\n",
              "    <tr>\n",
              "      <th>110526</th>\n",
              "      <td>2016-06-07T00:00:00Z</td>\n",
              "      <td>2016-04-27T13:30:56Z</td>\n",
              "      <td>04</td>\n",
              "      <td>2016</td>\n",
              "      <td>06</td>\n",
              "      <td>2016</td>\n",
              "    </tr>\n",
              "  </tbody>\n",
              "</table>\n",
              "<p>110527 rows × 6 columns</p>\n",
              "</div>\n",
              "      <button class=\"colab-df-convert\" onclick=\"convertToInteractive('df-71a7d856-e49d-4081-ad63-ea7dd774caf1')\"\n",
              "              title=\"Convert this dataframe to an interactive table.\"\n",
              "              style=\"display:none;\">\n",
              "        \n",
              "  <svg xmlns=\"http://www.w3.org/2000/svg\" height=\"24px\"viewBox=\"0 0 24 24\"\n",
              "       width=\"24px\">\n",
              "    <path d=\"M0 0h24v24H0V0z\" fill=\"none\"/>\n",
              "    <path d=\"M18.56 5.44l.94 2.06.94-2.06 2.06-.94-2.06-.94-.94-2.06-.94 2.06-2.06.94zm-11 1L8.5 8.5l.94-2.06 2.06-.94-2.06-.94L8.5 2.5l-.94 2.06-2.06.94zm10 10l.94 2.06.94-2.06 2.06-.94-2.06-.94-.94-2.06-.94 2.06-2.06.94z\"/><path d=\"M17.41 7.96l-1.37-1.37c-.4-.4-.92-.59-1.43-.59-.52 0-1.04.2-1.43.59L10.3 9.45l-7.72 7.72c-.78.78-.78 2.05 0 2.83L4 21.41c.39.39.9.59 1.41.59.51 0 1.02-.2 1.41-.59l7.78-7.78 2.81-2.81c.8-.78.8-2.07 0-2.86zM5.41 20L4 18.59l7.72-7.72 1.47 1.35L5.41 20z\"/>\n",
              "  </svg>\n",
              "      </button>\n",
              "      \n",
              "  <style>\n",
              "    .colab-df-container {\n",
              "      display:flex;\n",
              "      flex-wrap:wrap;\n",
              "      gap: 12px;\n",
              "    }\n",
              "\n",
              "    .colab-df-convert {\n",
              "      background-color: #E8F0FE;\n",
              "      border: none;\n",
              "      border-radius: 50%;\n",
              "      cursor: pointer;\n",
              "      display: none;\n",
              "      fill: #1967D2;\n",
              "      height: 32px;\n",
              "      padding: 0 0 0 0;\n",
              "      width: 32px;\n",
              "    }\n",
              "\n",
              "    .colab-df-convert:hover {\n",
              "      background-color: #E2EBFA;\n",
              "      box-shadow: 0px 1px 2px rgba(60, 64, 67, 0.3), 0px 1px 3px 1px rgba(60, 64, 67, 0.15);\n",
              "      fill: #174EA6;\n",
              "    }\n",
              "\n",
              "    [theme=dark] .colab-df-convert {\n",
              "      background-color: #3B4455;\n",
              "      fill: #D2E3FC;\n",
              "    }\n",
              "\n",
              "    [theme=dark] .colab-df-convert:hover {\n",
              "      background-color: #434B5C;\n",
              "      box-shadow: 0px 1px 3px 1px rgba(0, 0, 0, 0.15);\n",
              "      filter: drop-shadow(0px 1px 2px rgba(0, 0, 0, 0.3));\n",
              "      fill: #FFFFFF;\n",
              "    }\n",
              "  </style>\n",
              "\n",
              "      <script>\n",
              "        const buttonEl =\n",
              "          document.querySelector('#df-71a7d856-e49d-4081-ad63-ea7dd774caf1 button.colab-df-convert');\n",
              "        buttonEl.style.display =\n",
              "          google.colab.kernel.accessAllowed ? 'block' : 'none';\n",
              "\n",
              "        async function convertToInteractive(key) {\n",
              "          const element = document.querySelector('#df-71a7d856-e49d-4081-ad63-ea7dd774caf1');\n",
              "          const dataTable =\n",
              "            await google.colab.kernel.invokeFunction('convertToInteractive',\n",
              "                                                     [key], {});\n",
              "          if (!dataTable) return;\n",
              "\n",
              "          const docLinkHtml = 'Like what you see? Visit the ' +\n",
              "            '<a target=\"_blank\" href=https://colab.research.google.com/notebooks/data_table.ipynb>data table notebook</a>'\n",
              "            + ' to learn more about interactive tables.';\n",
              "          element.innerHTML = '';\n",
              "          dataTable['output_type'] = 'display_data';\n",
              "          await google.colab.output.renderOutput(dataTable, element);\n",
              "          const docLink = document.createElement('div');\n",
              "          docLink.innerHTML = docLinkHtml;\n",
              "          element.appendChild(docLink);\n",
              "        }\n",
              "      </script>\n",
              "    </div>\n",
              "  </div>\n",
              "  "
            ],
            "text/plain": [
              "              AppointmentDay          ScheduledDay  ... Month_App Year_App\n",
              "0       2016-04-29T00:00:00Z  2016-04-29T18:38:08Z  ...        04     2016\n",
              "1       2016-04-29T00:00:00Z  2016-04-29T16:08:27Z  ...        04     2016\n",
              "2       2016-04-29T00:00:00Z  2016-04-29T16:19:04Z  ...        04     2016\n",
              "3       2016-04-29T00:00:00Z  2016-04-29T17:29:31Z  ...        04     2016\n",
              "4       2016-04-29T00:00:00Z  2016-04-29T16:07:23Z  ...        04     2016\n",
              "...                      ...                   ...  ...       ...      ...\n",
              "110522  2016-06-07T00:00:00Z  2016-05-03T09:15:35Z  ...        06     2016\n",
              "110523  2016-06-07T00:00:00Z  2016-05-03T07:27:33Z  ...        06     2016\n",
              "110524  2016-06-07T00:00:00Z  2016-04-27T16:03:52Z  ...        06     2016\n",
              "110525  2016-06-07T00:00:00Z  2016-04-27T15:09:23Z  ...        06     2016\n",
              "110526  2016-06-07T00:00:00Z  2016-04-27T13:30:56Z  ...        06     2016\n",
              "\n",
              "[110527 rows x 6 columns]"
            ]
          },
          "metadata": {},
          "execution_count": 11
        }
      ]
    },
    {
      "cell_type": "code",
      "source": [
        "year = day['Year_Sched'].value_counts().reset_index()\n",
        "year['Year_App'] = day['Year_App'].value_counts().reset_index()[['Year_App']]\n",
        "year['Year_App'].replace(to_replace= np.nan, value=0, inplace=True)\n",
        "year"
      ],
      "metadata": {
        "colab": {
          "base_uri": "https://localhost:8080/",
          "height": 112
        },
        "id": "2AqNe-EXvTWJ",
        "outputId": "85cd293e-af4d-4f8f-da96-52cf03be1fde"
      },
      "execution_count": 12,
      "outputs": [
        {
          "output_type": "execute_result",
          "data": {
            "text/html": [
              "\n",
              "  <div id=\"df-fa694235-ad2b-4db4-aa55-ffce65533795\">\n",
              "    <div class=\"colab-df-container\">\n",
              "      <div>\n",
              "<style scoped>\n",
              "    .dataframe tbody tr th:only-of-type {\n",
              "        vertical-align: middle;\n",
              "    }\n",
              "\n",
              "    .dataframe tbody tr th {\n",
              "        vertical-align: top;\n",
              "    }\n",
              "\n",
              "    .dataframe thead th {\n",
              "        text-align: right;\n",
              "    }\n",
              "</style>\n",
              "<table border=\"1\" class=\"dataframe\">\n",
              "  <thead>\n",
              "    <tr style=\"text-align: right;\">\n",
              "      <th></th>\n",
              "      <th>index</th>\n",
              "      <th>Year_Sched</th>\n",
              "      <th>Year_App</th>\n",
              "    </tr>\n",
              "  </thead>\n",
              "  <tbody>\n",
              "    <tr>\n",
              "      <th>0</th>\n",
              "      <td>2016</td>\n",
              "      <td>110465</td>\n",
              "      <td>110527.0</td>\n",
              "    </tr>\n",
              "    <tr>\n",
              "      <th>1</th>\n",
              "      <td>2015</td>\n",
              "      <td>62</td>\n",
              "      <td>0.0</td>\n",
              "    </tr>\n",
              "  </tbody>\n",
              "</table>\n",
              "</div>\n",
              "      <button class=\"colab-df-convert\" onclick=\"convertToInteractive('df-fa694235-ad2b-4db4-aa55-ffce65533795')\"\n",
              "              title=\"Convert this dataframe to an interactive table.\"\n",
              "              style=\"display:none;\">\n",
              "        \n",
              "  <svg xmlns=\"http://www.w3.org/2000/svg\" height=\"24px\"viewBox=\"0 0 24 24\"\n",
              "       width=\"24px\">\n",
              "    <path d=\"M0 0h24v24H0V0z\" fill=\"none\"/>\n",
              "    <path d=\"M18.56 5.44l.94 2.06.94-2.06 2.06-.94-2.06-.94-.94-2.06-.94 2.06-2.06.94zm-11 1L8.5 8.5l.94-2.06 2.06-.94-2.06-.94L8.5 2.5l-.94 2.06-2.06.94zm10 10l.94 2.06.94-2.06 2.06-.94-2.06-.94-.94-2.06-.94 2.06-2.06.94z\"/><path d=\"M17.41 7.96l-1.37-1.37c-.4-.4-.92-.59-1.43-.59-.52 0-1.04.2-1.43.59L10.3 9.45l-7.72 7.72c-.78.78-.78 2.05 0 2.83L4 21.41c.39.39.9.59 1.41.59.51 0 1.02-.2 1.41-.59l7.78-7.78 2.81-2.81c.8-.78.8-2.07 0-2.86zM5.41 20L4 18.59l7.72-7.72 1.47 1.35L5.41 20z\"/>\n",
              "  </svg>\n",
              "      </button>\n",
              "      \n",
              "  <style>\n",
              "    .colab-df-container {\n",
              "      display:flex;\n",
              "      flex-wrap:wrap;\n",
              "      gap: 12px;\n",
              "    }\n",
              "\n",
              "    .colab-df-convert {\n",
              "      background-color: #E8F0FE;\n",
              "      border: none;\n",
              "      border-radius: 50%;\n",
              "      cursor: pointer;\n",
              "      display: none;\n",
              "      fill: #1967D2;\n",
              "      height: 32px;\n",
              "      padding: 0 0 0 0;\n",
              "      width: 32px;\n",
              "    }\n",
              "\n",
              "    .colab-df-convert:hover {\n",
              "      background-color: #E2EBFA;\n",
              "      box-shadow: 0px 1px 2px rgba(60, 64, 67, 0.3), 0px 1px 3px 1px rgba(60, 64, 67, 0.15);\n",
              "      fill: #174EA6;\n",
              "    }\n",
              "\n",
              "    [theme=dark] .colab-df-convert {\n",
              "      background-color: #3B4455;\n",
              "      fill: #D2E3FC;\n",
              "    }\n",
              "\n",
              "    [theme=dark] .colab-df-convert:hover {\n",
              "      background-color: #434B5C;\n",
              "      box-shadow: 0px 1px 3px 1px rgba(0, 0, 0, 0.15);\n",
              "      filter: drop-shadow(0px 1px 2px rgba(0, 0, 0, 0.3));\n",
              "      fill: #FFFFFF;\n",
              "    }\n",
              "  </style>\n",
              "\n",
              "      <script>\n",
              "        const buttonEl =\n",
              "          document.querySelector('#df-fa694235-ad2b-4db4-aa55-ffce65533795 button.colab-df-convert');\n",
              "        buttonEl.style.display =\n",
              "          google.colab.kernel.accessAllowed ? 'block' : 'none';\n",
              "\n",
              "        async function convertToInteractive(key) {\n",
              "          const element = document.querySelector('#df-fa694235-ad2b-4db4-aa55-ffce65533795');\n",
              "          const dataTable =\n",
              "            await google.colab.kernel.invokeFunction('convertToInteractive',\n",
              "                                                     [key], {});\n",
              "          if (!dataTable) return;\n",
              "\n",
              "          const docLinkHtml = 'Like what you see? Visit the ' +\n",
              "            '<a target=\"_blank\" href=https://colab.research.google.com/notebooks/data_table.ipynb>data table notebook</a>'\n",
              "            + ' to learn more about interactive tables.';\n",
              "          element.innerHTML = '';\n",
              "          dataTable['output_type'] = 'display_data';\n",
              "          await google.colab.output.renderOutput(dataTable, element);\n",
              "          const docLink = document.createElement('div');\n",
              "          docLink.innerHTML = docLinkHtml;\n",
              "          element.appendChild(docLink);\n",
              "        }\n",
              "      </script>\n",
              "    </div>\n",
              "  </div>\n",
              "  "
            ],
            "text/plain": [
              "  index  Year_Sched  Year_App\n",
              "0  2016      110465  110527.0\n",
              "1  2015          62       0.0"
            ]
          },
          "metadata": {},
          "execution_count": 12
        }
      ]
    },
    {
      "cell_type": "code",
      "source": [
        "month = day['Month_Sched'].value_counts().reset_index()\n",
        "month['Month_App'] = day['Month_App'].value_counts().reset_index()[['Month_App']]\n",
        "month['Month_App'].replace(to_replace= np.nan, value=0, inplace=True)\n",
        "month = month.set_index(\"index\")\n",
        "month.index.names = [None]\n",
        "month"
      ],
      "metadata": {
        "colab": {
          "base_uri": "https://localhost:8080/",
          "height": 300
        },
        "id": "ofhpwUMBwWJh",
        "outputId": "56f90750-704d-4761-a1f3-f8cd8dc800e2"
      },
      "execution_count": 13,
      "outputs": [
        {
          "output_type": "execute_result",
          "data": {
            "text/html": [
              "\n",
              "  <div id=\"df-13d83fda-8b5d-4356-b5d5-7d17bde92a18\">\n",
              "    <div class=\"colab-df-container\">\n",
              "      <div>\n",
              "<style scoped>\n",
              "    .dataframe tbody tr th:only-of-type {\n",
              "        vertical-align: middle;\n",
              "    }\n",
              "\n",
              "    .dataframe tbody tr th {\n",
              "        vertical-align: top;\n",
              "    }\n",
              "\n",
              "    .dataframe thead th {\n",
              "        text-align: right;\n",
              "    }\n",
              "</style>\n",
              "<table border=\"1\" class=\"dataframe\">\n",
              "  <thead>\n",
              "    <tr style=\"text-align: right;\">\n",
              "      <th></th>\n",
              "      <th>Month_Sched</th>\n",
              "      <th>Month_App</th>\n",
              "    </tr>\n",
              "  </thead>\n",
              "  <tbody>\n",
              "    <tr>\n",
              "      <th>05</th>\n",
              "      <td>67421</td>\n",
              "      <td>80841.0</td>\n",
              "    </tr>\n",
              "    <tr>\n",
              "      <th>04</th>\n",
              "      <td>25339</td>\n",
              "      <td>26451.0</td>\n",
              "    </tr>\n",
              "    <tr>\n",
              "      <th>06</th>\n",
              "      <td>13750</td>\n",
              "      <td>3235.0</td>\n",
              "    </tr>\n",
              "    <tr>\n",
              "      <th>03</th>\n",
              "      <td>3614</td>\n",
              "      <td>0.0</td>\n",
              "    </tr>\n",
              "    <tr>\n",
              "      <th>02</th>\n",
              "      <td>281</td>\n",
              "      <td>0.0</td>\n",
              "    </tr>\n",
              "    <tr>\n",
              "      <th>12</th>\n",
              "      <td>61</td>\n",
              "      <td>0.0</td>\n",
              "    </tr>\n",
              "    <tr>\n",
              "      <th>01</th>\n",
              "      <td>60</td>\n",
              "      <td>0.0</td>\n",
              "    </tr>\n",
              "    <tr>\n",
              "      <th>11</th>\n",
              "      <td>1</td>\n",
              "      <td>0.0</td>\n",
              "    </tr>\n",
              "  </tbody>\n",
              "</table>\n",
              "</div>\n",
              "      <button class=\"colab-df-convert\" onclick=\"convertToInteractive('df-13d83fda-8b5d-4356-b5d5-7d17bde92a18')\"\n",
              "              title=\"Convert this dataframe to an interactive table.\"\n",
              "              style=\"display:none;\">\n",
              "        \n",
              "  <svg xmlns=\"http://www.w3.org/2000/svg\" height=\"24px\"viewBox=\"0 0 24 24\"\n",
              "       width=\"24px\">\n",
              "    <path d=\"M0 0h24v24H0V0z\" fill=\"none\"/>\n",
              "    <path d=\"M18.56 5.44l.94 2.06.94-2.06 2.06-.94-2.06-.94-.94-2.06-.94 2.06-2.06.94zm-11 1L8.5 8.5l.94-2.06 2.06-.94-2.06-.94L8.5 2.5l-.94 2.06-2.06.94zm10 10l.94 2.06.94-2.06 2.06-.94-2.06-.94-.94-2.06-.94 2.06-2.06.94z\"/><path d=\"M17.41 7.96l-1.37-1.37c-.4-.4-.92-.59-1.43-.59-.52 0-1.04.2-1.43.59L10.3 9.45l-7.72 7.72c-.78.78-.78 2.05 0 2.83L4 21.41c.39.39.9.59 1.41.59.51 0 1.02-.2 1.41-.59l7.78-7.78 2.81-2.81c.8-.78.8-2.07 0-2.86zM5.41 20L4 18.59l7.72-7.72 1.47 1.35L5.41 20z\"/>\n",
              "  </svg>\n",
              "      </button>\n",
              "      \n",
              "  <style>\n",
              "    .colab-df-container {\n",
              "      display:flex;\n",
              "      flex-wrap:wrap;\n",
              "      gap: 12px;\n",
              "    }\n",
              "\n",
              "    .colab-df-convert {\n",
              "      background-color: #E8F0FE;\n",
              "      border: none;\n",
              "      border-radius: 50%;\n",
              "      cursor: pointer;\n",
              "      display: none;\n",
              "      fill: #1967D2;\n",
              "      height: 32px;\n",
              "      padding: 0 0 0 0;\n",
              "      width: 32px;\n",
              "    }\n",
              "\n",
              "    .colab-df-convert:hover {\n",
              "      background-color: #E2EBFA;\n",
              "      box-shadow: 0px 1px 2px rgba(60, 64, 67, 0.3), 0px 1px 3px 1px rgba(60, 64, 67, 0.15);\n",
              "      fill: #174EA6;\n",
              "    }\n",
              "\n",
              "    [theme=dark] .colab-df-convert {\n",
              "      background-color: #3B4455;\n",
              "      fill: #D2E3FC;\n",
              "    }\n",
              "\n",
              "    [theme=dark] .colab-df-convert:hover {\n",
              "      background-color: #434B5C;\n",
              "      box-shadow: 0px 1px 3px 1px rgba(0, 0, 0, 0.15);\n",
              "      filter: drop-shadow(0px 1px 2px rgba(0, 0, 0, 0.3));\n",
              "      fill: #FFFFFF;\n",
              "    }\n",
              "  </style>\n",
              "\n",
              "      <script>\n",
              "        const buttonEl =\n",
              "          document.querySelector('#df-13d83fda-8b5d-4356-b5d5-7d17bde92a18 button.colab-df-convert');\n",
              "        buttonEl.style.display =\n",
              "          google.colab.kernel.accessAllowed ? 'block' : 'none';\n",
              "\n",
              "        async function convertToInteractive(key) {\n",
              "          const element = document.querySelector('#df-13d83fda-8b5d-4356-b5d5-7d17bde92a18');\n",
              "          const dataTable =\n",
              "            await google.colab.kernel.invokeFunction('convertToInteractive',\n",
              "                                                     [key], {});\n",
              "          if (!dataTable) return;\n",
              "\n",
              "          const docLinkHtml = 'Like what you see? Visit the ' +\n",
              "            '<a target=\"_blank\" href=https://colab.research.google.com/notebooks/data_table.ipynb>data table notebook</a>'\n",
              "            + ' to learn more about interactive tables.';\n",
              "          element.innerHTML = '';\n",
              "          dataTable['output_type'] = 'display_data';\n",
              "          await google.colab.output.renderOutput(dataTable, element);\n",
              "          const docLink = document.createElement('div');\n",
              "          docLink.innerHTML = docLinkHtml;\n",
              "          element.appendChild(docLink);\n",
              "        }\n",
              "      </script>\n",
              "    </div>\n",
              "  </div>\n",
              "  "
            ],
            "text/plain": [
              "    Month_Sched  Month_App\n",
              "05        67421    80841.0\n",
              "04        25339    26451.0\n",
              "06        13750     3235.0\n",
              "03         3614        0.0\n",
              "02          281        0.0\n",
              "12           61        0.0\n",
              "01           60        0.0\n",
              "11            1        0.0"
            ]
          },
          "metadata": {},
          "execution_count": 13
        }
      ]
    },
    {
      "cell_type": "code",
      "source": [
        "month.plot(kind='bar', figsize = (20,6))\n",
        "plt.xlabel('Month')\n",
        "plt.ylabel('The number of appointment booked in each month')"
      ],
      "metadata": {
        "colab": {
          "base_uri": "https://localhost:8080/",
          "height": 409
        },
        "id": "7qCSQavjxJdd",
        "outputId": "2deac095-10cc-455c-d470-2d7d7498a6ac"
      },
      "execution_count": 28,
      "outputs": [
        {
          "output_type": "execute_result",
          "data": {
            "text/plain": [
              "Text(0, 0.5, 'The number of appointment booked in each month')"
            ]
          },
          "metadata": {},
          "execution_count": 28
        },
        {
          "output_type": "display_data",
          "data": {
            "image/png": "[encoded data removed]",
            "text/plain": [
              "<Figure size 1440x432 with 1 Axes>"
            ]
          },
          "metadata": {
            "needs_background": "light"
          }
        }
      ]
    },
    {
      "cell_type": "markdown",
      "source": [
        "We can see that mostly people booked their Medical appointment in summer (around April, May and June)"
      ],
      "metadata": {
        "id": "7zAc-FrSyWsp"
      }
    },
    {
      "cell_type": "markdown",
      "source": [
        "### **Feature engineering**"
      ],
      "metadata": {
        "id": "jy53pWZ8x3IW"
      }
    },
    {
      "cell_type": "markdown",
      "source": [
        "We will select the features that will be used in statistical analysis and prediction in the future module. <br>\n",
        "Firstly, creating \"in advance\" column (people booking in advance the appointment day) and \"same day\" column (people booking in the same day with the appointment day)"
      ],
      "metadata": {
        "id": "HPN6uh2ByikF"
      }
    },
    {
      "cell_type": "code",
      "metadata": {
        "id": "jRe8b1r-jLuV"
      },
      "source": [
        "booking = []\n",
        "for i in range(0,len(day)):\n",
        "  if day['Year_Sched'][i] < day['Year_App'][i]:\n",
        "    booking.append('in advance')\n",
        "  elif day['Year_Sched'][i] == day['Year_App'][i]:\n",
        "    if day['Month_Sched'][i] == day['Month_App'][i]:\n",
        "      booking.append('same day')\n",
        "    elif day['Month_Sched'][i] < day['Month_App'][i]:\n",
        "      booking.append('in advance')\n",
        "Booking = pd.Series(booking, name='Reservation')\n",
        "day = pd.concat([day, Booking], axis=1)   \n"
      ],
      "execution_count": 15,
      "outputs": []
    },
    {
      "cell_type": "code",
      "metadata": {
        "id": "5yqg3o-tQLny"
      },
      "source": [
        "In_adv = []\n",
        "for i in day['Reservation']:\n",
        "  if i == 'same day':\n",
        "    In_adv.append('0')\n",
        "  elif i == 'in advance':\n",
        "    In_adv.append('1')\n",
        "inadv = pd.Series(In_adv, name='In_advance')\n",
        "day = pd.concat([day, inadv], axis=1)"
      ],
      "execution_count": 16,
      "outputs": []
    },
    {
      "cell_type": "markdown",
      "source": [
        "We will do data transform for \"In_advance\" column so that in the next section we will easily see the frequency of no-show (Yes or No) in \"In_advance\" variable. "
      ],
      "metadata": {
        "id": "tLioosdOGx0X"
      }
    },
    {
      "cell_type": "code",
      "source": [
        "in_adv_trans = preprocessing.StandardScaler().fit(day[['In_advance']].values).transform(day[['In_advance']].values)\n",
        "day['transform'] = pd.DataFrame(in_adv_trans)[[0]]\n",
        "day.head()"
      ],
      "metadata": {
        "colab": {
          "base_uri": "https://localhost:8080/",
          "height": 206
        },
        "id": "CDQ11OegF6au",
        "outputId": "628483db-a5a0-43f8-c07b-b2a1119bfa89"
      },
      "execution_count": 18,
      "outputs": [
        {
          "output_type": "execute_result",
          "data": {
            "text/html": [
              "\n",
              "  <div id=\"df-e59b7211-d320-4874-ac78-35147d088375\">\n",
              "    <div class=\"colab-df-container\">\n",
              "      <div>\n",
              "<style scoped>\n",
              "    .dataframe tbody tr th:only-of-type {\n",
              "        vertical-align: middle;\n",
              "    }\n",
              "\n",
              "    .dataframe tbody tr th {\n",
              "        vertical-align: top;\n",
              "    }\n",
              "\n",
              "    .dataframe thead th {\n",
              "        text-align: right;\n",
              "    }\n",
              "</style>\n",
              "<table border=\"1\" class=\"dataframe\">\n",
              "  <thead>\n",
              "    <tr style=\"text-align: right;\">\n",
              "      <th></th>\n",
              "      <th>AppointmentDay</th>\n",
              "      <th>ScheduledDay</th>\n",
              "      <th>Month_Sched</th>\n",
              "      <th>Year_Sched</th>\n",
              "      <th>Month_App</th>\n",
              "      <th>Year_App</th>\n",
              "      <th>Reservation</th>\n",
              "      <th>In_advance</th>\n",
              "      <th>transform</th>\n",
              "    </tr>\n",
              "  </thead>\n",
              "  <tbody>\n",
              "    <tr>\n",
              "      <th>0</th>\n",
              "      <td>2016-04-29T00:00:00Z</td>\n",
              "      <td>2016-04-29T18:38:08Z</td>\n",
              "      <td>04</td>\n",
              "      <td>2016</td>\n",
              "      <td>04</td>\n",
              "      <td>2016</td>\n",
              "      <td>same day</td>\n",
              "      <td>0</td>\n",
              "      <td>-0.715843</td>\n",
              "    </tr>\n",
              "    <tr>\n",
              "      <th>1</th>\n",
              "      <td>2016-04-29T00:00:00Z</td>\n",
              "      <td>2016-04-29T16:08:27Z</td>\n",
              "      <td>04</td>\n",
              "      <td>2016</td>\n",
              "      <td>04</td>\n",
              "      <td>2016</td>\n",
              "      <td>same day</td>\n",
              "      <td>0</td>\n",
              "      <td>-0.715843</td>\n",
              "    </tr>\n",
              "    <tr>\n",
              "      <th>2</th>\n",
              "      <td>2016-04-29T00:00:00Z</td>\n",
              "      <td>2016-04-29T16:19:04Z</td>\n",
              "      <td>04</td>\n",
              "      <td>2016</td>\n",
              "      <td>04</td>\n",
              "      <td>2016</td>\n",
              "      <td>same day</td>\n",
              "      <td>0</td>\n",
              "      <td>-0.715843</td>\n",
              "    </tr>\n",
              "    <tr>\n",
              "      <th>3</th>\n",
              "      <td>2016-04-29T00:00:00Z</td>\n",
              "      <td>2016-04-29T17:29:31Z</td>\n",
              "      <td>04</td>\n",
              "      <td>2016</td>\n",
              "      <td>04</td>\n",
              "      <td>2016</td>\n",
              "      <td>same day</td>\n",
              "      <td>0</td>\n",
              "      <td>-0.715843</td>\n",
              "    </tr>\n",
              "    <tr>\n",
              "      <th>4</th>\n",
              "      <td>2016-04-29T00:00:00Z</td>\n",
              "      <td>2016-04-29T16:07:23Z</td>\n",
              "      <td>04</td>\n",
              "      <td>2016</td>\n",
              "      <td>04</td>\n",
              "      <td>2016</td>\n",
              "      <td>same day</td>\n",
              "      <td>0</td>\n",
              "      <td>-0.715843</td>\n",
              "    </tr>\n",
              "  </tbody>\n",
              "</table>\n",
              "</div>\n",
              "      <button class=\"colab-df-convert\" onclick=\"convertToInteractive('df-e59b7211-d320-4874-ac78-35147d088375')\"\n",
              "              title=\"Convert this dataframe to an interactive table.\"\n",
              "              style=\"display:none;\">\n",
              "        \n",
              "  <svg xmlns=\"http://www.w3.org/2000/svg\" height=\"24px\"viewBox=\"0 0 24 24\"\n",
              "       width=\"24px\">\n",
              "    <path d=\"M0 0h24v24H0V0z\" fill=\"none\"/>\n",
              "    <path d=\"M18.56 5.44l.94 2.06.94-2.06 2.06-.94-2.06-.94-.94-2.06-.94 2.06-2.06.94zm-11 1L8.5 8.5l.94-2.06 2.06-.94-2.06-.94L8.5 2.5l-.94 2.06-2.06.94zm10 10l.94 2.06.94-2.06 2.06-.94-2.06-.94-.94-2.06-.94 2.06-2.06.94z\"/><path d=\"M17.41 7.96l-1.37-1.37c-.4-.4-.92-.59-1.43-.59-.52 0-1.04.2-1.43.59L10.3 9.45l-7.72 7.72c-.78.78-.78 2.05 0 2.83L4 21.41c.39.39.9.59 1.41.59.51 0 1.02-.2 1.41-.59l7.78-7.78 2.81-2.81c.8-.78.8-2.07 0-2.86zM5.41 20L4 18.59l7.72-7.72 1.47 1.35L5.41 20z\"/>\n",
              "  </svg>\n",
              "      </button>\n",
              "      \n",
              "  <style>\n",
              "    .colab-df-container {\n",
              "      display:flex;\n",
              "      flex-wrap:wrap;\n",
              "      gap: 12px;\n",
              "    }\n",
              "\n",
              "    .colab-df-convert {\n",
              "      background-color: #E8F0FE;\n",
              "      border: none;\n",
              "      border-radius: 50%;\n",
              "      cursor: pointer;\n",
              "      display: none;\n",
              "      fill: #1967D2;\n",
              "      height: 32px;\n",
              "      padding: 0 0 0 0;\n",
              "      width: 32px;\n",
              "    }\n",
              "\n",
              "    .colab-df-convert:hover {\n",
              "      background-color: #E2EBFA;\n",
              "      box-shadow: 0px 1px 2px rgba(60, 64, 67, 0.3), 0px 1px 3px 1px rgba(60, 64, 67, 0.15);\n",
              "      fill: #174EA6;\n",
              "    }\n",
              "\n",
              "    [theme=dark] .colab-df-convert {\n",
              "      background-color: #3B4455;\n",
              "      fill: #D2E3FC;\n",
              "    }\n",
              "\n",
              "    [theme=dark] .colab-df-convert:hover {\n",
              "      background-color: #434B5C;\n",
              "      box-shadow: 0px 1px 3px 1px rgba(0, 0, 0, 0.15);\n",
              "      filter: drop-shadow(0px 1px 2px rgba(0, 0, 0, 0.3));\n",
              "      fill: #FFFFFF;\n",
              "    }\n",
              "  </style>\n",
              "\n",
              "      <script>\n",
              "        const buttonEl =\n",
              "          document.querySelector('#df-e59b7211-d320-4874-ac78-35147d088375 button.colab-df-convert');\n",
              "        buttonEl.style.display =\n",
              "          google.colab.kernel.accessAllowed ? 'block' : 'none';\n",
              "\n",
              "        async function convertToInteractive(key) {\n",
              "          const element = document.querySelector('#df-e59b7211-d320-4874-ac78-35147d088375');\n",
              "          const dataTable =\n",
              "            await google.colab.kernel.invokeFunction('convertToInteractive',\n",
              "                                                     [key], {});\n",
              "          if (!dataTable) return;\n",
              "\n",
              "          const docLinkHtml = 'Like what you see? Visit the ' +\n",
              "            '<a target=\"_blank\" href=https://colab.research.google.com/notebooks/data_table.ipynb>data table notebook</a>'\n",
              "            + ' to learn more about interactive tables.';\n",
              "          element.innerHTML = '';\n",
              "          dataTable['output_type'] = 'display_data';\n",
              "          await google.colab.output.renderOutput(dataTable, element);\n",
              "          const docLink = document.createElement('div');\n",
              "          docLink.innerHTML = docLinkHtml;\n",
              "          element.appendChild(docLink);\n",
              "        }\n",
              "      </script>\n",
              "    </div>\n",
              "  </div>\n",
              "  "
            ],
            "text/plain": [
              "         AppointmentDay          ScheduledDay  ... In_advance transform\n",
              "0  2016-04-29T00:00:00Z  2016-04-29T18:38:08Z  ...          0 -0.715843\n",
              "1  2016-04-29T00:00:00Z  2016-04-29T16:08:27Z  ...          0 -0.715843\n",
              "2  2016-04-29T00:00:00Z  2016-04-29T16:19:04Z  ...          0 -0.715843\n",
              "3  2016-04-29T00:00:00Z  2016-04-29T17:29:31Z  ...          0 -0.715843\n",
              "4  2016-04-29T00:00:00Z  2016-04-29T16:07:23Z  ...          0 -0.715843\n",
              "\n",
              "[5 rows x 9 columns]"
            ]
          },
          "metadata": {},
          "execution_count": 18
        }
      ]
    },
    {
      "cell_type": "code",
      "source": [
        "noshow = pd.concat([noshow, day[['Reservation']], day[['In_advance']],day[['transform']]], axis=1)\n",
        "noshow.head()"
      ],
      "metadata": {
        "colab": {
          "base_uri": "https://localhost:8080/",
          "height": 374
        },
        "id": "yI5hXjTzFrRI",
        "outputId": "584e3d1c-97de-4148-8ef2-689b5e69a3a4"
      },
      "execution_count": 19,
      "outputs": [
        {
          "output_type": "execute_result",
          "data": {
            "text/html": [
              "\n",
              "  <div id=\"df-fb95c2d1-bdf0-429b-aeac-51ff5d86dbcb\">\n",
              "    <div class=\"colab-df-container\">\n",
              "      <div>\n",
              "<style scoped>\n",
              "    .dataframe tbody tr th:only-of-type {\n",
              "        vertical-align: middle;\n",
              "    }\n",
              "\n",
              "    .dataframe tbody tr th {\n",
              "        vertical-align: top;\n",
              "    }\n",
              "\n",
              "    .dataframe thead th {\n",
              "        text-align: right;\n",
              "    }\n",
              "</style>\n",
              "<table border=\"1\" class=\"dataframe\">\n",
              "  <thead>\n",
              "    <tr style=\"text-align: right;\">\n",
              "      <th></th>\n",
              "      <th>PatientId</th>\n",
              "      <th>AppointmentID</th>\n",
              "      <th>Gender</th>\n",
              "      <th>ScheduledDay</th>\n",
              "      <th>AppointmentDay</th>\n",
              "      <th>Age</th>\n",
              "      <th>Neighbourhood</th>\n",
              "      <th>Scholarship</th>\n",
              "      <th>Hipertension</th>\n",
              "      <th>Diabetes</th>\n",
              "      <th>Alcoholism</th>\n",
              "      <th>Handcap</th>\n",
              "      <th>SMS_received</th>\n",
              "      <th>No-show</th>\n",
              "      <th>noshow</th>\n",
              "      <th>Reservation</th>\n",
              "      <th>In_advance</th>\n",
              "      <th>transform</th>\n",
              "    </tr>\n",
              "  </thead>\n",
              "  <tbody>\n",
              "    <tr>\n",
              "      <th>0</th>\n",
              "      <td>2.987250e+13</td>\n",
              "      <td>5642903</td>\n",
              "      <td>F</td>\n",
              "      <td>2016-04-29T18:38:08Z</td>\n",
              "      <td>2016-04-29T00:00:00Z</td>\n",
              "      <td>62</td>\n",
              "      <td>JARDIM DA PENHA</td>\n",
              "      <td>0</td>\n",
              "      <td>1</td>\n",
              "      <td>0</td>\n",
              "      <td>0</td>\n",
              "      <td>0</td>\n",
              "      <td>0</td>\n",
              "      <td>No</td>\n",
              "      <td>0</td>\n",
              "      <td>same day</td>\n",
              "      <td>0</td>\n",
              "      <td>-0.715843</td>\n",
              "    </tr>\n",
              "    <tr>\n",
              "      <th>1</th>\n",
              "      <td>5.589978e+14</td>\n",
              "      <td>5642503</td>\n",
              "      <td>M</td>\n",
              "      <td>2016-04-29T16:08:27Z</td>\n",
              "      <td>2016-04-29T00:00:00Z</td>\n",
              "      <td>56</td>\n",
              "      <td>JARDIM DA PENHA</td>\n",
              "      <td>0</td>\n",
              "      <td>0</td>\n",
              "      <td>0</td>\n",
              "      <td>0</td>\n",
              "      <td>0</td>\n",
              "      <td>0</td>\n",
              "      <td>No</td>\n",
              "      <td>0</td>\n",
              "      <td>same day</td>\n",
              "      <td>0</td>\n",
              "      <td>-0.715843</td>\n",
              "    </tr>\n",
              "    <tr>\n",
              "      <th>2</th>\n",
              "      <td>4.262962e+12</td>\n",
              "      <td>5642549</td>\n",
              "      <td>F</td>\n",
              "      <td>2016-04-29T16:19:04Z</td>\n",
              "      <td>2016-04-29T00:00:00Z</td>\n",
              "      <td>62</td>\n",
              "      <td>MATA DA PRAIA</td>\n",
              "      <td>0</td>\n",
              "      <td>0</td>\n",
              "      <td>0</td>\n",
              "      <td>0</td>\n",
              "      <td>0</td>\n",
              "      <td>0</td>\n",
              "      <td>No</td>\n",
              "      <td>0</td>\n",
              "      <td>same day</td>\n",
              "      <td>0</td>\n",
              "      <td>-0.715843</td>\n",
              "    </tr>\n",
              "    <tr>\n",
              "      <th>3</th>\n",
              "      <td>8.679512e+11</td>\n",
              "      <td>5642828</td>\n",
              "      <td>F</td>\n",
              "      <td>2016-04-29T17:29:31Z</td>\n",
              "      <td>2016-04-29T00:00:00Z</td>\n",
              "      <td>8</td>\n",
              "      <td>PONTAL DE CAMBURI</td>\n",
              "      <td>0</td>\n",
              "      <td>0</td>\n",
              "      <td>0</td>\n",
              "      <td>0</td>\n",
              "      <td>0</td>\n",
              "      <td>0</td>\n",
              "      <td>No</td>\n",
              "      <td>0</td>\n",
              "      <td>same day</td>\n",
              "      <td>0</td>\n",
              "      <td>-0.715843</td>\n",
              "    </tr>\n",
              "    <tr>\n",
              "      <th>4</th>\n",
              "      <td>8.841186e+12</td>\n",
              "      <td>5642494</td>\n",
              "      <td>F</td>\n",
              "      <td>2016-04-29T16:07:23Z</td>\n",
              "      <td>2016-04-29T00:00:00Z</td>\n",
              "      <td>56</td>\n",
              "      <td>JARDIM DA PENHA</td>\n",
              "      <td>0</td>\n",
              "      <td>1</td>\n",
              "      <td>1</td>\n",
              "      <td>0</td>\n",
              "      <td>0</td>\n",
              "      <td>0</td>\n",
              "      <td>No</td>\n",
              "      <td>0</td>\n",
              "      <td>same day</td>\n",
              "      <td>0</td>\n",
              "      <td>-0.715843</td>\n",
              "    </tr>\n",
              "  </tbody>\n",
              "</table>\n",
              "</div>\n",
              "      <button class=\"colab-df-convert\" onclick=\"convertToInteractive('df-fb95c2d1-bdf0-429b-aeac-51ff5d86dbcb')\"\n",
              "              title=\"Convert this dataframe to an interactive table.\"\n",
              "              style=\"display:none;\">\n",
              "        \n",
              "  <svg xmlns=\"http://www.w3.org/2000/svg\" height=\"24px\"viewBox=\"0 0 24 24\"\n",
              "       width=\"24px\">\n",
              "    <path d=\"M0 0h24v24H0V0z\" fill=\"none\"/>\n",
              "    <path d=\"M18.56 5.44l.94 2.06.94-2.06 2.06-.94-2.06-.94-.94-2.06-.94 2.06-2.06.94zm-11 1L8.5 8.5l.94-2.06 2.06-.94-2.06-.94L8.5 2.5l-.94 2.06-2.06.94zm10 10l.94 2.06.94-2.06 2.06-.94-2.06-.94-.94-2.06-.94 2.06-2.06.94z\"/><path d=\"M17.41 7.96l-1.37-1.37c-.4-.4-.92-.59-1.43-.59-.52 0-1.04.2-1.43.59L10.3 9.45l-7.72 7.72c-.78.78-.78 2.05 0 2.83L4 21.41c.39.39.9.59 1.41.59.51 0 1.02-.2 1.41-.59l7.78-7.78 2.81-2.81c.8-.78.8-2.07 0-2.86zM5.41 20L4 18.59l7.72-7.72 1.47 1.35L5.41 20z\"/>\n",
              "  </svg>\n",
              "      </button>\n",
              "      \n",
              "  <style>\n",
              "    .colab-df-container {\n",
              "      display:flex;\n",
              "      flex-wrap:wrap;\n",
              "      gap: 12px;\n",
              "    }\n",
              "\n",
              "    .colab-df-convert {\n",
              "      background-color: #E8F0FE;\n",
              "      border: none;\n",
              "      border-radius: 50%;\n",
              "      cursor: pointer;\n",
              "      display: none;\n",
              "      fill: #1967D2;\n",
              "      height: 32px;\n",
              "      padding: 0 0 0 0;\n",
              "      width: 32px;\n",
              "    }\n",
              "\n",
              "    .colab-df-convert:hover {\n",
              "      background-color: #E2EBFA;\n",
              "      box-shadow: 0px 1px 2px rgba(60, 64, 67, 0.3), 0px 1px 3px 1px rgba(60, 64, 67, 0.15);\n",
              "      fill: #174EA6;\n",
              "    }\n",
              "\n",
              "    [theme=dark] .colab-df-convert {\n",
              "      background-color: #3B4455;\n",
              "      fill: #D2E3FC;\n",
              "    }\n",
              "\n",
              "    [theme=dark] .colab-df-convert:hover {\n",
              "      background-color: #434B5C;\n",
              "      box-shadow: 0px 1px 3px 1px rgba(0, 0, 0, 0.15);\n",
              "      filter: drop-shadow(0px 1px 2px rgba(0, 0, 0, 0.3));\n",
              "      fill: #FFFFFF;\n",
              "    }\n",
              "  </style>\n",
              "\n",
              "      <script>\n",
              "        const buttonEl =\n",
              "          document.querySelector('#df-fb95c2d1-bdf0-429b-aeac-51ff5d86dbcb button.colab-df-convert');\n",
              "        buttonEl.style.display =\n",
              "          google.colab.kernel.accessAllowed ? 'block' : 'none';\n",
              "\n",
              "        async function convertToInteractive(key) {\n",
              "          const element = document.querySelector('#df-fb95c2d1-bdf0-429b-aeac-51ff5d86dbcb');\n",
              "          const dataTable =\n",
              "            await google.colab.kernel.invokeFunction('convertToInteractive',\n",
              "                                                     [key], {});\n",
              "          if (!dataTable) return;\n",
              "\n",
              "          const docLinkHtml = 'Like what you see? Visit the ' +\n",
              "            '<a target=\"_blank\" href=https://colab.research.google.com/notebooks/data_table.ipynb>data table notebook</a>'\n",
              "            + ' to learn more about interactive tables.';\n",
              "          element.innerHTML = '';\n",
              "          dataTable['output_type'] = 'display_data';\n",
              "          await google.colab.output.renderOutput(dataTable, element);\n",
              "          const docLink = document.createElement('div');\n",
              "          docLink.innerHTML = docLinkHtml;\n",
              "          element.appendChild(docLink);\n",
              "        }\n",
              "      </script>\n",
              "    </div>\n",
              "  </div>\n",
              "  "
            ],
            "text/plain": [
              "      PatientId  AppointmentID Gender  ... Reservation In_advance  transform\n",
              "0  2.987250e+13        5642903      F  ...    same day          0  -0.715843\n",
              "1  5.589978e+14        5642503      M  ...    same day          0  -0.715843\n",
              "2  4.262962e+12        5642549      F  ...    same day          0  -0.715843\n",
              "3  8.679512e+11        5642828      F  ...    same day          0  -0.715843\n",
              "4  8.841186e+12        5642494      F  ...    same day          0  -0.715843\n",
              "\n",
              "[5 rows x 18 columns]"
            ]
          },
          "metadata": {},
          "execution_count": 19
        }
      ]
    },
    {
      "cell_type": "code",
      "metadata": {
        "colab": {
          "base_uri": "https://localhost:8080/",
          "height": 387
        },
        "id": "wL-mZ6IDPD3L",
        "outputId": "719f7b76-1fe0-43f0-e5fa-022dc658d3bd"
      },
      "source": [
        "sns.catplot(data=noshow,x= 'transform',y='SMS_received' ,hue='No-show',color='blue', aspect = 4)\n",
        "plt.xlabel(\"In_advance which near 0 is No and near 1 is Yes\")"
      ],
      "execution_count": 31,
      "outputs": [
        {
          "output_type": "execute_result",
          "data": {
            "text/plain": [
              "Text(0.5, 20.80000000000002, 'In_advance which near 0 is No and near 1 is Yes')"
            ]
          },
          "metadata": {},
          "execution_count": 31
        },
        {
          "output_type": "display_data",
          "data": {
            "image/png": "[encoded data removed]",
            "text/plain": [
              "<Figure size 1492x360 with 1 Axes>"
            ]
          },
          "metadata": {
            "needs_background": "light"
          }
        }
      ]
    },
    {
      "cell_type": "markdown",
      "source": [
        "We can see that for people booking not in advance (same day), they have the high frequency of showing up in appointment although they even didn't receive SMS. However, for people booking in advance, the frequency of not showing up in appointment is still high in both receiving and not receiving SMS.      "
      ],
      "metadata": {
        "id": "smOFoNNC8eTF"
      }
    },
    {
      "cell_type": "code",
      "metadata": {
        "id": "mJESIxSG-xKi"
      },
      "source": [
        "# save dataset\n",
        "noshow.to_csv('noshow.csv')"
      ],
      "execution_count": null,
      "outputs": []
    },
    {
      "cell_type": "markdown",
      "metadata": {
        "id": "uP8GTJk7RF3c"
      },
      "source": [
        "## **Statistical analysis in R**"
      ]
    },
    {
      "cell_type": "code",
      "metadata": {
        "id": "j-ZJat7BRFOZ"
      },
      "source": [
        "%load_ext rpy2.ipython"
      ],
      "execution_count": null,
      "outputs": []
    },
    {
      "cell_type": "code",
      "metadata": {
        "colab": {
          "base_uri": "https://localhost:8080/"
        },
        "id": "P_qQb9z3ST3-",
        "outputId": "fc5d6219-f918-45f3-9024-1addad5a0869"
      },
      "source": [
        "%%R\n",
        "noshow <- read.csv(\"/content/noshow.csv\")\n",
        "head(noshow)"
      ],
      "execution_count": null,
      "outputs": [
        {
          "output_type": "stream",
          "name": "stdout",
          "text": [
            "  X    PatientId AppointmentID Gender         ScheduledDay       AppointmentDay\n",
            "1 0 2.987250e+13       5642903      F 2016-04-29T18:38:08Z 2016-04-29T00:00:00Z\n",
            "2 1 5.589978e+14       5642503      M 2016-04-29T16:08:27Z 2016-04-29T00:00:00Z\n",
            "3 2 4.262962e+12       5642549      F 2016-04-29T16:19:04Z 2016-04-29T00:00:00Z\n",
            "4 3 8.679512e+11       5642828      F 2016-04-29T17:29:31Z 2016-04-29T00:00:00Z\n",
            "5 4 8.841186e+12       5642494      F 2016-04-29T16:07:23Z 2016-04-29T00:00:00Z\n",
            "6 5 9.598513e+13       5626772      F 2016-04-27T08:36:51Z 2016-04-29T00:00:00Z\n",
            "  Age     Neighbourhood Scholarship Hipertension Diabetes Alcoholism Handcap\n",
            "1  62   JARDIM DA PENHA           0            1        0          0       0\n",
            "2  56   JARDIM DA PENHA           0            0        0          0       0\n",
            "3  62     MATA DA PRAIA           0            0        0          0       0\n",
            "4   8 PONTAL DE CAMBURI           0            0        0          0       0\n",
            "5  56   JARDIM DA PENHA           0            1        1          0       0\n",
            "6  76         REPÚBLICA           0            1        0          0       0\n",
            "  SMS_received No.show noshow Reservation In_advance  transform\n",
            "1            0      No      0    same day          0 -0.7158434\n",
            "2            0      No      0    same day          0 -0.7158434\n",
            "3            0      No      0    same day          0 -0.7158434\n",
            "4            0      No      0    same day          0 -0.7158434\n",
            "5            0      No      0    same day          0 -0.7158434\n",
            "6            0      No      0    same day          0 -0.7158434\n"
          ]
        }
      ]
    },
    {
      "cell_type": "markdown",
      "metadata": {
        "id": "gZgfWITRVEPP"
      },
      "source": [
        "### **Unadjusted data**"
      ]
    },
    {
      "cell_type": "code",
      "metadata": {
        "colab": {
          "base_uri": "https://localhost:8080/"
        },
        "id": "zrrrB8YfRLuC",
        "outputId": "bf317acd-54bd-4a38-c02e-345018eed6f6"
      },
      "source": [
        "%%R\n",
        "result_un = glm(noshow$noshow ~ noshow$SMS_received, family = binomial)\n",
        "summary(result_un)"
      ],
      "execution_count": null,
      "outputs": [
        {
          "output_type": "stream",
          "name": "stdout",
          "text": [
            "\n",
            "Call:\n",
            "glm(formula = noshow$noshow ~ noshow$SMS_received, family = binomial)\n",
            "\n",
            "Deviance Residuals: \n",
            "    Min       1Q   Median       3Q      Max  \n",
            "-0.8033  -0.6046  -0.6046  -0.6046   1.8919  \n",
            "\n",
            "Coefficients:\n",
            "                     Estimate Std. Error z value Pr(>|z|)    \n",
            "(Intercept)         -1.606802   0.009786 -164.19   <2e-16 ***\n",
            "noshow$SMS_received  0.641137   0.015391   41.66   <2e-16 ***\n",
            "---\n",
            "Signif. codes:  0 ‘***’ 0.001 ‘**’ 0.01 ‘*’ 0.05 ‘.’ 0.1 ‘ ’ 1\n",
            "\n",
            "(Dispersion parameter for binomial family taken to be 1)\n",
            "\n",
            "    Null deviance: 111206  on 110526  degrees of freedom\n",
            "Residual deviance: 109503  on 110525  degrees of freedom\n",
            "AIC: 109507\n",
            "\n",
            "Number of Fisher Scoring iterations: 4\n",
            "\n"
          ]
        }
      ]
    },
    {
      "cell_type": "code",
      "metadata": {
        "colab": {
          "base_uri": "https://localhost:8080/"
        },
        "id": "lxDwjv6GT78r",
        "outputId": "2a8781c7-66b9-49dd-981f-8b16f7adde52"
      },
      "source": [
        "%%R\n",
        "coef <- c(coef(result_un)[1],coef(result_un)[2]) \n",
        "odd <- c(exp(coef(result_un)[1]), exp(coef(result_un)[2]))\n",
        "prob <- c(odd[1]/(odd[1]+1), (odd[2] * odd[1])/((odd[2] * odd[1])+1))\n",
        "table <- data.frame(coef, odd, prob)\n",
        "table\n"
      ],
      "execution_count": null,
      "outputs": [
        {
          "output_type": "stream",
          "name": "stdout",
          "text": [
            "                         coef       odd      prob\n",
            "(Intercept)         -1.606802 0.2005279 0.1670331\n",
            "noshow$SMS_received  0.641137 1.8986385 0.2757454\n"
          ]
        }
      ]
    },
    {
      "cell_type": "markdown",
      "metadata": {
        "id": "yxvXvb6yEThf"
      },
      "source": [
        "According to above summary, ln(odds of being a \"no-show\") = **-1.606802** + **0.641137**x where x = 1 if the patients received a SMS (a reference group), and 0 if the patient did not receive a SMS. The standard error of the slope estimate for x and intercept respectively is  0.015391, 0.009786\n"
      ]
    },
    {
      "cell_type": "markdown",
      "source": [
        "For patients not receiving SMS: ln(odd of being \"no-show\") = **-1.606802** (Intercept) <br>\n",
        "Odd ratio of patients not receiving SMS and no show = **0.2** and the probability of them is **0.167** <br>\n",
        "For the difference of ln(odd of being 'no-show') in patients receiving SMS to patients not receiving SMS = **0.641137** <br>\n",
        "Unadjusted odds ratio (and 95% CI) of being \"no-show\" for those who received a SMS compared to those who did not: **1.899(1.841, 1.958)** <br>\n",
        "Odd ratio of patients receiving SMS but no show = 0.2 * 1.899 = **0.3798** and the probability of them is 0.275\n"
      ],
      "metadata": {
        "id": "0TZOvPLFgEww"
      }
    },
    {
      "cell_type": "markdown",
      "metadata": {
        "id": "iFMQAu5Ln-GH"
      },
      "source": [
        "### **Adjusted data**"
      ]
    },
    {
      "cell_type": "code",
      "metadata": {
        "id": "T_GuleupoLZ-",
        "colab": {
          "base_uri": "https://localhost:8080/"
        },
        "outputId": "63116bac-bd79-4d01-f4e1-d54fcaa4e762"
      },
      "source": [
        "%%R\n",
        "result_ad = glm(noshow$noshow ~ noshow$SMS_received + noshow$In_advance, family = binomial)\n",
        "summary(result_ad)"
      ],
      "execution_count": null,
      "outputs": [
        {
          "output_type": "stream",
          "name": "stdout",
          "text": [
            "\n",
            "Call:\n",
            "glm(formula = noshow$noshow ~ noshow$SMS_received + noshow$In_advance, \n",
            "    family = binomial)\n",
            "\n",
            "Deviance Residuals: \n",
            "    Min       1Q   Median       3Q      Max  \n",
            "-0.8896  -0.6166  -0.5539  -0.5539   1.9751  \n",
            "\n",
            "Coefficients:\n",
            "                    Estimate Std. Error z value Pr(>|z|)    \n",
            "(Intercept)         -1.79707    0.01094 -164.20   <2e-16 ***\n",
            "noshow$SMS_received  0.23348    0.01773   13.17   <2e-16 ***\n",
            "noshow$In_advance    0.84091    0.01743   48.23   <2e-16 ***\n",
            "---\n",
            "Signif. codes:  0 ‘***’ 0.001 ‘**’ 0.01 ‘*’ 0.05 ‘.’ 0.1 ‘ ’ 1\n",
            "\n",
            "(Dispersion parameter for binomial family taken to be 1)\n",
            "\n",
            "    Null deviance: 111206  on 110526  degrees of freedom\n",
            "Residual deviance: 107188  on 110524  degrees of freedom\n",
            "AIC: 107194\n",
            "\n",
            "Number of Fisher Scoring iterations: 4\n",
            "\n"
          ]
        }
      ]
    },
    {
      "cell_type": "code",
      "metadata": {
        "colab": {
          "base_uri": "https://localhost:8080/"
        },
        "id": "WLsIeL6l_Yh6",
        "outputId": "13259f41-6c7b-4fa4-99a8-3d416d61a80f"
      },
      "source": [
        "%%R\n",
        "coef(result_ad)"
      ],
      "execution_count": null,
      "outputs": [
        {
          "output_type": "stream",
          "name": "stdout",
          "text": [
            "        (Intercept) noshow$SMS_received   noshow$In_advance \n",
            "         -1.7970683           0.2334772           0.8409114 \n"
          ]
        }
      ]
    },
    {
      "cell_type": "code",
      "source": [
        "%%R\n",
        "SMS <- c(0,0,1,1)\n",
        "Booking <- c(0,1,0,1)\n",
        "ln_odds_of_noshow <- c(-1.7970683 + 0.2334772*SMS[1] + 0.8409114*Booking[1],\n",
        "                        -1.7970683 + 0.2334772*SMS[2] + 0.8409114*Booking[2],\n",
        "                        -1.7970683 + 0.2334772*SMS[3] + 0.8409114*Booking[3],\n",
        "                        -1.7970683 + 0.2334772*SMS[4] + 0.8409114*Booking[4])\n",
        "odd <- c(exp(ln_odds_of_noshow[1]),\n",
        "         exp(ln_odds_of_noshow[2]),\n",
        "         exp(ln_odds_of_noshow[3]),\n",
        "         exp(ln_odds_of_noshow[4]))\n",
        "prob <- c(odd[1]/(odd[1]+1),\n",
        "          odd[2]/(odd[2]+1),\n",
        "          odd[3]/(odd[3]+1),\n",
        "          odd[4]/(odd[4]+1))\n",
        "table <- data.frame(SMS, Booking, ln_odds_of_noshow, odd, prob)\n",
        "table"
      ],
      "metadata": {
        "id": "lCeLyGn_raAA",
        "colab": {
          "base_uri": "https://localhost:8080/"
        },
        "outputId": "1f2f09c8-b956-41e1-87a3-6014ccc09c68"
      },
      "execution_count": null,
      "outputs": [
        {
          "output_type": "stream",
          "name": "stdout",
          "text": [
            "  SMS Booking ln_odds_of_noshow       odd      prob\n",
            "1   0       0        -1.7970683 0.1657842 0.1422083\n",
            "2   0       1        -0.9561569 0.3843672 0.2776483\n",
            "3   1       0        -1.5635911 0.2093828 0.1731320\n",
            "4   1       1        -0.7226797 0.4854497 0.3268032\n"
          ]
        }
      ]
    },
    {
      "cell_type": "markdown",
      "metadata": {
        "id": "xNiWrfmDBg6X"
      },
      "source": [
        "According to above summary having adjustment, ln(odds of being a \"no-show\") = **- 1.7970683** + **0.2334772**x1 + **0.8409114**x2 where: <br>\n",
        "**x1(SMS)** = 1 if the patients received a SMS, and 0 if the patient did not receive a SMS. <br>\n",
        "**x2(Booking)** = 1 if patients booking in advance, and 0 if patients booking same day to appointment. <br>\n",
        "The standard errors of the intercept, slope estimate for x1, and slope estimate for x2 respectively are 0.01094, 0.01773, 0.01743."
      ]
    },
    {
      "cell_type": "markdown",
      "metadata": {
        "id": "-CMIKANn_ieH"
      },
      "source": [
        "### **Stratified analysis**\n",
        "In this section, I will analyse separatedly 2 groups (same day or in advance) in order to see if the association between SMS_received with no showing up can be different between these 2 groups    "
      ]
    },
    {
      "cell_type": "markdown",
      "metadata": {
        "id": "gnzpyj7-APOC"
      },
      "source": [
        "#### **In advance group** (people had scheduled the day before appointment day)"
      ]
    },
    {
      "cell_type": "code",
      "metadata": {
        "colab": {
          "base_uri": "https://localhost:8080/"
        },
        "id": "sWT1kQrxAfia",
        "outputId": "381249f1-c859-4a0a-d0cf-40cc5ecbaadd"
      },
      "source": [
        "%%R\n",
        "x_in = noshow[noshow$Reservation == 'in advance',]\n",
        "head(x_in)"
      ],
      "execution_count": null,
      "outputs": [
        {
          "output_type": "stream",
          "name": "stdout",
          "text": [
            "      X    PatientId AppointmentID Gender         ScheduledDay\n",
            "50   49 9.223559e+13       5534656      F 2016-03-31T17:11:17Z\n",
            "51   50 1.827172e+14       5534661      F 2016-03-31T17:12:45Z\n",
            "52   51 4.694699e+13       5534635      F 2016-03-31T17:05:31Z\n",
            "53   52 7.987570e+14       5534639      F 2016-03-31T17:06:17Z\n",
            "178 177 7.271247e+12       5482953      M 2016-03-17T10:33:33Z\n",
            "184 183 7.254972e+11       5524189      M 2016-03-30T07:32:47Z\n",
            "          AppointmentDay Age  Neighbourhood Scholarship Hipertension Diabetes\n",
            "50  2016-04-29T00:00:00Z  27 GRANDE VITÓRIA           0            0        0\n",
            "51  2016-04-29T00:00:00Z  19 GRANDE VITÓRIA           0            0        0\n",
            "52  2016-04-29T00:00:00Z  23 GRANDE VITÓRIA           1            0        0\n",
            "53  2016-04-29T00:00:00Z  23 GRANDE VITÓRIA           1            0        0\n",
            "178 2016-04-29T00:00:00Z  11 NOVA PALESTINA           0            0        0\n",
            "184 2016-04-29T00:00:00Z  69      CONQUISTA           0            0        0\n",
            "    Alcoholism Handcap SMS_received No.show noshow Reservation In_advance\n",
            "50           0       0            1     Yes      1  in advance          1\n",
            "51           0       0            1     Yes      1  in advance          1\n",
            "52           0       0            1     Yes      1  in advance          1\n",
            "53           0       0            1     Yes      1  in advance          1\n",
            "178          0       0            0      No      0  in advance          1\n",
            "184          0       0            1      No      0  in advance          1\n",
            "    transform\n",
            "50   1.396954\n",
            "51   1.396954\n",
            "52   1.396954\n",
            "53   1.396954\n",
            "178  1.396954\n",
            "184  1.396954\n"
          ]
        }
      ]
    },
    {
      "cell_type": "code",
      "metadata": {
        "colab": {
          "base_uri": "https://localhost:8080/"
        },
        "id": "CzLdL19vDICP",
        "outputId": "248b7504-59b1-4559-c683-6b9d50fd99f8"
      },
      "source": [
        "%%R\n",
        "result_in = glm(x_in$noshow ~ x_in$SMS_received, family = binomial)\n",
        "summary(result_in)"
      ],
      "execution_count": null,
      "outputs": [
        {
          "output_type": "stream",
          "name": "stdout",
          "text": [
            "\n",
            "Call:\n",
            "glm(formula = x_in$noshow ~ x_in$SMS_received, family = binomial)\n",
            "\n",
            "Deviance Residuals: \n",
            "    Min       1Q   Median       3Q      Max  \n",
            "-0.9227  -0.8220  -0.8220   1.4555   1.5807  \n",
            "\n",
            "Coefficients:\n",
            "                  Estimate Std. Error z value Pr(>|z|)    \n",
            "(Intercept)       -0.63353    0.01792  -35.36   <2e-16 ***\n",
            "x_in$SMS_received -0.27789    0.02296  -12.10   <2e-16 ***\n",
            "---\n",
            "Signif. codes:  0 ‘***’ 0.001 ‘**’ 0.01 ‘*’ 0.05 ‘.’ 0.1 ‘ ’ 1\n",
            "\n",
            "(Dispersion parameter for binomial family taken to be 1)\n",
            "\n",
            "    Null deviance: 46293  on 37447  degrees of freedom\n",
            "Residual deviance: 46147  on 37446  degrees of freedom\n",
            "AIC: 46151\n",
            "\n",
            "Number of Fisher Scoring iterations: 4\n",
            "\n"
          ]
        }
      ]
    },
    {
      "cell_type": "code",
      "source": [
        "%%R\n",
        "coef <- c(coef(result_in)[1],coef(result_in)[2]) \n",
        "odd <- c(exp(coef(result_in)[1]), exp(coef(result_in)[2]))\n",
        "prob <- c(odd[1]/(odd[1]+1), (odd[2] * odd[1])/((odd[2] * odd[1])+1))\n",
        "table <- data.frame(coef, odd, prob)\n",
        "table"
      ],
      "metadata": {
        "colab": {
          "base_uri": "https://localhost:8080/"
        },
        "id": "M425rUGCx17F",
        "outputId": "e708fd5a-7146-47c1-dd04-594e4d91b2ba"
      },
      "execution_count": null,
      "outputs": [
        {
          "output_type": "stream",
          "name": "stdout",
          "text": [
            "                        coef       odd      prob\n",
            "(Intercept)       -0.6335312 0.5307144 0.3467103\n",
            "x_in$SMS_received -0.2778898 0.7573803 0.2867092\n"
          ]
        }
      ]
    },
    {
      "cell_type": "code",
      "metadata": {
        "colab": {
          "base_uri": "https://localhost:8080/"
        },
        "id": "4EtA0XBLHLOm",
        "outputId": "2e036265-f633-4870-fe34-9c07154109ff"
      },
      "source": [
        "%%R \n",
        "dim(x_in)"
      ],
      "execution_count": null,
      "outputs": [
        {
          "output_type": "stream",
          "name": "stdout",
          "text": [
            "[1] 37448    19\n"
          ]
        }
      ]
    },
    {
      "cell_type": "markdown",
      "metadata": {
        "id": "PLasRrLQGrz6"
      },
      "source": [
        "According to above summary of 37448 appointments booked in advance, this is the following logistic regression which show association between no-shows and SMS_received in this in advance group:\n",
        "\n",
        "ln(odds of being a \"no-show\") = **- 0.6335312** + **- 0.2778898**x where x = 1 if the patients received a SMS, and 0 if the patient did not receive a SMS. \n",
        "The standard errors of the intercept and slope estimate for x respectively are 0.01792, 0.02296.\n",
        "\n",
        "Odds ratio (and 95% CI) of being a \"no-show\" for those who booking in advance received a SMS compared to those who booking in advance but did not received: \n",
        "0.757 (0.723, 0.793) \n",
        "\n",
        "**p(SMS) = 0.287**; **p(noSMS) = 0.347** <br>\n",
        "RD (Risk difference) = p(SMS) - p(noSMS) = 0.287 - 0.347 = **-0.06** <br>\n",
        "**Conclusion:** For the patients **booking before appointment day**, there is **6% reduction of risk no showing up** in Medical appointment **if they received SMS** compared to those who didn't receive SMS "
      ]
    },
    {
      "cell_type": "markdown",
      "metadata": {
        "id": "HycQ_PsEBoHT"
      },
      "source": [
        "#### **Same day group** (people had scheduled the same day to appointment day)"
      ]
    },
    {
      "cell_type": "code",
      "metadata": {
        "colab": {
          "base_uri": "https://localhost:8080/"
        },
        "id": "Uybjm0sgB_0u",
        "outputId": "35ee9bef-6ccd-4127-b4e0-28aba5c3aada"
      },
      "source": [
        "%%R\n",
        "x_sam = noshow[noshow$Reservation == 'same day',]\n",
        "head(x_sam)"
      ],
      "execution_count": null,
      "outputs": [
        {
          "output_type": "stream",
          "name": "stdout",
          "text": [
            "  X    PatientId AppointmentID Gender         ScheduledDay       AppointmentDay\n",
            "1 0 2.987250e+13       5642903      F 2016-04-29T18:38:08Z 2016-04-29T00:00:00Z\n",
            "2 1 5.589978e+14       5642503      M 2016-04-29T16:08:27Z 2016-04-29T00:00:00Z\n",
            "3 2 4.262962e+12       5642549      F 2016-04-29T16:19:04Z 2016-04-29T00:00:00Z\n",
            "4 3 8.679512e+11       5642828      F 2016-04-29T17:29:31Z 2016-04-29T00:00:00Z\n",
            "5 4 8.841186e+12       5642494      F 2016-04-29T16:07:23Z 2016-04-29T00:00:00Z\n",
            "6 5 9.598513e+13       5626772      F 2016-04-27T08:36:51Z 2016-04-29T00:00:00Z\n",
            "  Age     Neighbourhood Scholarship Hipertension Diabetes Alcoholism Handcap\n",
            "1  62   JARDIM DA PENHA           0            1        0          0       0\n",
            "2  56   JARDIM DA PENHA           0            0        0          0       0\n",
            "3  62     MATA DA PRAIA           0            0        0          0       0\n",
            "4   8 PONTAL DE CAMBURI           0            0        0          0       0\n",
            "5  56   JARDIM DA PENHA           0            1        1          0       0\n",
            "6  76         REPÚBLICA           0            1        0          0       0\n",
            "  SMS_received No.show noshow Reservation In_advance  transform\n",
            "1            0      No      0    same day          0 -0.7158434\n",
            "2            0      No      0    same day          0 -0.7158434\n",
            "3            0      No      0    same day          0 -0.7158434\n",
            "4            0      No      0    same day          0 -0.7158434\n",
            "5            0      No      0    same day          0 -0.7158434\n",
            "6            0      No      0    same day          0 -0.7158434\n"
          ]
        }
      ]
    },
    {
      "cell_type": "code",
      "metadata": {
        "colab": {
          "base_uri": "https://localhost:8080/"
        },
        "id": "Jd6m4KY5DmKq",
        "outputId": "7eced0a1-a658-481c-b810-d2b8a37ac58d"
      },
      "source": [
        "%%R\n",
        "result_sam = glm(x_sam$noshow ~ x_sam$SMS_received, family = binomial)\n",
        "summary(result_sam)"
      ],
      "execution_count": null,
      "outputs": [
        {
          "output_type": "stream",
          "name": "stdout",
          "text": [
            "\n",
            "Call:\n",
            "glm(formula = x_sam$noshow ~ x_sam$SMS_received, family = binomial)\n",
            "\n",
            "Deviance Residuals: \n",
            "    Min       1Q   Median       3Q      Max  \n",
            "-0.7650  -0.5205  -0.5205  -0.5205   2.0327  \n",
            "\n",
            "Coefficients:\n",
            "                   Estimate Std. Error z value Pr(>|z|)    \n",
            "(Intercept)        -1.93037    0.01214 -158.97   <2e-16 ***\n",
            "x_sam$SMS_received  0.85146    0.02440   34.89   <2e-16 ***\n",
            "---\n",
            "Signif. codes:  0 ‘***’ 0.001 ‘**’ 0.01 ‘*’ 0.05 ‘.’ 0.1 ‘ ’ 1\n",
            "\n",
            "(Dispersion parameter for binomial family taken to be 1)\n",
            "\n",
            "    Null deviance: 61067  on 73078  degrees of freedom\n",
            "Residual deviance: 59945  on 73077  degrees of freedom\n",
            "AIC: 59949\n",
            "\n",
            "Number of Fisher Scoring iterations: 4\n",
            "\n"
          ]
        }
      ]
    },
    {
      "cell_type": "code",
      "metadata": {
        "colab": {
          "base_uri": "https://localhost:8080/"
        },
        "id": "D6cYw9YeDmxG",
        "outputId": "1a4c0eb4-83ea-4b85-8546-8aec94c9c8d2"
      },
      "source": [
        "%%R\n",
        "coef(result_sam)"
      ],
      "execution_count": null,
      "outputs": [
        {
          "output_type": "stream",
          "name": "stdout",
          "text": [
            "       (Intercept) x_sam$SMS_received \n",
            "        -1.9303749          0.8514583 \n"
          ]
        }
      ]
    },
    {
      "cell_type": "code",
      "source": [
        "%%R\n",
        "coef <- c(coef(result_sam)[1],coef(result_sam)[2]) \n",
        "odd <- c(exp(coef(result_sam)[1]), exp(coef(result_sam)[2]))\n",
        "prob <- c(odd[1]/(odd[1]+1), (odd[2] * odd[1])/((odd[2] * odd[1])+1))\n",
        "table <- data.frame(coef, odd, prob)\n",
        "table"
      ],
      "metadata": {
        "colab": {
          "base_uri": "https://localhost:8080/"
        },
        "id": "dvxxKToZyBX5",
        "outputId": "e17fd42d-d889-404b-e8ad-fb14ee5897c5"
      },
      "execution_count": null,
      "outputs": [
        {
          "output_type": "stream",
          "name": "stdout",
          "text": [
            "                         coef       odd      prob\n",
            "(Intercept)        -1.9303749 0.1450938 0.1267091\n",
            "x_sam$SMS_received  0.8514583 2.3430612 0.2537111\n"
          ]
        }
      ]
    },
    {
      "cell_type": "code",
      "metadata": {
        "id": "zTL0vdObHSsO",
        "colab": {
          "base_uri": "https://localhost:8080/"
        },
        "outputId": "a31f5c4c-5bcb-4b33-a563-3832bca5efce"
      },
      "source": [
        "%%R \n",
        "dim(x_sam)"
      ],
      "execution_count": null,
      "outputs": [
        {
          "output_type": "stream",
          "name": "stdout",
          "text": [
            "[1] 73079    19\n"
          ]
        }
      ]
    },
    {
      "cell_type": "markdown",
      "metadata": {
        "id": "d55lJAW-fbr5"
      },
      "source": [
        "According to above summary of 73079 appointments booked in the same day, this is the following logistic regression which show association between no-shows and SMS_received in this same day group:\n",
        "\n",
        "ln(odds of being a \"no-show\") = **-1.9303749** + **0.8514583**x where x = 1 if the patients received a SMS, and 0 if the patient did not receive a SMS. \n",
        "The standard errors of the intercept and slope estimate for x respectively are 0.01214, 0.02440.\n",
        "\n",
        "Odds ratio (and 95% CI) of being no show for those who booking the same day received a SMS compared to those who booking the same day but did not received: \n",
        "2.343 (2.231, 2.46)\n",
        "\n",
        "**p(SMS) = 0.254**; **p(noSMS) = 0.127** <br>\n",
        "RD (Risk difference) = p(SMS) - p(noSMS) = 0.254 - 0.127 = 0.127 <br>\n",
        "**Conclusion:** For the patients **booking in the same day** to appointment day, there is **12.7% greater of risk no showing up** in Medical appointment **even when they received SMS** compared to those who didn't receive SMS"
      ]
    },
    {
      "cell_type": "markdown",
      "metadata": {
        "id": "7mbQE88bqibP"
      },
      "source": [
        "## **Predicting and classifying**"
      ]
    },
    {
      "cell_type": "markdown",
      "source": [
        "#### **Test-train split**"
      ],
      "metadata": {
        "id": "PnzDajj51XAT"
      }
    },
    {
      "cell_type": "code",
      "source": [
        "x = noshow[['SMS_received','In_advance']].to_numpy()\n",
        "y = noshow[['noshow']].to_numpy()"
      ],
      "metadata": {
        "id": "w-QNFsWw1uNW"
      },
      "execution_count": null,
      "outputs": []
    },
    {
      "cell_type": "code",
      "metadata": {
        "id": "Sw7o-_41U-j1",
        "colab": {
          "base_uri": "https://localhost:8080/"
        },
        "outputId": "4c6ab318-5bae-4ee4-e89e-d4995818ba45"
      },
      "source": [
        "x_train, x_test, y_train, y_test = train_test_split(x, y, test_size=0.20, random_state=2)\n",
        "print(\"x_train and x_test shape:\", x_train.shape, x_test.shape)\n",
        "print(\"y_train and y_test shape:\", y_train.shape, y_test.shape)"
      ],
      "execution_count": null,
      "outputs": [
        {
          "output_type": "stream",
          "name": "stdout",
          "text": [
            "x_train and x_test shape: (88421, 2) (22106, 2)\n",
            "y_train and y_test shape: (88421, 1) (22106, 1)\n"
          ]
        }
      ]
    },
    {
      "cell_type": "code",
      "source": [
        "print('x:',x[0:5])\n",
        "print('y:',y[0:5])"
      ],
      "metadata": {
        "colab": {
          "base_uri": "https://localhost:8080/"
        },
        "id": "CqKn1-knMj7D",
        "outputId": "9973d85c-4e73-47af-dbf5-31e1f188bedc"
      },
      "execution_count": null,
      "outputs": [
        {
          "output_type": "stream",
          "name": "stdout",
          "text": [
            "x: [[0 '0']\n",
            " [0 '0']\n",
            " [0 '0']\n",
            " [0 '0']\n",
            " [0 '0']]\n",
            "y: [['0']\n",
            " ['0']\n",
            " ['0']\n",
            " ['0']\n",
            " ['0']]\n"
          ]
        }
      ]
    },
    {
      "cell_type": "markdown",
      "metadata": {
        "id": "lWisRD_Wk8yS"
      },
      "source": [
        "#### **Predicting noshow in appointment by using logistic regression and GridSearchCV for finding best parameters**"
      ]
    },
    {
      "cell_type": "code",
      "source": [
        "# parameters\n",
        "parameters ={'C':[0.01,0.1,1],\n",
        "             'penalty':['l2'],\n",
        "             'solver':['lbfgs']}"
      ],
      "metadata": {
        "id": "yC-T6veG0_u9"
      },
      "execution_count": null,
      "outputs": []
    },
    {
      "cell_type": "code",
      "metadata": {
        "id": "iOglMYrjO7WJ"
      },
      "source": [
        "lr=LogisticRegression()\n",
        "logreg_cv = GridSearchCV(lr, parameters, cv=10)\n",
        "logreg_cv.fit(x_train,y_train)"
      ],
      "execution_count": null,
      "outputs": []
    },
    {
      "cell_type": "code",
      "source": [
        "print(\"best parameters \",logreg_cv.best_params_)\n",
        "print(\"first 5 predicted value:\",logreg_cv.predict(x_test)[0:5])\n",
        "print('first 5 actual value:',y_test[0:5])"
      ],
      "metadata": {
        "colab": {
          "base_uri": "https://localhost:8080/"
        },
        "id": "VYI3d6kSMvN5",
        "outputId": "8550dc76-8317-4885-e5e4-012c7bffb6f0"
      },
      "execution_count": null,
      "outputs": [
        {
          "output_type": "stream",
          "name": "stdout",
          "text": [
            "best parameters  {'C': 0.01, 'penalty': 'l2', 'solver': 'lbfgs'}\n",
            "first 5 predicted value: ['0' '0' '0' '0' '0']\n",
            "first 5 actual value: [['1']\n",
            " ['0']\n",
            " ['0']\n",
            " ['0']\n",
            " ['0']]\n"
          ]
        }
      ]
    },
    {
      "cell_type": "code",
      "source": [
        "logreg_cv.score(x_test,y_test)"
      ],
      "metadata": {
        "colab": {
          "base_uri": "https://localhost:8080/"
        },
        "id": "LxCF1bbC3kRa",
        "outputId": "48f9f880-d158-4970-9c20-d874b723ac05"
      },
      "execution_count": null,
      "outputs": [
        {
          "output_type": "execute_result",
          "data": {
            "text/plain": [
              "0.7968424862028408"
            ]
          },
          "metadata": {},
          "execution_count": 111
        }
      ]
    },
    {
      "cell_type": "code",
      "metadata": {
        "id": "btWpZPTfsSG_",
        "colab": {
          "base_uri": "https://localhost:8080/"
        },
        "outputId": "5830af97-f837-413c-81c1-343bc49944dd"
      },
      "source": [
        "print(\"confusion matrix:\",metrics.confusion_matrix(y_test, logreg_cv.predict(x_test)))"
      ],
      "execution_count": null,
      "outputs": [
        {
          "output_type": "stream",
          "name": "stdout",
          "text": [
            "confusion matrix: [[17615     0]\n",
            " [ 4491     0]]\n"
          ]
        }
      ]
    },
    {
      "cell_type": "code",
      "source": [
        ""
      ],
      "metadata": {
        "id": "cP3SnQPTM8SB"
      },
      "execution_count": null,
      "outputs": []
    }
  ]
}