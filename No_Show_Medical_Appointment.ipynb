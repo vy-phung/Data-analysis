{
  "nbformat": 4,
  "nbformat_minor": 0,
  "metadata": {
    "colab": {
      "name": "No Show Medical Appointment.ipynb",
      "provenance": [],
      "authorship_tag": "ABX9TyOL2vsoq221qv9HLb4J4lWZ",
      "include_colab_link": true
    },
    "kernelspec": {
      "display_name": "Python 3",
      "name": "python3"
    },
    "language_info": {
      "name": "python"
    }
  },
  "cells": [
    {
      "cell_type": "markdown",
      "metadata": {
        "id": "view-in-github",
        "colab_type": "text"
      },
      "source": [
        "<a href=\"https://colab.research.google.com/github/vy-phung/Data-analysis/blob/main/No_Show_Medical_Appointment.ipynb\" target=\"_parent\"><img src=\"https://colab.research.google.com/assets/colab-badge.svg\" alt=\"Open In Colab\"/></a>"
      ]
    },
    {
      "cell_type": "markdown",
      "metadata": {
        "id": "zi-MnVbsM0MZ"
      },
      "source": [
        "#**Data analysis Medical Appointment**"
      ]
    },
    {
      "cell_type": "markdown",
      "metadata": {
        "id": "7eCArbS34Xxg"
      },
      "source": [
        "The purpose of this data analysis is to find if receiving SMS or not is associated with the customers showing up or not showing up in Medical appointment. I re-analyse the data source on Kaggle (you can go to the link below if you're also interested to analyse it) \n",
        "\n",
        "In addition, I wil analyse other factors especially the factor of scheduling in the same day or in advance the Medical appointment may effect the relationship between SMS_received and no-show appointment. \n"
      ]
    },
    {
      "cell_type": "markdown",
      "metadata": {
        "id": "9wPDTbcU8KTr"
      },
      "source": [
        "Data source: https://www.kaggle.com/joniarroba/noshowappointments/home \n",
        "\n",
        " (In this data source there is also the explanation for variable name. Moreover, this analysis for this data source refered to Simple Regression Analysis of Public Health on Coursera )"
      ]
    },
    {
      "cell_type": "markdown",
      "metadata": {
        "id": "5YavWOD_7ZfR"
      },
      "source": [
        "I will use logistic regression for this analysis. "
      ]
    },
    {
      "cell_type": "code",
      "metadata": {
        "id": "llMVzCWm23z2"
      },
      "source": [
        "#@title Import packages \n",
        "# Package\n",
        "import pandas as pd\n",
        "import numpy as np\n",
        "from sklearn.linear_model import LogisticRegression\n",
        "from sklearn.model_selection import train_test_split\n",
        "from sklearn import metrics\n",
        "# import the visualization package\n",
        "import seaborn as sns\n",
        "import matplotlib.pyplot as plt\n",
        "%matplotlib inline "
      ],
      "execution_count": 2,
      "outputs": []
    },
    {
      "cell_type": "markdown",
      "metadata": {
        "id": "9KRBdRQY9k8R"
      },
      "source": [
        "### **Import data**"
      ]
    },
    {
      "cell_type": "code",
      "metadata": {
        "colab": {
          "base_uri": "https://localhost:8080/",
          "height": 635
        },
        "id": "qNhETP4bdvDz",
        "outputId": "1483e523-9c28-4be3-ae51-90221e6ad7e4"
      },
      "source": [
        "noshow = pd.read_csv('/content/KaggleV2-May-2016.csv')\n",
        "noshow"
      ],
      "execution_count": 3,
      "outputs": [
        {
          "output_type": "execute_result",
          "data": {
            "text/html": [
              "<div>\n",
              "<style scoped>\n",
              "    .dataframe tbody tr th:only-of-type {\n",
              "        vertical-align: middle;\n",
              "    }\n",
              "\n",
              "    .dataframe tbody tr th {\n",
              "        vertical-align: top;\n",
              "    }\n",
              "\n",
              "    .dataframe thead th {\n",
              "        text-align: right;\n",
              "    }\n",
              "</style>\n",
              "<table border=\"1\" class=\"dataframe\">\n",
              "  <thead>\n",
              "    <tr style=\"text-align: right;\">\n",
              "      <th></th>\n",
              "      <th>PatientId</th>\n",
              "      <th>AppointmentID</th>\n",
              "      <th>Gender</th>\n",
              "      <th>ScheduledDay</th>\n",
              "      <th>AppointmentDay</th>\n",
              "      <th>Age</th>\n",
              "      <th>Neighbourhood</th>\n",
              "      <th>Scholarship</th>\n",
              "      <th>Hipertension</th>\n",
              "      <th>Diabetes</th>\n",
              "      <th>Alcoholism</th>\n",
              "      <th>Handcap</th>\n",
              "      <th>SMS_received</th>\n",
              "      <th>No-show</th>\n",
              "    </tr>\n",
              "  </thead>\n",
              "  <tbody>\n",
              "    <tr>\n",
              "      <th>0</th>\n",
              "      <td>2.987250e+13</td>\n",
              "      <td>5642903</td>\n",
              "      <td>F</td>\n",
              "      <td>2016-04-29T18:38:08Z</td>\n",
              "      <td>2016-04-29T00:00:00Z</td>\n",
              "      <td>62</td>\n",
              "      <td>JARDIM DA PENHA</td>\n",
              "      <td>0</td>\n",
              "      <td>1</td>\n",
              "      <td>0</td>\n",
              "      <td>0</td>\n",
              "      <td>0</td>\n",
              "      <td>0</td>\n",
              "      <td>No</td>\n",
              "    </tr>\n",
              "    <tr>\n",
              "      <th>1</th>\n",
              "      <td>5.589978e+14</td>\n",
              "      <td>5642503</td>\n",
              "      <td>M</td>\n",
              "      <td>2016-04-29T16:08:27Z</td>\n",
              "      <td>2016-04-29T00:00:00Z</td>\n",
              "      <td>56</td>\n",
              "      <td>JARDIM DA PENHA</td>\n",
              "      <td>0</td>\n",
              "      <td>0</td>\n",
              "      <td>0</td>\n",
              "      <td>0</td>\n",
              "      <td>0</td>\n",
              "      <td>0</td>\n",
              "      <td>No</td>\n",
              "    </tr>\n",
              "    <tr>\n",
              "      <th>2</th>\n",
              "      <td>4.262962e+12</td>\n",
              "      <td>5642549</td>\n",
              "      <td>F</td>\n",
              "      <td>2016-04-29T16:19:04Z</td>\n",
              "      <td>2016-04-29T00:00:00Z</td>\n",
              "      <td>62</td>\n",
              "      <td>MATA DA PRAIA</td>\n",
              "      <td>0</td>\n",
              "      <td>0</td>\n",
              "      <td>0</td>\n",
              "      <td>0</td>\n",
              "      <td>0</td>\n",
              "      <td>0</td>\n",
              "      <td>No</td>\n",
              "    </tr>\n",
              "    <tr>\n",
              "      <th>3</th>\n",
              "      <td>8.679512e+11</td>\n",
              "      <td>5642828</td>\n",
              "      <td>F</td>\n",
              "      <td>2016-04-29T17:29:31Z</td>\n",
              "      <td>2016-04-29T00:00:00Z</td>\n",
              "      <td>8</td>\n",
              "      <td>PONTAL DE CAMBURI</td>\n",
              "      <td>0</td>\n",
              "      <td>0</td>\n",
              "      <td>0</td>\n",
              "      <td>0</td>\n",
              "      <td>0</td>\n",
              "      <td>0</td>\n",
              "      <td>No</td>\n",
              "    </tr>\n",
              "    <tr>\n",
              "      <th>4</th>\n",
              "      <td>8.841186e+12</td>\n",
              "      <td>5642494</td>\n",
              "      <td>F</td>\n",
              "      <td>2016-04-29T16:07:23Z</td>\n",
              "      <td>2016-04-29T00:00:00Z</td>\n",
              "      <td>56</td>\n",
              "      <td>JARDIM DA PENHA</td>\n",
              "      <td>0</td>\n",
              "      <td>1</td>\n",
              "      <td>1</td>\n",
              "      <td>0</td>\n",
              "      <td>0</td>\n",
              "      <td>0</td>\n",
              "      <td>No</td>\n",
              "    </tr>\n",
              "    <tr>\n",
              "      <th>...</th>\n",
              "      <td>...</td>\n",
              "      <td>...</td>\n",
              "      <td>...</td>\n",
              "      <td>...</td>\n",
              "      <td>...</td>\n",
              "      <td>...</td>\n",
              "      <td>...</td>\n",
              "      <td>...</td>\n",
              "      <td>...</td>\n",
              "      <td>...</td>\n",
              "      <td>...</td>\n",
              "      <td>...</td>\n",
              "      <td>...</td>\n",
              "      <td>...</td>\n",
              "    </tr>\n",
              "    <tr>\n",
              "      <th>110522</th>\n",
              "      <td>2.572134e+12</td>\n",
              "      <td>5651768</td>\n",
              "      <td>F</td>\n",
              "      <td>2016-05-03T09:15:35Z</td>\n",
              "      <td>2016-06-07T00:00:00Z</td>\n",
              "      <td>56</td>\n",
              "      <td>MARIA ORTIZ</td>\n",
              "      <td>0</td>\n",
              "      <td>0</td>\n",
              "      <td>0</td>\n",
              "      <td>0</td>\n",
              "      <td>0</td>\n",
              "      <td>1</td>\n",
              "      <td>No</td>\n",
              "    </tr>\n",
              "    <tr>\n",
              "      <th>110523</th>\n",
              "      <td>3.596266e+12</td>\n",
              "      <td>5650093</td>\n",
              "      <td>F</td>\n",
              "      <td>2016-05-03T07:27:33Z</td>\n",
              "      <td>2016-06-07T00:00:00Z</td>\n",
              "      <td>51</td>\n",
              "      <td>MARIA ORTIZ</td>\n",
              "      <td>0</td>\n",
              "      <td>0</td>\n",
              "      <td>0</td>\n",
              "      <td>0</td>\n",
              "      <td>0</td>\n",
              "      <td>1</td>\n",
              "      <td>No</td>\n",
              "    </tr>\n",
              "    <tr>\n",
              "      <th>110524</th>\n",
              "      <td>1.557663e+13</td>\n",
              "      <td>5630692</td>\n",
              "      <td>F</td>\n",
              "      <td>2016-04-27T16:03:52Z</td>\n",
              "      <td>2016-06-07T00:00:00Z</td>\n",
              "      <td>21</td>\n",
              "      <td>MARIA ORTIZ</td>\n",
              "      <td>0</td>\n",
              "      <td>0</td>\n",
              "      <td>0</td>\n",
              "      <td>0</td>\n",
              "      <td>0</td>\n",
              "      <td>1</td>\n",
              "      <td>No</td>\n",
              "    </tr>\n",
              "    <tr>\n",
              "      <th>110525</th>\n",
              "      <td>9.213493e+13</td>\n",
              "      <td>5630323</td>\n",
              "      <td>F</td>\n",
              "      <td>2016-04-27T15:09:23Z</td>\n",
              "      <td>2016-06-07T00:00:00Z</td>\n",
              "      <td>38</td>\n",
              "      <td>MARIA ORTIZ</td>\n",
              "      <td>0</td>\n",
              "      <td>0</td>\n",
              "      <td>0</td>\n",
              "      <td>0</td>\n",
              "      <td>0</td>\n",
              "      <td>1</td>\n",
              "      <td>No</td>\n",
              "    </tr>\n",
              "    <tr>\n",
              "      <th>110526</th>\n",
              "      <td>3.775115e+14</td>\n",
              "      <td>5629448</td>\n",
              "      <td>F</td>\n",
              "      <td>2016-04-27T13:30:56Z</td>\n",
              "      <td>2016-06-07T00:00:00Z</td>\n",
              "      <td>54</td>\n",
              "      <td>MARIA ORTIZ</td>\n",
              "      <td>0</td>\n",
              "      <td>0</td>\n",
              "      <td>0</td>\n",
              "      <td>0</td>\n",
              "      <td>0</td>\n",
              "      <td>1</td>\n",
              "      <td>No</td>\n",
              "    </tr>\n",
              "  </tbody>\n",
              "</table>\n",
              "<p>110527 rows × 14 columns</p>\n",
              "</div>"
            ],
            "text/plain": [
              "           PatientId  AppointmentID Gender  ... Handcap SMS_received  No-show\n",
              "0       2.987250e+13        5642903      F  ...       0            0       No\n",
              "1       5.589978e+14        5642503      M  ...       0            0       No\n",
              "2       4.262962e+12        5642549      F  ...       0            0       No\n",
              "3       8.679512e+11        5642828      F  ...       0            0       No\n",
              "4       8.841186e+12        5642494      F  ...       0            0       No\n",
              "...              ...            ...    ...  ...     ...          ...      ...\n",
              "110522  2.572134e+12        5651768      F  ...       0            1       No\n",
              "110523  3.596266e+12        5650093      F  ...       0            1       No\n",
              "110524  1.557663e+13        5630692      F  ...       0            1       No\n",
              "110525  9.213493e+13        5630323      F  ...       0            1       No\n",
              "110526  3.775115e+14        5629448      F  ...       0            1       No\n",
              "\n",
              "[110527 rows x 14 columns]"
            ]
          },
          "metadata": {},
          "execution_count": 3
        }
      ]
    },
    {
      "cell_type": "code",
      "metadata": {
        "colab": {
          "base_uri": "https://localhost:8080/",
          "height": 300
        },
        "id": "qtBG2NhI-Yw1",
        "outputId": "93be5df7-db70-4583-e3f5-b9c412d93501"
      },
      "source": [
        "noshow.describe()"
      ],
      "execution_count": null,
      "outputs": [
        {
          "output_type": "execute_result",
          "data": {
            "text/html": [
              "<div>\n",
              "<style scoped>\n",
              "    .dataframe tbody tr th:only-of-type {\n",
              "        vertical-align: middle;\n",
              "    }\n",
              "\n",
              "    .dataframe tbody tr th {\n",
              "        vertical-align: top;\n",
              "    }\n",
              "\n",
              "    .dataframe thead th {\n",
              "        text-align: right;\n",
              "    }\n",
              "</style>\n",
              "<table border=\"1\" class=\"dataframe\">\n",
              "  <thead>\n",
              "    <tr style=\"text-align: right;\">\n",
              "      <th></th>\n",
              "      <th>PatientId</th>\n",
              "      <th>AppointmentID</th>\n",
              "      <th>Age</th>\n",
              "      <th>Scholarship</th>\n",
              "      <th>Hipertension</th>\n",
              "      <th>Diabetes</th>\n",
              "      <th>Alcoholism</th>\n",
              "      <th>Handcap</th>\n",
              "      <th>SMS_received</th>\n",
              "    </tr>\n",
              "  </thead>\n",
              "  <tbody>\n",
              "    <tr>\n",
              "      <th>count</th>\n",
              "      <td>1.105270e+05</td>\n",
              "      <td>1.105270e+05</td>\n",
              "      <td>110527.000000</td>\n",
              "      <td>110527.000000</td>\n",
              "      <td>110527.000000</td>\n",
              "      <td>110527.000000</td>\n",
              "      <td>110527.000000</td>\n",
              "      <td>110527.000000</td>\n",
              "      <td>110527.000000</td>\n",
              "    </tr>\n",
              "    <tr>\n",
              "      <th>mean</th>\n",
              "      <td>1.474963e+14</td>\n",
              "      <td>5.675305e+06</td>\n",
              "      <td>37.088874</td>\n",
              "      <td>0.098266</td>\n",
              "      <td>0.197246</td>\n",
              "      <td>0.071865</td>\n",
              "      <td>0.030400</td>\n",
              "      <td>0.022248</td>\n",
              "      <td>0.321026</td>\n",
              "    </tr>\n",
              "    <tr>\n",
              "      <th>std</th>\n",
              "      <td>2.560949e+14</td>\n",
              "      <td>7.129575e+04</td>\n",
              "      <td>23.110205</td>\n",
              "      <td>0.297675</td>\n",
              "      <td>0.397921</td>\n",
              "      <td>0.258265</td>\n",
              "      <td>0.171686</td>\n",
              "      <td>0.161543</td>\n",
              "      <td>0.466873</td>\n",
              "    </tr>\n",
              "    <tr>\n",
              "      <th>min</th>\n",
              "      <td>3.921784e+04</td>\n",
              "      <td>5.030230e+06</td>\n",
              "      <td>-1.000000</td>\n",
              "      <td>0.000000</td>\n",
              "      <td>0.000000</td>\n",
              "      <td>0.000000</td>\n",
              "      <td>0.000000</td>\n",
              "      <td>0.000000</td>\n",
              "      <td>0.000000</td>\n",
              "    </tr>\n",
              "    <tr>\n",
              "      <th>25%</th>\n",
              "      <td>4.172614e+12</td>\n",
              "      <td>5.640286e+06</td>\n",
              "      <td>18.000000</td>\n",
              "      <td>0.000000</td>\n",
              "      <td>0.000000</td>\n",
              "      <td>0.000000</td>\n",
              "      <td>0.000000</td>\n",
              "      <td>0.000000</td>\n",
              "      <td>0.000000</td>\n",
              "    </tr>\n",
              "    <tr>\n",
              "      <th>50%</th>\n",
              "      <td>3.173184e+13</td>\n",
              "      <td>5.680573e+06</td>\n",
              "      <td>37.000000</td>\n",
              "      <td>0.000000</td>\n",
              "      <td>0.000000</td>\n",
              "      <td>0.000000</td>\n",
              "      <td>0.000000</td>\n",
              "      <td>0.000000</td>\n",
              "      <td>0.000000</td>\n",
              "    </tr>\n",
              "    <tr>\n",
              "      <th>75%</th>\n",
              "      <td>9.439172e+13</td>\n",
              "      <td>5.725524e+06</td>\n",
              "      <td>55.000000</td>\n",
              "      <td>0.000000</td>\n",
              "      <td>0.000000</td>\n",
              "      <td>0.000000</td>\n",
              "      <td>0.000000</td>\n",
              "      <td>0.000000</td>\n",
              "      <td>1.000000</td>\n",
              "    </tr>\n",
              "    <tr>\n",
              "      <th>max</th>\n",
              "      <td>9.999816e+14</td>\n",
              "      <td>5.790484e+06</td>\n",
              "      <td>115.000000</td>\n",
              "      <td>1.000000</td>\n",
              "      <td>1.000000</td>\n",
              "      <td>1.000000</td>\n",
              "      <td>1.000000</td>\n",
              "      <td>4.000000</td>\n",
              "      <td>1.000000</td>\n",
              "    </tr>\n",
              "  </tbody>\n",
              "</table>\n",
              "</div>"
            ],
            "text/plain": [
              "          PatientId  AppointmentID  ...        Handcap   SMS_received\n",
              "count  1.105270e+05   1.105270e+05  ...  110527.000000  110527.000000\n",
              "mean   1.474963e+14   5.675305e+06  ...       0.022248       0.321026\n",
              "std    2.560949e+14   7.129575e+04  ...       0.161543       0.466873\n",
              "min    3.921784e+04   5.030230e+06  ...       0.000000       0.000000\n",
              "25%    4.172614e+12   5.640286e+06  ...       0.000000       0.000000\n",
              "50%    3.173184e+13   5.680573e+06  ...       0.000000       0.000000\n",
              "75%    9.439172e+13   5.725524e+06  ...       0.000000       1.000000\n",
              "max    9.999816e+14   5.790484e+06  ...       4.000000       1.000000\n",
              "\n",
              "[8 rows x 9 columns]"
            ]
          },
          "metadata": {},
          "execution_count": 3
        }
      ]
    },
    {
      "cell_type": "code",
      "metadata": {
        "colab": {
          "base_uri": "https://localhost:8080/"
        },
        "id": "heg3nYASAkI7",
        "outputId": "d7a8ef81-085f-4973-8418-0830da518fff"
      },
      "source": [
        "print(noshow.dtypes)"
      ],
      "execution_count": null,
      "outputs": [
        {
          "output_type": "stream",
          "name": "stdout",
          "text": [
            "PatientId         float64\n",
            "AppointmentID       int64\n",
            "Gender             object\n",
            "ScheduledDay       object\n",
            "AppointmentDay     object\n",
            "Age                 int64\n",
            "Neighbourhood      object\n",
            "Scholarship         int64\n",
            "Hipertension        int64\n",
            "Diabetes            int64\n",
            "Alcoholism          int64\n",
            "Handcap             int64\n",
            "SMS_received        int64\n",
            "No-show            object\n",
            "dtype: object\n"
          ]
        }
      ]
    },
    {
      "cell_type": "code",
      "metadata": {
        "colab": {
          "base_uri": "https://localhost:8080/"
        },
        "id": "a9BemaAPhKx5",
        "outputId": "bce5a1eb-2918-4a61-bb3f-8b99f405be12"
      },
      "source": [
        "print(\"number of NaN values for the column No-show :\", noshow['No-show'].isnull().sum())\n",
        "print(\"number of NaN values for the column SMS_received :\", noshow['SMS_received'].isnull().sum())\n",
        "print(\"number of NaN values for the column ScheduledDay :\", noshow['ScheduledDay'].isnull().sum())\n",
        "print(\"number of NaN values for the column AppointmentDay :\", noshow['AppointmentDay'].isnull().sum())"
      ],
      "execution_count": null,
      "outputs": [
        {
          "output_type": "stream",
          "name": "stdout",
          "text": [
            "number of NaN values for the column No-show : 0\n",
            "number of NaN values for the column SMS_received : 0\n",
            "number of NaN values for the column ScheduledDay : 0\n",
            "number of NaN values for the column AppointmentDay : 0\n"
          ]
        }
      ]
    },
    {
      "cell_type": "markdown",
      "metadata": {
        "id": "RebgFarL-nEr"
      },
      "source": [
        "### **Exploratory data analysis**"
      ]
    },
    {
      "cell_type": "code",
      "metadata": {
        "colab": {
          "base_uri": "https://localhost:8080/",
          "height": 635
        },
        "id": "Vo_RYBpQd18M",
        "outputId": "703116ca-282e-4aca-e87d-a5933be61807"
      },
      "source": [
        "no_show = []\n",
        "for term in noshow['No-show']:\n",
        "  if term == 'No':\n",
        "    no_show.append('0')\n",
        "  elif term == 'Yes':\n",
        "    no_show.append('1')\n",
        "df = pd.Series(no_show, name='noshow')\n",
        "noshow = pd.concat([noshow, df], axis=1)\n",
        "noshow"
      ],
      "execution_count": 3,
      "outputs": [
        {
          "output_type": "execute_result",
          "data": {
            "text/html": [
              "<div>\n",
              "<style scoped>\n",
              "    .dataframe tbody tr th:only-of-type {\n",
              "        vertical-align: middle;\n",
              "    }\n",
              "\n",
              "    .dataframe tbody tr th {\n",
              "        vertical-align: top;\n",
              "    }\n",
              "\n",
              "    .dataframe thead th {\n",
              "        text-align: right;\n",
              "    }\n",
              "</style>\n",
              "<table border=\"1\" class=\"dataframe\">\n",
              "  <thead>\n",
              "    <tr style=\"text-align: right;\">\n",
              "      <th></th>\n",
              "      <th>PatientId</th>\n",
              "      <th>AppointmentID</th>\n",
              "      <th>Gender</th>\n",
              "      <th>ScheduledDay</th>\n",
              "      <th>AppointmentDay</th>\n",
              "      <th>Age</th>\n",
              "      <th>Neighbourhood</th>\n",
              "      <th>Scholarship</th>\n",
              "      <th>Hipertension</th>\n",
              "      <th>Diabetes</th>\n",
              "      <th>Alcoholism</th>\n",
              "      <th>Handcap</th>\n",
              "      <th>SMS_received</th>\n",
              "      <th>No-show</th>\n",
              "      <th>noshow</th>\n",
              "    </tr>\n",
              "  </thead>\n",
              "  <tbody>\n",
              "    <tr>\n",
              "      <th>0</th>\n",
              "      <td>2.987250e+13</td>\n",
              "      <td>5642903</td>\n",
              "      <td>F</td>\n",
              "      <td>2016-04-29T18:38:08Z</td>\n",
              "      <td>2016-04-29T00:00:00Z</td>\n",
              "      <td>62</td>\n",
              "      <td>JARDIM DA PENHA</td>\n",
              "      <td>0</td>\n",
              "      <td>1</td>\n",
              "      <td>0</td>\n",
              "      <td>0</td>\n",
              "      <td>0</td>\n",
              "      <td>0</td>\n",
              "      <td>No</td>\n",
              "      <td>0</td>\n",
              "    </tr>\n",
              "    <tr>\n",
              "      <th>1</th>\n",
              "      <td>5.589978e+14</td>\n",
              "      <td>5642503</td>\n",
              "      <td>M</td>\n",
              "      <td>2016-04-29T16:08:27Z</td>\n",
              "      <td>2016-04-29T00:00:00Z</td>\n",
              "      <td>56</td>\n",
              "      <td>JARDIM DA PENHA</td>\n",
              "      <td>0</td>\n",
              "      <td>0</td>\n",
              "      <td>0</td>\n",
              "      <td>0</td>\n",
              "      <td>0</td>\n",
              "      <td>0</td>\n",
              "      <td>No</td>\n",
              "      <td>0</td>\n",
              "    </tr>\n",
              "    <tr>\n",
              "      <th>2</th>\n",
              "      <td>4.262962e+12</td>\n",
              "      <td>5642549</td>\n",
              "      <td>F</td>\n",
              "      <td>2016-04-29T16:19:04Z</td>\n",
              "      <td>2016-04-29T00:00:00Z</td>\n",
              "      <td>62</td>\n",
              "      <td>MATA DA PRAIA</td>\n",
              "      <td>0</td>\n",
              "      <td>0</td>\n",
              "      <td>0</td>\n",
              "      <td>0</td>\n",
              "      <td>0</td>\n",
              "      <td>0</td>\n",
              "      <td>No</td>\n",
              "      <td>0</td>\n",
              "    </tr>\n",
              "    <tr>\n",
              "      <th>3</th>\n",
              "      <td>8.679512e+11</td>\n",
              "      <td>5642828</td>\n",
              "      <td>F</td>\n",
              "      <td>2016-04-29T17:29:31Z</td>\n",
              "      <td>2016-04-29T00:00:00Z</td>\n",
              "      <td>8</td>\n",
              "      <td>PONTAL DE CAMBURI</td>\n",
              "      <td>0</td>\n",
              "      <td>0</td>\n",
              "      <td>0</td>\n",
              "      <td>0</td>\n",
              "      <td>0</td>\n",
              "      <td>0</td>\n",
              "      <td>No</td>\n",
              "      <td>0</td>\n",
              "    </tr>\n",
              "    <tr>\n",
              "      <th>4</th>\n",
              "      <td>8.841186e+12</td>\n",
              "      <td>5642494</td>\n",
              "      <td>F</td>\n",
              "      <td>2016-04-29T16:07:23Z</td>\n",
              "      <td>2016-04-29T00:00:00Z</td>\n",
              "      <td>56</td>\n",
              "      <td>JARDIM DA PENHA</td>\n",
              "      <td>0</td>\n",
              "      <td>1</td>\n",
              "      <td>1</td>\n",
              "      <td>0</td>\n",
              "      <td>0</td>\n",
              "      <td>0</td>\n",
              "      <td>No</td>\n",
              "      <td>0</td>\n",
              "    </tr>\n",
              "    <tr>\n",
              "      <th>...</th>\n",
              "      <td>...</td>\n",
              "      <td>...</td>\n",
              "      <td>...</td>\n",
              "      <td>...</td>\n",
              "      <td>...</td>\n",
              "      <td>...</td>\n",
              "      <td>...</td>\n",
              "      <td>...</td>\n",
              "      <td>...</td>\n",
              "      <td>...</td>\n",
              "      <td>...</td>\n",
              "      <td>...</td>\n",
              "      <td>...</td>\n",
              "      <td>...</td>\n",
              "      <td>...</td>\n",
              "    </tr>\n",
              "    <tr>\n",
              "      <th>110522</th>\n",
              "      <td>2.572134e+12</td>\n",
              "      <td>5651768</td>\n",
              "      <td>F</td>\n",
              "      <td>2016-05-03T09:15:35Z</td>\n",
              "      <td>2016-06-07T00:00:00Z</td>\n",
              "      <td>56</td>\n",
              "      <td>MARIA ORTIZ</td>\n",
              "      <td>0</td>\n",
              "      <td>0</td>\n",
              "      <td>0</td>\n",
              "      <td>0</td>\n",
              "      <td>0</td>\n",
              "      <td>1</td>\n",
              "      <td>No</td>\n",
              "      <td>0</td>\n",
              "    </tr>\n",
              "    <tr>\n",
              "      <th>110523</th>\n",
              "      <td>3.596266e+12</td>\n",
              "      <td>5650093</td>\n",
              "      <td>F</td>\n",
              "      <td>2016-05-03T07:27:33Z</td>\n",
              "      <td>2016-06-07T00:00:00Z</td>\n",
              "      <td>51</td>\n",
              "      <td>MARIA ORTIZ</td>\n",
              "      <td>0</td>\n",
              "      <td>0</td>\n",
              "      <td>0</td>\n",
              "      <td>0</td>\n",
              "      <td>0</td>\n",
              "      <td>1</td>\n",
              "      <td>No</td>\n",
              "      <td>0</td>\n",
              "    </tr>\n",
              "    <tr>\n",
              "      <th>110524</th>\n",
              "      <td>1.557663e+13</td>\n",
              "      <td>5630692</td>\n",
              "      <td>F</td>\n",
              "      <td>2016-04-27T16:03:52Z</td>\n",
              "      <td>2016-06-07T00:00:00Z</td>\n",
              "      <td>21</td>\n",
              "      <td>MARIA ORTIZ</td>\n",
              "      <td>0</td>\n",
              "      <td>0</td>\n",
              "      <td>0</td>\n",
              "      <td>0</td>\n",
              "      <td>0</td>\n",
              "      <td>1</td>\n",
              "      <td>No</td>\n",
              "      <td>0</td>\n",
              "    </tr>\n",
              "    <tr>\n",
              "      <th>110525</th>\n",
              "      <td>9.213493e+13</td>\n",
              "      <td>5630323</td>\n",
              "      <td>F</td>\n",
              "      <td>2016-04-27T15:09:23Z</td>\n",
              "      <td>2016-06-07T00:00:00Z</td>\n",
              "      <td>38</td>\n",
              "      <td>MARIA ORTIZ</td>\n",
              "      <td>0</td>\n",
              "      <td>0</td>\n",
              "      <td>0</td>\n",
              "      <td>0</td>\n",
              "      <td>0</td>\n",
              "      <td>1</td>\n",
              "      <td>No</td>\n",
              "      <td>0</td>\n",
              "    </tr>\n",
              "    <tr>\n",
              "      <th>110526</th>\n",
              "      <td>3.775115e+14</td>\n",
              "      <td>5629448</td>\n",
              "      <td>F</td>\n",
              "      <td>2016-04-27T13:30:56Z</td>\n",
              "      <td>2016-06-07T00:00:00Z</td>\n",
              "      <td>54</td>\n",
              "      <td>MARIA ORTIZ</td>\n",
              "      <td>0</td>\n",
              "      <td>0</td>\n",
              "      <td>0</td>\n",
              "      <td>0</td>\n",
              "      <td>0</td>\n",
              "      <td>1</td>\n",
              "      <td>No</td>\n",
              "      <td>0</td>\n",
              "    </tr>\n",
              "  </tbody>\n",
              "</table>\n",
              "<p>110527 rows × 15 columns</p>\n",
              "</div>"
            ],
            "text/plain": [
              "           PatientId  AppointmentID Gender  ... SMS_received No-show  noshow\n",
              "0       2.987250e+13        5642903      F  ...            0      No       0\n",
              "1       5.589978e+14        5642503      M  ...            0      No       0\n",
              "2       4.262962e+12        5642549      F  ...            0      No       0\n",
              "3       8.679512e+11        5642828      F  ...            0      No       0\n",
              "4       8.841186e+12        5642494      F  ...            0      No       0\n",
              "...              ...            ...    ...  ...          ...     ...     ...\n",
              "110522  2.572134e+12        5651768      F  ...            1      No       0\n",
              "110523  3.596266e+12        5650093      F  ...            1      No       0\n",
              "110524  1.557663e+13        5630692      F  ...            1      No       0\n",
              "110525  9.213493e+13        5630323      F  ...            1      No       0\n",
              "110526  3.775115e+14        5629448      F  ...            1      No       0\n",
              "\n",
              "[110527 rows x 15 columns]"
            ]
          },
          "metadata": {},
          "execution_count": 3
        }
      ]
    },
    {
      "cell_type": "code",
      "metadata": {
        "colab": {
          "base_uri": "https://localhost:8080/",
          "height": 349
        },
        "id": "h_MqC6ihh_ye",
        "outputId": "9580ebe0-7fbb-442b-d9b5-42e550f6d093"
      },
      "source": [
        "print(noshow['noshow'].value_counts())\n",
        "sns.countplot(data=noshow,x = 'noshow')"
      ],
      "execution_count": 4,
      "outputs": [
        {
          "output_type": "stream",
          "name": "stdout",
          "text": [
            "0    88208\n",
            "1    22319\n",
            "Name: noshow, dtype: int64\n"
          ]
        },
        {
          "output_type": "execute_result",
          "data": {
            "text/plain": [
              "<matplotlib.axes._subplots.AxesSubplot at 0x7f693c241910>"
            ]
          },
          "metadata": {},
          "execution_count": 4
        },
        {
          "output_type": "display_data",
          "data": {
            "image/png": "[encoded data removed]",
            "text/plain": [
              "<Figure size 432x288 with 1 Axes>"
            ]
          },
          "metadata": {
            "needs_background": "light"
          }
        }
      ]
    },
    {
      "cell_type": "code",
      "metadata": {
        "colab": {
          "base_uri": "https://localhost:8080/",
          "height": 349
        },
        "id": "8oWBbY6_iq13",
        "outputId": "96387dbc-d98b-4d45-f213-a3e887fc9982"
      },
      "source": [
        "print(noshow['SMS_received'].value_counts())\n",
        "sns.countplot(data=noshow,x = 'SMS_received')"
      ],
      "execution_count": 5,
      "outputs": [
        {
          "output_type": "stream",
          "name": "stdout",
          "text": [
            "0    75045\n",
            "1    35482\n",
            "Name: SMS_received, dtype: int64\n"
          ]
        },
        {
          "output_type": "execute_result",
          "data": {
            "text/plain": [
              "<matplotlib.axes._subplots.AxesSubplot at 0x7f693c134110>"
            ]
          },
          "metadata": {},
          "execution_count": 5
        },
        {
          "output_type": "display_data",
          "data": {
            "image/png": "[encoded data removed]",
            "text/plain": [
              "<Figure size 432x288 with 1 Axes>"
            ]
          },
          "metadata": {
            "needs_background": "light"
          }
        }
      ]
    },
    {
      "cell_type": "code",
      "metadata": {
        "colab": {
          "base_uri": "https://localhost:8080/",
          "height": 423
        },
        "id": "QnffBL1JHbI2",
        "outputId": "380f629e-d7a4-44fc-e40d-1736d2cee990"
      },
      "source": [
        "x = noshow[['AppointmentDay','ScheduledDay']]\n",
        "x "
      ],
      "execution_count": 4,
      "outputs": [
        {
          "output_type": "execute_result",
          "data": {
            "text/html": [
              "<div>\n",
              "<style scoped>\n",
              "    .dataframe tbody tr th:only-of-type {\n",
              "        vertical-align: middle;\n",
              "    }\n",
              "\n",
              "    .dataframe tbody tr th {\n",
              "        vertical-align: top;\n",
              "    }\n",
              "\n",
              "    .dataframe thead th {\n",
              "        text-align: right;\n",
              "    }\n",
              "</style>\n",
              "<table border=\"1\" class=\"dataframe\">\n",
              "  <thead>\n",
              "    <tr style=\"text-align: right;\">\n",
              "      <th></th>\n",
              "      <th>AppointmentDay</th>\n",
              "      <th>ScheduledDay</th>\n",
              "    </tr>\n",
              "  </thead>\n",
              "  <tbody>\n",
              "    <tr>\n",
              "      <th>0</th>\n",
              "      <td>2016-04-29T00:00:00Z</td>\n",
              "      <td>2016-04-29T18:38:08Z</td>\n",
              "    </tr>\n",
              "    <tr>\n",
              "      <th>1</th>\n",
              "      <td>2016-04-29T00:00:00Z</td>\n",
              "      <td>2016-04-29T16:08:27Z</td>\n",
              "    </tr>\n",
              "    <tr>\n",
              "      <th>2</th>\n",
              "      <td>2016-04-29T00:00:00Z</td>\n",
              "      <td>2016-04-29T16:19:04Z</td>\n",
              "    </tr>\n",
              "    <tr>\n",
              "      <th>3</th>\n",
              "      <td>2016-04-29T00:00:00Z</td>\n",
              "      <td>2016-04-29T17:29:31Z</td>\n",
              "    </tr>\n",
              "    <tr>\n",
              "      <th>4</th>\n",
              "      <td>2016-04-29T00:00:00Z</td>\n",
              "      <td>2016-04-29T16:07:23Z</td>\n",
              "    </tr>\n",
              "    <tr>\n",
              "      <th>...</th>\n",
              "      <td>...</td>\n",
              "      <td>...</td>\n",
              "    </tr>\n",
              "    <tr>\n",
              "      <th>110522</th>\n",
              "      <td>2016-06-07T00:00:00Z</td>\n",
              "      <td>2016-05-03T09:15:35Z</td>\n",
              "    </tr>\n",
              "    <tr>\n",
              "      <th>110523</th>\n",
              "      <td>2016-06-07T00:00:00Z</td>\n",
              "      <td>2016-05-03T07:27:33Z</td>\n",
              "    </tr>\n",
              "    <tr>\n",
              "      <th>110524</th>\n",
              "      <td>2016-06-07T00:00:00Z</td>\n",
              "      <td>2016-04-27T16:03:52Z</td>\n",
              "    </tr>\n",
              "    <tr>\n",
              "      <th>110525</th>\n",
              "      <td>2016-06-07T00:00:00Z</td>\n",
              "      <td>2016-04-27T15:09:23Z</td>\n",
              "    </tr>\n",
              "    <tr>\n",
              "      <th>110526</th>\n",
              "      <td>2016-06-07T00:00:00Z</td>\n",
              "      <td>2016-04-27T13:30:56Z</td>\n",
              "    </tr>\n",
              "  </tbody>\n",
              "</table>\n",
              "<p>110527 rows × 2 columns</p>\n",
              "</div>"
            ],
            "text/plain": [
              "              AppointmentDay          ScheduledDay\n",
              "0       2016-04-29T00:00:00Z  2016-04-29T18:38:08Z\n",
              "1       2016-04-29T00:00:00Z  2016-04-29T16:08:27Z\n",
              "2       2016-04-29T00:00:00Z  2016-04-29T16:19:04Z\n",
              "3       2016-04-29T00:00:00Z  2016-04-29T17:29:31Z\n",
              "4       2016-04-29T00:00:00Z  2016-04-29T16:07:23Z\n",
              "...                      ...                   ...\n",
              "110522  2016-06-07T00:00:00Z  2016-05-03T09:15:35Z\n",
              "110523  2016-06-07T00:00:00Z  2016-05-03T07:27:33Z\n",
              "110524  2016-06-07T00:00:00Z  2016-04-27T16:03:52Z\n",
              "110525  2016-06-07T00:00:00Z  2016-04-27T15:09:23Z\n",
              "110526  2016-06-07T00:00:00Z  2016-04-27T13:30:56Z\n",
              "\n",
              "[110527 rows x 2 columns]"
            ]
          },
          "metadata": {},
          "execution_count": 4
        }
      ]
    },
    {
      "cell_type": "code",
      "metadata": {
        "colab": {
          "base_uri": "https://localhost:8080/",
          "height": 423
        },
        "id": "Bt631ZfQCFri",
        "outputId": "28b712c3-a48a-4ff6-8043-3cfcb88788d5"
      },
      "source": [
        "month = []\n",
        "year = []\n",
        "for i in noshow['ScheduledDay']:\n",
        "  schedule = i.split('-') \n",
        "  if schedule[0] == '2015':  year.append('2015')\n",
        "  elif schedule[0] == '2016':  year.append('2016')\n",
        "  if schedule[1] == '01':  month.append('01')\n",
        "  elif schedule[1] == '02':  month.append('02')\n",
        "  elif schedule[1] == '03':  month.append('03')\n",
        "  elif schedule[1] == '04':  month.append('04')\n",
        "  elif schedule[1] == '05':  month.append('05')\n",
        "  elif schedule[1] == '06':  month.append('06')\n",
        "  elif schedule[1] == '07':  month.append('07')\n",
        "  elif schedule[1] == '08':  month.append('08')\n",
        "  elif schedule[1] == '09':  month.append('09')\n",
        "  elif schedule[1] == '10':  month.append('10')\n",
        "  elif schedule[1] == '11':  month.append('11')\n",
        "  elif schedule[1] == '12':  month.append('12')\n",
        "Scheduled1 = pd.Series(month, name='Month_Sched')\n",
        "Scheduled2 = pd.Series(year, name='Year_Sched')\n",
        "x = pd.concat([x, Scheduled1, Scheduled2], axis=1)\n",
        "x"
      ],
      "execution_count": 5,
      "outputs": [
        {
          "output_type": "execute_result",
          "data": {
            "text/html": [
              "<div>\n",
              "<style scoped>\n",
              "    .dataframe tbody tr th:only-of-type {\n",
              "        vertical-align: middle;\n",
              "    }\n",
              "\n",
              "    .dataframe tbody tr th {\n",
              "        vertical-align: top;\n",
              "    }\n",
              "\n",
              "    .dataframe thead th {\n",
              "        text-align: right;\n",
              "    }\n",
              "</style>\n",
              "<table border=\"1\" class=\"dataframe\">\n",
              "  <thead>\n",
              "    <tr style=\"text-align: right;\">\n",
              "      <th></th>\n",
              "      <th>AppointmentDay</th>\n",
              "      <th>ScheduledDay</th>\n",
              "      <th>Month_Sched</th>\n",
              "      <th>Year_Sched</th>\n",
              "    </tr>\n",
              "  </thead>\n",
              "  <tbody>\n",
              "    <tr>\n",
              "      <th>0</th>\n",
              "      <td>2016-04-29T00:00:00Z</td>\n",
              "      <td>2016-04-29T18:38:08Z</td>\n",
              "      <td>04</td>\n",
              "      <td>2016</td>\n",
              "    </tr>\n",
              "    <tr>\n",
              "      <th>1</th>\n",
              "      <td>2016-04-29T00:00:00Z</td>\n",
              "      <td>2016-04-29T16:08:27Z</td>\n",
              "      <td>04</td>\n",
              "      <td>2016</td>\n",
              "    </tr>\n",
              "    <tr>\n",
              "      <th>2</th>\n",
              "      <td>2016-04-29T00:00:00Z</td>\n",
              "      <td>2016-04-29T16:19:04Z</td>\n",
              "      <td>04</td>\n",
              "      <td>2016</td>\n",
              "    </tr>\n",
              "    <tr>\n",
              "      <th>3</th>\n",
              "      <td>2016-04-29T00:00:00Z</td>\n",
              "      <td>2016-04-29T17:29:31Z</td>\n",
              "      <td>04</td>\n",
              "      <td>2016</td>\n",
              "    </tr>\n",
              "    <tr>\n",
              "      <th>4</th>\n",
              "      <td>2016-04-29T00:00:00Z</td>\n",
              "      <td>2016-04-29T16:07:23Z</td>\n",
              "      <td>04</td>\n",
              "      <td>2016</td>\n",
              "    </tr>\n",
              "    <tr>\n",
              "      <th>...</th>\n",
              "      <td>...</td>\n",
              "      <td>...</td>\n",
              "      <td>...</td>\n",
              "      <td>...</td>\n",
              "    </tr>\n",
              "    <tr>\n",
              "      <th>110522</th>\n",
              "      <td>2016-06-07T00:00:00Z</td>\n",
              "      <td>2016-05-03T09:15:35Z</td>\n",
              "      <td>05</td>\n",
              "      <td>2016</td>\n",
              "    </tr>\n",
              "    <tr>\n",
              "      <th>110523</th>\n",
              "      <td>2016-06-07T00:00:00Z</td>\n",
              "      <td>2016-05-03T07:27:33Z</td>\n",
              "      <td>05</td>\n",
              "      <td>2016</td>\n",
              "    </tr>\n",
              "    <tr>\n",
              "      <th>110524</th>\n",
              "      <td>2016-06-07T00:00:00Z</td>\n",
              "      <td>2016-04-27T16:03:52Z</td>\n",
              "      <td>04</td>\n",
              "      <td>2016</td>\n",
              "    </tr>\n",
              "    <tr>\n",
              "      <th>110525</th>\n",
              "      <td>2016-06-07T00:00:00Z</td>\n",
              "      <td>2016-04-27T15:09:23Z</td>\n",
              "      <td>04</td>\n",
              "      <td>2016</td>\n",
              "    </tr>\n",
              "    <tr>\n",
              "      <th>110526</th>\n",
              "      <td>2016-06-07T00:00:00Z</td>\n",
              "      <td>2016-04-27T13:30:56Z</td>\n",
              "      <td>04</td>\n",
              "      <td>2016</td>\n",
              "    </tr>\n",
              "  </tbody>\n",
              "</table>\n",
              "<p>110527 rows × 4 columns</p>\n",
              "</div>"
            ],
            "text/plain": [
              "              AppointmentDay          ScheduledDay Month_Sched Year_Sched\n",
              "0       2016-04-29T00:00:00Z  2016-04-29T18:38:08Z          04       2016\n",
              "1       2016-04-29T00:00:00Z  2016-04-29T16:08:27Z          04       2016\n",
              "2       2016-04-29T00:00:00Z  2016-04-29T16:19:04Z          04       2016\n",
              "3       2016-04-29T00:00:00Z  2016-04-29T17:29:31Z          04       2016\n",
              "4       2016-04-29T00:00:00Z  2016-04-29T16:07:23Z          04       2016\n",
              "...                      ...                   ...         ...        ...\n",
              "110522  2016-06-07T00:00:00Z  2016-05-03T09:15:35Z          05       2016\n",
              "110523  2016-06-07T00:00:00Z  2016-05-03T07:27:33Z          05       2016\n",
              "110524  2016-06-07T00:00:00Z  2016-04-27T16:03:52Z          04       2016\n",
              "110525  2016-06-07T00:00:00Z  2016-04-27T15:09:23Z          04       2016\n",
              "110526  2016-06-07T00:00:00Z  2016-04-27T13:30:56Z          04       2016\n",
              "\n",
              "[110527 rows x 4 columns]"
            ]
          },
          "metadata": {},
          "execution_count": 5
        }
      ]
    },
    {
      "cell_type": "code",
      "metadata": {
        "colab": {
          "base_uri": "https://localhost:8080/",
          "height": 423
        },
        "id": "Id2_7A_jNe5l",
        "outputId": "ef9dbf39-24d2-425d-8b14-b40a12f68ab7"
      },
      "source": [
        "month = []\n",
        "year = []\n",
        "for i in noshow['AppointmentDay']:\n",
        "  appday = i.split('-') \n",
        "  if appday[0] == '2015':  year.append('2015')\n",
        "  elif appday[0] == '2016':  year.append('2016')\n",
        "  if appday[1] == '01':  month.append('01')\n",
        "  elif appday[1] == '02':  month.append('02')\n",
        "  elif appday[1] == '03':  month.append('03')\n",
        "  elif appday[1] == '04':  month.append('04')\n",
        "  elif appday[1] == '05':  month.append('05')\n",
        "  elif appday[1] == '06':  month.append('06')\n",
        "  elif appday[1] == '07':  month.append('07')\n",
        "  elif appday[1] == '08':  month.append('08')\n",
        "  elif appday[1] == '09':  month.append('09')\n",
        "  elif appday[1] == '10':  month.append('10')\n",
        "  elif appday[1] == '11':  month.append('11')\n",
        "  elif appday[1] == '12':  month.append('12')\n",
        "Scheduled1 = pd.Series(month, name='Month_App')\n",
        "Scheduled2 = pd.Series(year, name='Year_App')\n",
        "x = pd.concat([x, Scheduled1, Scheduled2], axis=1)\n",
        "x"
      ],
      "execution_count": 6,
      "outputs": [
        {
          "output_type": "execute_result",
          "data": {
            "text/html": [
              "<div>\n",
              "<style scoped>\n",
              "    .dataframe tbody tr th:only-of-type {\n",
              "        vertical-align: middle;\n",
              "    }\n",
              "\n",
              "    .dataframe tbody tr th {\n",
              "        vertical-align: top;\n",
              "    }\n",
              "\n",
              "    .dataframe thead th {\n",
              "        text-align: right;\n",
              "    }\n",
              "</style>\n",
              "<table border=\"1\" class=\"dataframe\">\n",
              "  <thead>\n",
              "    <tr style=\"text-align: right;\">\n",
              "      <th></th>\n",
              "      <th>AppointmentDay</th>\n",
              "      <th>ScheduledDay</th>\n",
              "      <th>Month_Sched</th>\n",
              "      <th>Year_Sched</th>\n",
              "      <th>Month_App</th>\n",
              "      <th>Year_App</th>\n",
              "    </tr>\n",
              "  </thead>\n",
              "  <tbody>\n",
              "    <tr>\n",
              "      <th>0</th>\n",
              "      <td>2016-04-29T00:00:00Z</td>\n",
              "      <td>2016-04-29T18:38:08Z</td>\n",
              "      <td>04</td>\n",
              "      <td>2016</td>\n",
              "      <td>04</td>\n",
              "      <td>2016</td>\n",
              "    </tr>\n",
              "    <tr>\n",
              "      <th>1</th>\n",
              "      <td>2016-04-29T00:00:00Z</td>\n",
              "      <td>2016-04-29T16:08:27Z</td>\n",
              "      <td>04</td>\n",
              "      <td>2016</td>\n",
              "      <td>04</td>\n",
              "      <td>2016</td>\n",
              "    </tr>\n",
              "    <tr>\n",
              "      <th>2</th>\n",
              "      <td>2016-04-29T00:00:00Z</td>\n",
              "      <td>2016-04-29T16:19:04Z</td>\n",
              "      <td>04</td>\n",
              "      <td>2016</td>\n",
              "      <td>04</td>\n",
              "      <td>2016</td>\n",
              "    </tr>\n",
              "    <tr>\n",
              "      <th>3</th>\n",
              "      <td>2016-04-29T00:00:00Z</td>\n",
              "      <td>2016-04-29T17:29:31Z</td>\n",
              "      <td>04</td>\n",
              "      <td>2016</td>\n",
              "      <td>04</td>\n",
              "      <td>2016</td>\n",
              "    </tr>\n",
              "    <tr>\n",
              "      <th>4</th>\n",
              "      <td>2016-04-29T00:00:00Z</td>\n",
              "      <td>2016-04-29T16:07:23Z</td>\n",
              "      <td>04</td>\n",
              "      <td>2016</td>\n",
              "      <td>04</td>\n",
              "      <td>2016</td>\n",
              "    </tr>\n",
              "    <tr>\n",
              "      <th>...</th>\n",
              "      <td>...</td>\n",
              "      <td>...</td>\n",
              "      <td>...</td>\n",
              "      <td>...</td>\n",
              "      <td>...</td>\n",
              "      <td>...</td>\n",
              "    </tr>\n",
              "    <tr>\n",
              "      <th>110522</th>\n",
              "      <td>2016-06-07T00:00:00Z</td>\n",
              "      <td>2016-05-03T09:15:35Z</td>\n",
              "      <td>05</td>\n",
              "      <td>2016</td>\n",
              "      <td>06</td>\n",
              "      <td>2016</td>\n",
              "    </tr>\n",
              "    <tr>\n",
              "      <th>110523</th>\n",
              "      <td>2016-06-07T00:00:00Z</td>\n",
              "      <td>2016-05-03T07:27:33Z</td>\n",
              "      <td>05</td>\n",
              "      <td>2016</td>\n",
              "      <td>06</td>\n",
              "      <td>2016</td>\n",
              "    </tr>\n",
              "    <tr>\n",
              "      <th>110524</th>\n",
              "      <td>2016-06-07T00:00:00Z</td>\n",
              "      <td>2016-04-27T16:03:52Z</td>\n",
              "      <td>04</td>\n",
              "      <td>2016</td>\n",
              "      <td>06</td>\n",
              "      <td>2016</td>\n",
              "    </tr>\n",
              "    <tr>\n",
              "      <th>110525</th>\n",
              "      <td>2016-06-07T00:00:00Z</td>\n",
              "      <td>2016-04-27T15:09:23Z</td>\n",
              "      <td>04</td>\n",
              "      <td>2016</td>\n",
              "      <td>06</td>\n",
              "      <td>2016</td>\n",
              "    </tr>\n",
              "    <tr>\n",
              "      <th>110526</th>\n",
              "      <td>2016-06-07T00:00:00Z</td>\n",
              "      <td>2016-04-27T13:30:56Z</td>\n",
              "      <td>04</td>\n",
              "      <td>2016</td>\n",
              "      <td>06</td>\n",
              "      <td>2016</td>\n",
              "    </tr>\n",
              "  </tbody>\n",
              "</table>\n",
              "<p>110527 rows × 6 columns</p>\n",
              "</div>"
            ],
            "text/plain": [
              "              AppointmentDay          ScheduledDay  ... Month_App Year_App\n",
              "0       2016-04-29T00:00:00Z  2016-04-29T18:38:08Z  ...        04     2016\n",
              "1       2016-04-29T00:00:00Z  2016-04-29T16:08:27Z  ...        04     2016\n",
              "2       2016-04-29T00:00:00Z  2016-04-29T16:19:04Z  ...        04     2016\n",
              "3       2016-04-29T00:00:00Z  2016-04-29T17:29:31Z  ...        04     2016\n",
              "4       2016-04-29T00:00:00Z  2016-04-29T16:07:23Z  ...        04     2016\n",
              "...                      ...                   ...  ...       ...      ...\n",
              "110522  2016-06-07T00:00:00Z  2016-05-03T09:15:35Z  ...        06     2016\n",
              "110523  2016-06-07T00:00:00Z  2016-05-03T07:27:33Z  ...        06     2016\n",
              "110524  2016-06-07T00:00:00Z  2016-04-27T16:03:52Z  ...        06     2016\n",
              "110525  2016-06-07T00:00:00Z  2016-04-27T15:09:23Z  ...        06     2016\n",
              "110526  2016-06-07T00:00:00Z  2016-04-27T13:30:56Z  ...        06     2016\n",
              "\n",
              "[110527 rows x 6 columns]"
            ]
          },
          "metadata": {},
          "execution_count": 6
        }
      ]
    },
    {
      "cell_type": "code",
      "metadata": {
        "colab": {
          "base_uri": "https://localhost:8080/"
        },
        "id": "K1I7osoUI9XT",
        "outputId": "039fa6b1-d962-41ef-853d-2d89698cc40d"
      },
      "source": [
        "print(\"Year of Scheduled day:\", x['Year_Sched'].value_counts())\n",
        "print(\"Year of Appointment day:\", x['Year_App'].value_counts())"
      ],
      "execution_count": 7,
      "outputs": [
        {
          "output_type": "stream",
          "name": "stdout",
          "text": [
            "Year of Scheduled day: 2016    110465\n",
            "2015        62\n",
            "Name: Year_Sched, dtype: int64\n",
            "Year of Appointment day: 2016    110527\n",
            "Name: Year_App, dtype: int64\n"
          ]
        }
      ]
    },
    {
      "cell_type": "code",
      "metadata": {
        "id": "97g7K7e21KjG"
      },
      "source": [
        "Mot_SA = x[['Month_Sched','Month_App']]\n",
        "Mot_SA['Month_App'] = Mot_SA['Month_App'].astype(object).astype(int)\n",
        "Mot_SA['Month_Sched'] = Mot_SA['Month_Sched'].astype(object).astype(int)\n",
        "Mot_SA"
      ],
      "execution_count": null,
      "outputs": []
    },
    {
      "cell_type": "code",
      "metadata": {
        "colab": {
          "base_uri": "https://localhost:8080/",
          "height": 671
        },
        "id": "ozfHTW_8tNmw",
        "outputId": "02a0bbc5-083c-4aa4-e6d6-b4aedf08c530"
      },
      "source": [
        "print(\"Months of Scheduled day:\", Mot_SA['Month_Sched'].value_counts())\n",
        "print(\"Months of Appointment day:\", Mot_SA['Month_App'].value_counts())\n",
        "Mot_SA.plot(kind='box', figsize=(10, 7))\n",
        "\n",
        "plt.title('Box plot of Scheduled Month and Appointment Month')\n",
        "plt.ylabel('Month')\n",
        "\n",
        "plt.show()"
      ],
      "execution_count": 20,
      "outputs": [
        {
          "output_type": "stream",
          "name": "stdout",
          "text": [
            "Months of Scheduled day: 5     67421\n",
            "4     25339\n",
            "6     13750\n",
            "3      3614\n",
            "2       281\n",
            "12       61\n",
            "1        60\n",
            "11        1\n",
            "Name: Month_Sched, dtype: int64\n",
            "Months of Appointment day: 5    80841\n",
            "6    26451\n",
            "4     3235\n",
            "Name: Month_App, dtype: int64\n"
          ]
        },
        {
          "output_type": "display_data",
          "data": {
            "image/png": "[encoded data removed]",
            "text/plain": [
              "<Figure size 720x504 with 1 Axes>"
            ]
          },
          "metadata": {
            "needs_background": "light"
          }
        }
      ]
    },
    {
      "cell_type": "code",
      "metadata": {
        "id": "jRe8b1r-jLuV"
      },
      "source": [
        "booking = []\n",
        "for i in range(0,len(x)):\n",
        "  if x['Year_Sched'][i] < x['Year_App'][i]:\n",
        "    booking.append('in advance')\n",
        "  elif x['Year_Sched'][i] == x['Year_App'][i]:\n",
        "    if x['Month_Sched'][i] == x['Month_App'][i]:\n",
        "      booking.append('same day')\n",
        "    elif x['Month_Sched'][i] < x['Month_App'][i]:\n",
        "      booking.append('in advance')\n",
        "Booking = pd.Series(booking, name='Reservation')\n",
        "x = pd.concat([x, Booking], axis=1)   \n"
      ],
      "execution_count": null,
      "outputs": []
    },
    {
      "cell_type": "code",
      "metadata": {
        "id": "5yqg3o-tQLny"
      },
      "source": [
        "In_adv = []\n",
        "for i in x['Reservation']:\n",
        "  if i == 'same day':\n",
        "    In_adv.append('0')\n",
        "  elif i == 'in advance':\n",
        "    In_adv.append('1')\n",
        "inadv = pd.Series(In_adv, name='In_advance')\n",
        "x = pd.concat([x, inadv], axis=1)"
      ],
      "execution_count": null,
      "outputs": []
    },
    {
      "cell_type": "code",
      "metadata": {
        "colab": {
          "base_uri": "https://localhost:8080/",
          "height": 423
        },
        "id": "O_Wq9sJYO_Vp",
        "outputId": "a88884d6-1311-449d-818a-217a2e68ff37"
      },
      "source": [
        "x"
      ],
      "execution_count": null,
      "outputs": [
        {
          "output_type": "execute_result",
          "data": {
            "text/html": [
              "<div>\n",
              "<style scoped>\n",
              "    .dataframe tbody tr th:only-of-type {\n",
              "        vertical-align: middle;\n",
              "    }\n",
              "\n",
              "    .dataframe tbody tr th {\n",
              "        vertical-align: top;\n",
              "    }\n",
              "\n",
              "    .dataframe thead th {\n",
              "        text-align: right;\n",
              "    }\n",
              "</style>\n",
              "<table border=\"1\" class=\"dataframe\">\n",
              "  <thead>\n",
              "    <tr style=\"text-align: right;\">\n",
              "      <th></th>\n",
              "      <th>AppointmentDay</th>\n",
              "      <th>ScheduledDay</th>\n",
              "      <th>Month_Sched</th>\n",
              "      <th>Year_Sched</th>\n",
              "      <th>Month_App</th>\n",
              "      <th>Year_App</th>\n",
              "      <th>Reservation</th>\n",
              "      <th>In_advance</th>\n",
              "    </tr>\n",
              "  </thead>\n",
              "  <tbody>\n",
              "    <tr>\n",
              "      <th>0</th>\n",
              "      <td>2016-04-29T00:00:00Z</td>\n",
              "      <td>2016-04-29T18:38:08Z</td>\n",
              "      <td>04</td>\n",
              "      <td>2016</td>\n",
              "      <td>04</td>\n",
              "      <td>2016</td>\n",
              "      <td>same day</td>\n",
              "      <td>0</td>\n",
              "    </tr>\n",
              "    <tr>\n",
              "      <th>1</th>\n",
              "      <td>2016-04-29T00:00:00Z</td>\n",
              "      <td>2016-04-29T16:08:27Z</td>\n",
              "      <td>04</td>\n",
              "      <td>2016</td>\n",
              "      <td>04</td>\n",
              "      <td>2016</td>\n",
              "      <td>same day</td>\n",
              "      <td>0</td>\n",
              "    </tr>\n",
              "    <tr>\n",
              "      <th>2</th>\n",
              "      <td>2016-04-29T00:00:00Z</td>\n",
              "      <td>2016-04-29T16:19:04Z</td>\n",
              "      <td>04</td>\n",
              "      <td>2016</td>\n",
              "      <td>04</td>\n",
              "      <td>2016</td>\n",
              "      <td>same day</td>\n",
              "      <td>0</td>\n",
              "    </tr>\n",
              "    <tr>\n",
              "      <th>3</th>\n",
              "      <td>2016-04-29T00:00:00Z</td>\n",
              "      <td>2016-04-29T17:29:31Z</td>\n",
              "      <td>04</td>\n",
              "      <td>2016</td>\n",
              "      <td>04</td>\n",
              "      <td>2016</td>\n",
              "      <td>same day</td>\n",
              "      <td>0</td>\n",
              "    </tr>\n",
              "    <tr>\n",
              "      <th>4</th>\n",
              "      <td>2016-04-29T00:00:00Z</td>\n",
              "      <td>2016-04-29T16:07:23Z</td>\n",
              "      <td>04</td>\n",
              "      <td>2016</td>\n",
              "      <td>04</td>\n",
              "      <td>2016</td>\n",
              "      <td>same day</td>\n",
              "      <td>0</td>\n",
              "    </tr>\n",
              "    <tr>\n",
              "      <th>...</th>\n",
              "      <td>...</td>\n",
              "      <td>...</td>\n",
              "      <td>...</td>\n",
              "      <td>...</td>\n",
              "      <td>...</td>\n",
              "      <td>...</td>\n",
              "      <td>...</td>\n",
              "      <td>...</td>\n",
              "    </tr>\n",
              "    <tr>\n",
              "      <th>110522</th>\n",
              "      <td>2016-06-07T00:00:00Z</td>\n",
              "      <td>2016-05-03T09:15:35Z</td>\n",
              "      <td>05</td>\n",
              "      <td>2016</td>\n",
              "      <td>06</td>\n",
              "      <td>2016</td>\n",
              "      <td>in advance</td>\n",
              "      <td>1</td>\n",
              "    </tr>\n",
              "    <tr>\n",
              "      <th>110523</th>\n",
              "      <td>2016-06-07T00:00:00Z</td>\n",
              "      <td>2016-05-03T07:27:33Z</td>\n",
              "      <td>05</td>\n",
              "      <td>2016</td>\n",
              "      <td>06</td>\n",
              "      <td>2016</td>\n",
              "      <td>in advance</td>\n",
              "      <td>1</td>\n",
              "    </tr>\n",
              "    <tr>\n",
              "      <th>110524</th>\n",
              "      <td>2016-06-07T00:00:00Z</td>\n",
              "      <td>2016-04-27T16:03:52Z</td>\n",
              "      <td>04</td>\n",
              "      <td>2016</td>\n",
              "      <td>06</td>\n",
              "      <td>2016</td>\n",
              "      <td>in advance</td>\n",
              "      <td>1</td>\n",
              "    </tr>\n",
              "    <tr>\n",
              "      <th>110525</th>\n",
              "      <td>2016-06-07T00:00:00Z</td>\n",
              "      <td>2016-04-27T15:09:23Z</td>\n",
              "      <td>04</td>\n",
              "      <td>2016</td>\n",
              "      <td>06</td>\n",
              "      <td>2016</td>\n",
              "      <td>in advance</td>\n",
              "      <td>1</td>\n",
              "    </tr>\n",
              "    <tr>\n",
              "      <th>110526</th>\n",
              "      <td>2016-06-07T00:00:00Z</td>\n",
              "      <td>2016-04-27T13:30:56Z</td>\n",
              "      <td>04</td>\n",
              "      <td>2016</td>\n",
              "      <td>06</td>\n",
              "      <td>2016</td>\n",
              "      <td>in advance</td>\n",
              "      <td>1</td>\n",
              "    </tr>\n",
              "  </tbody>\n",
              "</table>\n",
              "<p>110527 rows × 8 columns</p>\n",
              "</div>"
            ],
            "text/plain": [
              "              AppointmentDay          ScheduledDay  ... Reservation In_advance\n",
              "0       2016-04-29T00:00:00Z  2016-04-29T18:38:08Z  ...    same day          0\n",
              "1       2016-04-29T00:00:00Z  2016-04-29T16:08:27Z  ...    same day          0\n",
              "2       2016-04-29T00:00:00Z  2016-04-29T16:19:04Z  ...    same day          0\n",
              "3       2016-04-29T00:00:00Z  2016-04-29T17:29:31Z  ...    same day          0\n",
              "4       2016-04-29T00:00:00Z  2016-04-29T16:07:23Z  ...    same day          0\n",
              "...                      ...                   ...  ...         ...        ...\n",
              "110522  2016-06-07T00:00:00Z  2016-05-03T09:15:35Z  ...  in advance          1\n",
              "110523  2016-06-07T00:00:00Z  2016-05-03T07:27:33Z  ...  in advance          1\n",
              "110524  2016-06-07T00:00:00Z  2016-04-27T16:03:52Z  ...  in advance          1\n",
              "110525  2016-06-07T00:00:00Z  2016-04-27T15:09:23Z  ...  in advance          1\n",
              "110526  2016-06-07T00:00:00Z  2016-04-27T13:30:56Z  ...  in advance          1\n",
              "\n",
              "[110527 rows x 8 columns]"
            ]
          },
          "metadata": {},
          "execution_count": 16
        }
      ]
    },
    {
      "cell_type": "code",
      "metadata": {
        "colab": {
          "base_uri": "https://localhost:8080/",
          "height": 349
        },
        "id": "wL-mZ6IDPD3L",
        "outputId": "7a40c172-8944-4181-d54c-515ad9470144"
      },
      "source": [
        "print(x['In_advance'].value_counts())\n",
        "sns.countplot(data=x, x = 'In_advance')"
      ],
      "execution_count": null,
      "outputs": [
        {
          "output_type": "stream",
          "name": "stdout",
          "text": [
            "0    73079\n",
            "1    37448\n",
            "Name: In_advance, dtype: int64\n"
          ]
        },
        {
          "output_type": "execute_result",
          "data": {
            "text/plain": [
              "<matplotlib.axes._subplots.AxesSubplot at 0x7fc5a3328410>"
            ]
          },
          "metadata": {},
          "execution_count": 17
        },
        {
          "output_type": "display_data",
          "data": {
            "image/png": "[encoded data removed]",
            "text/plain": [
              "<Figure size 432x288 with 1 Axes>"
            ]
          },
          "metadata": {
            "needs_background": "light"
          }
        }
      ]
    },
    {
      "cell_type": "code",
      "metadata": {
        "id": "mJESIxSG-xKi"
      },
      "source": [
        "noshow = pd.concat([noshow, x[['Reservation']], x[['In_advance']]], axis=1) \n",
        "noshow.to_csv('noshow.csv')"
      ],
      "execution_count": null,
      "outputs": []
    },
    {
      "cell_type": "markdown",
      "metadata": {
        "id": "uP8GTJk7RF3c"
      },
      "source": [
        "### **Statistical analysis in R**"
      ]
    },
    {
      "cell_type": "code",
      "metadata": {
        "id": "j-ZJat7BRFOZ"
      },
      "source": [
        "%load_ext rpy2.ipython"
      ],
      "execution_count": null,
      "outputs": []
    },
    {
      "cell_type": "code",
      "metadata": {
        "colab": {
          "base_uri": "https://localhost:8080/"
        },
        "id": "P_qQb9z3ST3-",
        "outputId": "c99698cb-b04e-43ff-b854-970db9ed964a"
      },
      "source": [
        "%%R\n",
        "noshow <- read.csv(\"/content/noshow.csv\")\n",
        "head(noshow)"
      ],
      "execution_count": null,
      "outputs": [
        {
          "output_type": "stream",
          "name": "stdout",
          "text": [
            "  X    PatientId AppointmentID Gender         ScheduledDay       AppointmentDay\n",
            "1 0 2.987250e+13       5642903      F 2016-04-29T18:38:08Z 2016-04-29T00:00:00Z\n",
            "2 1 5.589978e+14       5642503      M 2016-04-29T16:08:27Z 2016-04-29T00:00:00Z\n",
            "3 2 4.262962e+12       5642549      F 2016-04-29T16:19:04Z 2016-04-29T00:00:00Z\n",
            "4 3 8.679512e+11       5642828      F 2016-04-29T17:29:31Z 2016-04-29T00:00:00Z\n",
            "5 4 8.841186e+12       5642494      F 2016-04-29T16:07:23Z 2016-04-29T00:00:00Z\n",
            "6 5 9.598513e+13       5626772      F 2016-04-27T08:36:51Z 2016-04-29T00:00:00Z\n",
            "  Age     Neighbourhood Scholarship Hipertension Diabetes Alcoholism Handcap\n",
            "1  62   JARDIM DA PENHA           0            1        0          0       0\n",
            "2  56   JARDIM DA PENHA           0            0        0          0       0\n",
            "3  62     MATA DA PRAIA           0            0        0          0       0\n",
            "4   8 PONTAL DE CAMBURI           0            0        0          0       0\n",
            "5  56   JARDIM DA PENHA           0            1        1          0       0\n",
            "6  76         REPÚBLICA           0            1        0          0       0\n",
            "  SMS_received No.show noshow Reservation In_advance\n",
            "1            0      No      0    same day          0\n",
            "2            0      No      0    same day          0\n",
            "3            0      No      0    same day          0\n",
            "4            0      No      0    same day          0\n",
            "5            0      No      0    same day          0\n",
            "6            0      No      0    same day          0\n"
          ]
        }
      ]
    },
    {
      "cell_type": "markdown",
      "metadata": {
        "id": "gZgfWITRVEPP"
      },
      "source": [
        "#### **Unadjusted data**"
      ]
    },
    {
      "cell_type": "code",
      "metadata": {
        "colab": {
          "base_uri": "https://localhost:8080/"
        },
        "id": "zrrrB8YfRLuC",
        "outputId": "9f2be724-40ba-4a8c-bd57-c7bf09222670"
      },
      "source": [
        "%%R\n",
        "result_un = glm(noshow$noshow ~ noshow$SMS_received, family = binomial)\n",
        "summary(result_un)"
      ],
      "execution_count": null,
      "outputs": [
        {
          "output_type": "stream",
          "name": "stdout",
          "text": [
            "\n",
            "Call:\n",
            "glm(formula = noshow$noshow ~ noshow$SMS_received, family = binomial)\n",
            "\n",
            "Deviance Residuals: \n",
            "    Min       1Q   Median       3Q      Max  \n",
            "-0.8033  -0.6046  -0.6046  -0.6046   1.8919  \n",
            "\n",
            "Coefficients:\n",
            "                     Estimate Std. Error z value Pr(>|z|)    \n",
            "(Intercept)         -1.606802   0.009786 -164.19   <2e-16 ***\n",
            "noshow$SMS_received  0.641137   0.015391   41.66   <2e-16 ***\n",
            "---\n",
            "Signif. codes:  0 ‘***’ 0.001 ‘**’ 0.01 ‘*’ 0.05 ‘.’ 0.1 ‘ ’ 1\n",
            "\n",
            "(Dispersion parameter for binomial family taken to be 1)\n",
            "\n",
            "    Null deviance: 111206  on 110526  degrees of freedom\n",
            "Residual deviance: 109503  on 110525  degrees of freedom\n",
            "AIC: 109507\n",
            "\n",
            "Number of Fisher Scoring iterations: 4\n",
            "\n"
          ]
        }
      ]
    },
    {
      "cell_type": "code",
      "metadata": {
        "colab": {
          "base_uri": "https://localhost:8080/"
        },
        "id": "lxDwjv6GT78r",
        "outputId": "4b80a648-cec2-4b5e-a7fc-0885be42e521"
      },
      "source": [
        "%%R\n",
        "coef(result_un)"
      ],
      "execution_count": null,
      "outputs": [
        {
          "output_type": "stream",
          "name": "stdout",
          "text": [
            "        (Intercept) noshow$SMS_received \n",
            "          -1.606802            0.641137 \n"
          ]
        }
      ]
    },
    {
      "cell_type": "markdown",
      "metadata": {
        "id": "yxvXvb6yEThf"
      },
      "source": [
        "According to above summary, ln(odds of being a \"no-show\") = -1.606802 + 0.641137x where x = 1 if the patients received a SMS, and 0 if the patient did not receive a SMS. The standard error of the slope estimate for x and intercept respectively is  0.015391, 0.009786\n"
      ]
    },
    {
      "cell_type": "markdown",
      "metadata": {
        "id": "MhxsRJR4-O-s"
      },
      "source": [
        "Unadjusted odds ratio (and 95% CI) of being a \"no-show\" for these who received a SMS compared to those who did not: 1.899(1.841, 1.958)"
      ]
    },
    {
      "cell_type": "markdown",
      "metadata": {
        "id": "iFMQAu5Ln-GH"
      },
      "source": [
        "#### **Adjusted data**"
      ]
    },
    {
      "cell_type": "code",
      "metadata": {
        "id": "T_GuleupoLZ-",
        "colab": {
          "base_uri": "https://localhost:8080/"
        },
        "outputId": "c73e46fc-e3b2-49a5-9471-cccf5d7e10cf"
      },
      "source": [
        "%%R\n",
        "result_ad = glm(noshow$noshow ~ noshow$SMS_received + noshow$In_advance, family = binomial)\n",
        "summary(result_ad)"
      ],
      "execution_count": null,
      "outputs": [
        {
          "output_type": "stream",
          "name": "stdout",
          "text": [
            "\n",
            "Call:\n",
            "glm(formula = noshow$noshow ~ noshow$SMS_received + noshow$In_advance, \n",
            "    family = binomial)\n",
            "\n",
            "Deviance Residuals: \n",
            "    Min       1Q   Median       3Q      Max  \n",
            "-0.8896  -0.6166  -0.5539  -0.5539   1.9751  \n",
            "\n",
            "Coefficients:\n",
            "                    Estimate Std. Error z value Pr(>|z|)    \n",
            "(Intercept)         -1.79707    0.01094 -164.20   <2e-16 ***\n",
            "noshow$SMS_received  0.23348    0.01773   13.17   <2e-16 ***\n",
            "noshow$In_advance    0.84091    0.01743   48.23   <2e-16 ***\n",
            "---\n",
            "Signif. codes:  0 ‘***’ 0.001 ‘**’ 0.01 ‘*’ 0.05 ‘.’ 0.1 ‘ ’ 1\n",
            "\n",
            "(Dispersion parameter for binomial family taken to be 1)\n",
            "\n",
            "    Null deviance: 111206  on 110526  degrees of freedom\n",
            "Residual deviance: 107188  on 110524  degrees of freedom\n",
            "AIC: 107194\n",
            "\n",
            "Number of Fisher Scoring iterations: 4\n",
            "\n"
          ]
        }
      ]
    },
    {
      "cell_type": "code",
      "metadata": {
        "colab": {
          "base_uri": "https://localhost:8080/"
        },
        "id": "WLsIeL6l_Yh6",
        "outputId": "bf9054c6-cdec-46fe-94e4-095fb9233fa3"
      },
      "source": [
        "%%R\n",
        "coef(result_ad)"
      ],
      "execution_count": null,
      "outputs": [
        {
          "output_type": "stream",
          "name": "stdout",
          "text": [
            "        (Intercept) noshow$SMS_received   noshow$In_advance \n",
            "         -1.7970683           0.2334772           0.8409114 \n"
          ]
        }
      ]
    },
    {
      "cell_type": "markdown",
      "metadata": {
        "id": "xNiWrfmDBg6X"
      },
      "source": [
        "According to above summary having adjustment, ln(odds of being a \"no-show\") = - 1.7970683 + 0.2334772x1 + 0.8409114x2 where:\n",
        "\n",
        "x1 = 1 if the patients received a SMS, and 0 if the patient did not receive a SMS. \n",
        "\n",
        "x2 = 1 if patients booking in advance, and 0 if patients booking same day to appointment.\n",
        "\n",
        "The standard errors of the intercept, slope estimate for x1, and x2 and respectively are 0.01094, 0.01773, 0.01743."
      ]
    },
    {
      "cell_type": "markdown",
      "metadata": {
        "id": "-CMIKANn_ieH"
      },
      "source": [
        "#### **Stratified analysis**\n",
        "In this section, I will analyse separatedly 2 groups (same day or in advance) in order to see if the association between SMS_received and no show up can be different in thess 2 groups    "
      ]
    },
    {
      "cell_type": "markdown",
      "metadata": {
        "id": "gnzpyj7-APOC"
      },
      "source": [
        "##### **In advance group** (people had scheduled day before appointment day)"
      ]
    },
    {
      "cell_type": "code",
      "metadata": {
        "colab": {
          "base_uri": "https://localhost:8080/"
        },
        "id": "sWT1kQrxAfia",
        "outputId": "68d6fe70-5b0e-494e-d2d0-70ad8a077985"
      },
      "source": [
        "%%R\n",
        "x_in = noshow[noshow$Reservation == 'in advance',]\n",
        "head(x_in)"
      ],
      "execution_count": null,
      "outputs": [
        {
          "output_type": "stream",
          "name": "stdout",
          "text": [
            "      X    PatientId AppointmentID Gender         ScheduledDay\n",
            "50   49 9.223559e+13       5534656      F 2016-03-31T17:11:17Z\n",
            "51   50 1.827172e+14       5534661      F 2016-03-31T17:12:45Z\n",
            "52   51 4.694699e+13       5534635      F 2016-03-31T17:05:31Z\n",
            "53   52 7.987570e+14       5534639      F 2016-03-31T17:06:17Z\n",
            "178 177 7.271247e+12       5482953      M 2016-03-17T10:33:33Z\n",
            "184 183 7.254972e+11       5524189      M 2016-03-30T07:32:47Z\n",
            "          AppointmentDay Age  Neighbourhood Scholarship Hipertension Diabetes\n",
            "50  2016-04-29T00:00:00Z  27 GRANDE VITÓRIA           0            0        0\n",
            "51  2016-04-29T00:00:00Z  19 GRANDE VITÓRIA           0            0        0\n",
            "52  2016-04-29T00:00:00Z  23 GRANDE VITÓRIA           1            0        0\n",
            "53  2016-04-29T00:00:00Z  23 GRANDE VITÓRIA           1            0        0\n",
            "178 2016-04-29T00:00:00Z  11 NOVA PALESTINA           0            0        0\n",
            "184 2016-04-29T00:00:00Z  69      CONQUISTA           0            0        0\n",
            "    Alcoholism Handcap SMS_received No.show noshow Reservation In_advance\n",
            "50           0       0            1     Yes      1  in advance          1\n",
            "51           0       0            1     Yes      1  in advance          1\n",
            "52           0       0            1     Yes      1  in advance          1\n",
            "53           0       0            1     Yes      1  in advance          1\n",
            "178          0       0            0      No      0  in advance          1\n",
            "184          0       0            1      No      0  in advance          1\n"
          ]
        }
      ]
    },
    {
      "cell_type": "code",
      "metadata": {
        "colab": {
          "base_uri": "https://localhost:8080/"
        },
        "id": "CzLdL19vDICP",
        "outputId": "441207e1-5101-4b36-ada6-98d3a226db63"
      },
      "source": [
        "%%R\n",
        "result_in = glm(x_in$noshow ~ x_in$SMS_received, family = binomial)\n",
        "summary(result_in)"
      ],
      "execution_count": null,
      "outputs": [
        {
          "output_type": "stream",
          "name": "stdout",
          "text": [
            "\n",
            "Call:\n",
            "glm(formula = x_in$noshow ~ x_in$SMS_received, family = binomial)\n",
            "\n",
            "Deviance Residuals: \n",
            "    Min       1Q   Median       3Q      Max  \n",
            "-0.9227  -0.8220  -0.8220   1.4555   1.5807  \n",
            "\n",
            "Coefficients:\n",
            "                  Estimate Std. Error z value Pr(>|z|)    \n",
            "(Intercept)       -0.63353    0.01792  -35.36   <2e-16 ***\n",
            "x_in$SMS_received -0.27789    0.02296  -12.10   <2e-16 ***\n",
            "---\n",
            "Signif. codes:  0 ‘***’ 0.001 ‘**’ 0.01 ‘*’ 0.05 ‘.’ 0.1 ‘ ’ 1\n",
            "\n",
            "(Dispersion parameter for binomial family taken to be 1)\n",
            "\n",
            "    Null deviance: 46293  on 37447  degrees of freedom\n",
            "Residual deviance: 46147  on 37446  degrees of freedom\n",
            "AIC: 46151\n",
            "\n",
            "Number of Fisher Scoring iterations: 4\n",
            "\n"
          ]
        }
      ]
    },
    {
      "cell_type": "code",
      "metadata": {
        "colab": {
          "base_uri": "https://localhost:8080/"
        },
        "id": "YKZB-CxFDImc",
        "outputId": "82913e8b-f983-4f43-b6a1-573e34aa4cef"
      },
      "source": [
        "%%R\n",
        "coef(result_in)"
      ],
      "execution_count": null,
      "outputs": [
        {
          "output_type": "stream",
          "name": "stdout",
          "text": [
            "      (Intercept) x_in$SMS_received \n",
            "       -0.6335312        -0.2778898 \n"
          ]
        }
      ]
    },
    {
      "cell_type": "code",
      "metadata": {
        "colab": {
          "base_uri": "https://localhost:8080/"
        },
        "id": "4EtA0XBLHLOm",
        "outputId": "4cf41955-050f-4812-dca7-634848849f41"
      },
      "source": [
        "%%R \n",
        "dim(x_in)"
      ],
      "execution_count": null,
      "outputs": [
        {
          "output_type": "stream",
          "name": "stdout",
          "text": [
            "[1] 37448    18\n"
          ]
        }
      ]
    },
    {
      "cell_type": "markdown",
      "metadata": {
        "id": "PLasRrLQGrz6"
      },
      "source": [
        "According to above summary of 37448 appointments booked in advance, this is the following logistic regression which show association between no-shows and SMS_received in this in advance group:\n",
        "\n",
        "ln(odds of being a \"no-show\") = - 0.6335312 + - 0.2778898x where x = 1 if the patients received a SMS, and 0 if the patient did not receive a SMS. \n",
        "The standard errors of the intercept and slope estimate for x respectively are 0.01792, 0.02296."
      ]
    },
    {
      "cell_type": "markdown",
      "metadata": {
        "id": "s2whnBJsqYSu"
      },
      "source": [
        "Odds ratio (and 95% CI) of being a \"no-show\" for these who booking in advance received a SMS compared to those who booking in advance but did not received: \n",
        "0.757 (0.723, 0.793)"
      ]
    },
    {
      "cell_type": "markdown",
      "metadata": {
        "id": "ZrH485llthZo"
      },
      "source": [
        "![image.png](data:image/png;base64,iVBORw0KGgoAAAANSUhEUgAAAScAAACWCAYAAACcu04lAAAMcElEQVR4Ae2ciY7YqBJF8/8/nSdm5r5UaAzFYjYfS6OyoTYOcNUdJfPrNw8EIACBDQn82rAnWoIABCDwG3HiEEAAAlsSQJy23BaaggAEECfOAAQgsCUBxGnLbaEpCEAAceIMQAACWxJAnLbcFpqCAAQQJ84ABCCwJQHEacttoSkIQABx4gxAAAJbEkCcttwWmoIABBAnzgAEILAlAcRpy22hKQhAAHHiDECggsCvX79+h/943icA5fcZU+FwAhIka2uWZOPi9zhPPG+/Y9/bvxGn23eY9Q0lILFoSarYYEtPjW8p16nzZUqnroy+ITCYgASjJ60nh8enp4dTYhGnU3aKPpcTGCEanhzBh+c3/7M5DgEEvAQ8wlLKVcqBMP0hiET/YcHb5QR6Ln5JVGrQPeXq6a+m/im+iNMpO0Wf3QR6Lv+ToLQ0lcrV01tLDyfEIE4n7BI9/vN3i3Sp7UW27yVMNb5xLtUO43qXjX1L33Fc+Ob5SQAqP5kwshGB+CKH1nSZU3O51hWX80nN2Tp6j20qLjdm43N+X55DnL68+5uvPVzgp0eX+2k+NZ7Ll/LXmGql4nNzik9ZxaXmGPuXwPPuQwgCCwmkhMC203K5SzltfvteqlWat7n03hKj2K9YxOkrO33QOj0X1+MTLznE1D6eOh4fW1f+Lf3YPLe/1+/W7URY31ICuri5JnI+mmuxqZrKk5rTmMfH+tr3EMuTJgCZNBdGFxHwXHSPT6r9FiHw1PL4hH7i+t641Fq+MIY4fWGXD1mj57LKJ77oniXWxqhWLrfHJ8Snantjc/VvnkOcbt7dw9ZWuqyaT110z1Jr41Qvl9vrk8rhiU3FfWUMcfrKTh+wztxl1Zxsy3JCbM1TqlWaD7VKNT05anq+ybdut25aOWvZjoAuanyhNR4ajt9rFhHnLcXm/G0fT3ly8Yrx5JHv1yzi9LUd33i9uqixtS3bOTvueQ+xNY9qxTFP4/LTvKdeja/yf8XW7dZXqLDOZQTsZU1dbs23NJjK58mjmrJPMZpP2Tgm5aOx2Per34jTV3f+5XXrosX25bKkv4gA4nTRZq5eihUi24sdD+88EPAQ4KR4KOFTJCABenLUvOyTH+MQEAHESSSwTQQkNsHmHutX8s3lYe47BPIn6jscWGkDASs4pXDriziVaDEfCCBOnIMmAlZsPAmsP+LkIYYP4sQZaCIgsfEEy1fWE4MPBBAnzkA1AYlMsKXH+nr8S/mY/w6B8un6DgtW6iBgxabkbn0RphIt5mMCiFNMhO8sASs4OUfrhzDlSDH3RABxeiLD+A8CHsHx+PxIzAAEEgQQpwQUhtIErPBYDzuudzvPOwRaCCBOLdQ+GiPhSdmPImHZLxJAnF6Ee1PqWJBuWhtr2ZMA4rTnvmzXFeK03ZZc3xDidP0Wj1kg4jSGI1n8BBAnP6tPeyJOn97+JYtHnJZgP69oLE7hu+ZRfE0Mvt8mUHfCvs3q06uXuFjrBaIYrz9+EAgEECfOgZuARMbaUrB8S37MQyAmgDjFRPh+JCChiW0qwPqk5hmDQIkA4lQixPxfBKzoeN7/CuYDAhUEhouT58CWfCr6x3UBgdL+hXkeCPQSePUUPR3ip6ZT/k++jK8lkNorRGntntxW/VVxCrDiQ+wB2BLjyYsPBCBwDoEtxSngQ6DOOUR0CoE3CCBOb1AlJwQg0E3gGHHizzO695oEEDiKwKvi1PurWW/8UTtBsxCAwF8EEKe/cPABAQjsQmBbcYp/auLXul2ODH1AYA4BxGkOZ6pAAAKVBF4Tp/gnn8q++KsEtcDwh8BlBBCnyzaU5UDgFgJbilPvT123bA7rgMCXCbwiTj3iEseGbx4IQOB7BF65+bHA1GDtia2pgy8EILA3gW3EKRYlfmLa++DQHQTeJjBcnFIikxOalP9bi07VemvsrTWQFwJfITBNnEoiMAN4qYeR8zPWQw0I3EzgdXG6GR5rgwAE3iOAOL3HlswQgEAHgaHiFP9a1NEXoRCAwMcJIE4fPwAsHwK7EkCcNtyZ+CdQvn/9+LeWMNmbyYhrNUycUodlRIPkgAAEvkngNXH6Jk5WDQEIjCKAOI0iSR4IQGAogU+JU+pXz7fGhu4SySDwQQJDxCm+4LtyjPt883tXBvQFgVMIfEqcTtkU+oQABH7/Rpw4BRCAwJYEusUp9avRliulKQhA4CgCw8XpqNXTLAQgsC2BLnHip6Zt95XGLiage3fxEv9ZWrM4CVDK3g6N9UFgNoHee5aK11i8Fo2nbOz75neVOKWaLY292Ty5IfBFArpzLWtXbLClp8a3lKtlvtxhS1ZiIACBVwhIMHqSe3J4fHp68MQiTh5K+EBgEwIjRMOTI/isftZ3sJoA9SFwEAGPsJSWU8qxgzCFNSBOpZ1kHgIDCfRc/JKo1LT5lKunv5r6Hl/EyUMJHwgMItBz+Z8EpaW1VK6e3lp6KMUgTiVCzEPgPwK60LICU3Opa3yVX9bW1busfLw2jgvfuz37dbQbIfr5PIH4IgcgusypuRwwxeV8UnO2jt5jm4rLjdn4nN+qOcRpFfmBdXXIBqYk1X8EAtunp4V7Lt9TnTCuWqn43JwnZ85n5dwz+ZVdUbtIwB5IvReDcKgikBICm6CFeymnzW/fS7VK8zaX3ltiFDvDIk4zKA+qocP0ZAeVIY35SSUHQ/uQ84nnQkzt46nj8bF15d/Sj83z5ns9qTe7IfcjAR0mOejbWs1h+wiIaS5LzkdzLTZVU3lScxrz+Fhf+x5id3z27GpHUhv2pAMpu2GLR7bk4enxSS0+xNU+nloen1A3ru+Nq+15hH89qRFVyTGEgA6W7JCkH0/iYSmfYGuf2hjVytXx+IT4VG1vbK7+W3P1dN/qhLzVBHSwZKsTEPCDQIml5oNteWrjVC9Xy+uTyuGJTcXNGGsjPKMzahQJ6GDJFgNwKBLIsdScbDFZwiHE1jylWqX5UKtU05OjpudRvnWkRlUlzxACOlSyQ5JWJllZu7JVl7vWE6x9NB7G4nfrV3qP8/b42z6e8njqefI85X9z/O8deLMSuYcT0KGSHV7AkXBlbUd71S5aT2xtIjtnxz3vIbbmUa045mlcfpr31KvxVf4Zto7UjI6o4SZgD5XnELoTVziqh4qQaa7qLbalBkr+mi/lSc2H2JZHNWWfcmg+ZeOYlI/GYt8V322kVnRKzR8EdJBkfzhMGFhZO7U89ROsfex4PGf9eN+HwN87uE9fdOIgsMOFUw+Odl93KfWiednXG6JAFwHEqQvf2mBdMtkV3aysrfWqh2Bzj/Ur+ebyMDeHQH435/RAlUYCO1w29dC4hO4w1feIjfX1+Hc3R4IuAohTF761wTtcNvWwgoRqe4XG+ntjVqyLmv8SQJwOPgk7XDb1sAJjTW35yq7ol5p1BBCnOl5beeuiya5oblVt1Q229Fhfj38pH/NzCJR3dk4fVGkgsMOlUw8N7TeHqKZHaKyvx7+5KQKHE0CchiOdl3CHi6ce5q36zz8fKYmNepOd2SO1+gkgTv0Ml2XQpZMd0YhyvW1be437SuXx+KTiGNuLAOK0135UdfPGJYxzvvVdtVDjbPsxw///x7hP89aX9zMIIE5n7FOyS3sRw/uKRz3Mqq16KTurB+rMIbDmRM9Z2/VV4gu6YsHqYUZt1ZKdUZMa6wggTuvYd1fWJZXtTtiQYGZt1ZJtaJeQgwggTgdtVtyqLqlsPD/je2Zt1ZKdsT5qrCOAOK1j311Zl1S2O2FDgpm1VUu2oV1CDiKAOB20WXGruqSy8fyM75m1VcvamjUqriYG33UEEKd17Lsr67LJdidsSDCztmpZ621ZMV5//NYTQJzW70FzB7pwss2JOgJn11Y9a0vty7fkx/xeBBCnvfajqhtdOtmq4EHOs2urXmxTy7E+qXnG9iaAOO29P9nu7OUL7yse9TCztmp67czeqDWOwJoTPa7/z2Z6upizgaiPVXVVP2Vn90S9sQQQp7E8X82WuoC5sVeb+S+56s+oFddQ7djGfnyfSQBxOnPf6BoC1xNAnK7fYhYIgTMJIE5n7htdQ+B6AojT9VvMAiFwJgHE6cx9o2sIXE8Acbp+i1kgBM4kgDiduW90DYHrCSBO128xC4TAmQQQpzP3ja4hcD0BxOn6LWaBEDiTAOJ05r7RNQSuJ4A4Xb/FLBACZxJAnM7cN7qGwPUEEKfrt5gFQuBMAojTmftG1xC4ngDidP0Ws0AInEkAcTpz3+gaAtcT+B9rVLz+7r099gAAAABJRU5ErkJggg==)"
      ]
    },
    {
      "cell_type": "markdown",
      "metadata": {
        "id": "_iMQ8ju9vFbn"
      },
      "source": [
        "p(SMS) = e^(- 0.6335312 + - 0.2778898) / (1+e^(- 0.6335312 + - 0.2778898)) = 0.287  \n",
        "\n",
        "p(noSMS) = e^(- 0.6335312) / (1+e^(- 0.6335312)) = 0.347\n",
        "\n",
        "RD (Risk difference) = p(SMS) - p(noSMS) = 0.287 - 0.347 = -0.06\n",
        "\n",
        "For the patients booking before appointment day, there is 6% reduction of risk no showing up in Medical appointment if they received SMS compared to those who didn't receive SMS "
      ]
    },
    {
      "cell_type": "markdown",
      "metadata": {
        "id": "HycQ_PsEBoHT"
      },
      "source": [
        "##### **Same day group** (people had scheduled the same day to appointment day)"
      ]
    },
    {
      "cell_type": "code",
      "metadata": {
        "colab": {
          "base_uri": "https://localhost:8080/"
        },
        "id": "Uybjm0sgB_0u",
        "outputId": "489d311b-a23c-4f68-adaa-12664f8bc425"
      },
      "source": [
        "%%R\n",
        "x_sam = noshow[noshow$Reservation == 'same day',]\n",
        "head(x_sam)"
      ],
      "execution_count": null,
      "outputs": [
        {
          "output_type": "stream",
          "name": "stdout",
          "text": [
            "  X    PatientId AppointmentID Gender         ScheduledDay       AppointmentDay\n",
            "1 0 2.987250e+13       5642903      F 2016-04-29T18:38:08Z 2016-04-29T00:00:00Z\n",
            "2 1 5.589978e+14       5642503      M 2016-04-29T16:08:27Z 2016-04-29T00:00:00Z\n",
            "3 2 4.262962e+12       5642549      F 2016-04-29T16:19:04Z 2016-04-29T00:00:00Z\n",
            "4 3 8.679512e+11       5642828      F 2016-04-29T17:29:31Z 2016-04-29T00:00:00Z\n",
            "5 4 8.841186e+12       5642494      F 2016-04-29T16:07:23Z 2016-04-29T00:00:00Z\n",
            "6 5 9.598513e+13       5626772      F 2016-04-27T08:36:51Z 2016-04-29T00:00:00Z\n",
            "  Age     Neighbourhood Scholarship Hipertension Diabetes Alcoholism Handcap\n",
            "1  62   JARDIM DA PENHA           0            1        0          0       0\n",
            "2  56   JARDIM DA PENHA           0            0        0          0       0\n",
            "3  62     MATA DA PRAIA           0            0        0          0       0\n",
            "4   8 PONTAL DE CAMBURI           0            0        0          0       0\n",
            "5  56   JARDIM DA PENHA           0            1        1          0       0\n",
            "6  76         REPÚBLICA           0            1        0          0       0\n",
            "  SMS_received No.show noshow Reservation In_advance\n",
            "1            0      No      0    same day          0\n",
            "2            0      No      0    same day          0\n",
            "3            0      No      0    same day          0\n",
            "4            0      No      0    same day          0\n",
            "5            0      No      0    same day          0\n",
            "6            0      No      0    same day          0\n"
          ]
        }
      ]
    },
    {
      "cell_type": "code",
      "metadata": {
        "colab": {
          "base_uri": "https://localhost:8080/"
        },
        "id": "Jd6m4KY5DmKq",
        "outputId": "556e4f2d-2835-4df4-c6f1-ca260a69cdfa"
      },
      "source": [
        "%%R\n",
        "result_sam = glm(x_sam$noshow ~ x_sam$SMS_received, family = binomial)\n",
        "summary(result_sam)"
      ],
      "execution_count": null,
      "outputs": [
        {
          "output_type": "stream",
          "name": "stdout",
          "text": [
            "\n",
            "Call:\n",
            "glm(formula = x_sam$noshow ~ x_sam$SMS_received, family = binomial)\n",
            "\n",
            "Deviance Residuals: \n",
            "    Min       1Q   Median       3Q      Max  \n",
            "-0.7650  -0.5205  -0.5205  -0.5205   2.0327  \n",
            "\n",
            "Coefficients:\n",
            "                   Estimate Std. Error z value Pr(>|z|)    \n",
            "(Intercept)        -1.93037    0.01214 -158.97   <2e-16 ***\n",
            "x_sam$SMS_received  0.85146    0.02440   34.89   <2e-16 ***\n",
            "---\n",
            "Signif. codes:  0 ‘***’ 0.001 ‘**’ 0.01 ‘*’ 0.05 ‘.’ 0.1 ‘ ’ 1\n",
            "\n",
            "(Dispersion parameter for binomial family taken to be 1)\n",
            "\n",
            "    Null deviance: 61067  on 73078  degrees of freedom\n",
            "Residual deviance: 59945  on 73077  degrees of freedom\n",
            "AIC: 59949\n",
            "\n",
            "Number of Fisher Scoring iterations: 4\n",
            "\n"
          ]
        }
      ]
    },
    {
      "cell_type": "code",
      "metadata": {
        "colab": {
          "base_uri": "https://localhost:8080/"
        },
        "id": "D6cYw9YeDmxG",
        "outputId": "d78081c1-616b-4801-f5f5-d65f5077e0c0"
      },
      "source": [
        "%%R\n",
        "coef(result_sam)"
      ],
      "execution_count": null,
      "outputs": [
        {
          "output_type": "stream",
          "name": "stdout",
          "text": [
            "       (Intercept) x_sam$SMS_received \n",
            "        -1.9303749          0.8514583 \n"
          ]
        }
      ]
    },
    {
      "cell_type": "code",
      "metadata": {
        "id": "zTL0vdObHSsO",
        "colab": {
          "base_uri": "https://localhost:8080/"
        },
        "outputId": "23d0d966-45ea-47ca-fc55-37edcabb75dc"
      },
      "source": [
        "%%R \n",
        "dim(x_sam)"
      ],
      "execution_count": null,
      "outputs": [
        {
          "output_type": "stream",
          "name": "stdout",
          "text": [
            "[1] 73079    18\n"
          ]
        }
      ]
    },
    {
      "cell_type": "markdown",
      "metadata": {
        "id": "d55lJAW-fbr5"
      },
      "source": [
        "According to above summary of 73079 appointments booked in the same day, this is the following logistic regression which show association between no-shows and SMS_received in this same day group:\n",
        "\n",
        "ln(odds of being a \"no-show\") = -1.9303749 + 0.8514583x where x = 1 if the patients received a SMS, and 0 if the patient did not receive a SMS. \n",
        "The standard errors of the intercept and slope estimate for x respectively are 0.01214, 0.02440."
      ]
    },
    {
      "cell_type": "markdown",
      "metadata": {
        "id": "hjUMbiLArRnS"
      },
      "source": [
        "Odds ratio (and 95% CI) of being a \"no-show\" for these who booking the same day received a SMS compared to those who booking the same day but did not received: \n",
        "2.343 (2.231, 2.46)"
      ]
    },
    {
      "cell_type": "markdown",
      "metadata": {
        "id": "t8vzk4L2yIAC"
      },
      "source": [
        "p(SMS) = e^(-1.9303749 + 0.8514583) / (1+e^(-1.9303749 + 0.8514583)) = 0.254  \n",
        "\n",
        "p(noSMS) = e^(-1.9303749) / (1+e^(-1.9303749)) = 0.127\n",
        "\n",
        "RD (Risk difference) = p(SMS) - p(noSMS) = 0.254 - 0.127 = 0.127\n",
        "\n",
        "For the patients booking in the same day to appointment day, there is 12.7% greater of risk no showing up in Medical appointment if they received SMS compared to those who didn't receive SMS "
      ]
    },
    {
      "cell_type": "markdown",
      "metadata": {
        "id": "7mbQE88bqibP"
      },
      "source": [
        "### **Predicting and classifying**"
      ]
    },
    {
      "cell_type": "markdown",
      "metadata": {
        "id": "lWisRD_Wk8yS"
      },
      "source": [
        "#### Predicting noshow in appointment by SMS_received column"
      ]
    },
    {
      "cell_type": "code",
      "metadata": {
        "colab": {
          "base_uri": "https://localhost:8080/"
        },
        "id": "iOglMYrjO7WJ",
        "outputId": "084fb5b5-e7fb-4519-fa80-485714264761"
      },
      "source": [
        "x1 = noshow[['SMS_received']]\n",
        "y = noshow[['No-show']]\n",
        "lr = LogisticRegression()\n",
        "lr.fit(x1,y)"
      ],
      "execution_count": null,
      "outputs": [
        {
          "output_type": "stream",
          "name": "stderr",
          "text": [
            "/usr/local/lib/python3.7/dist-packages/sklearn/utils/validation.py:985: DataConversionWarning: A column-vector y was passed when a 1d array was expected. Please change the shape of y to (n_samples, ), for example using ravel().\n",
            "  y = column_or_1d(y, warn=True)\n"
          ]
        },
        {
          "output_type": "execute_result",
          "data": {
            "text/plain": [
              "LogisticRegression()"
            ]
          },
          "metadata": {},
          "execution_count": 38
        }
      ]
    },
    {
      "cell_type": "code",
      "metadata": {
        "colab": {
          "base_uri": "https://localhost:8080/"
        },
        "id": "6g6y3BjWGHOv",
        "outputId": "4a81f2d6-3c8f-4fd1-fa02-5c573cfdeeeb"
      },
      "source": [
        "print(lr.predict(noshow[['SMS_received']])[0:5])\n",
        "print(noshow[['No-show']].values[0:5])"
      ],
      "execution_count": null,
      "outputs": [
        {
          "output_type": "stream",
          "name": "stdout",
          "text": [
            "['No' 'No' 'No' 'No' 'No']\n",
            "[['No']\n",
            " ['No']\n",
            " ['No']\n",
            " ['No']\n",
            " ['No']]\n"
          ]
        }
      ]
    },
    {
      "cell_type": "markdown",
      "metadata": {
        "id": "wUD3DnEKolNV"
      },
      "source": [
        "##### Train and test data"
      ]
    },
    {
      "cell_type": "code",
      "metadata": {
        "colab": {
          "base_uri": "https://localhost:8080/"
        },
        "id": "Sw7o-_41U-j1",
        "outputId": "2209ea54-b171-4de4-be6c-ea5a24c75b22"
      },
      "source": [
        "x_train, x_test, y_train, y_test = train_test_split(x1, y, test_size=0.20, random_state=0)\n",
        "lr.fit(x_train,y_train)"
      ],
      "execution_count": null,
      "outputs": [
        {
          "output_type": "stream",
          "name": "stderr",
          "text": [
            "/usr/local/lib/python3.7/dist-packages/sklearn/utils/validation.py:985: DataConversionWarning: A column-vector y was passed when a 1d array was expected. Please change the shape of y to (n_samples, ), for example using ravel().\n",
            "  y = column_or_1d(y, warn=True)\n"
          ]
        },
        {
          "output_type": "execute_result",
          "data": {
            "text/plain": [
              "LogisticRegression()"
            ]
          },
          "metadata": {},
          "execution_count": 52
        }
      ]
    },
    {
      "cell_type": "code",
      "metadata": {
        "colab": {
          "base_uri": "https://localhost:8080/"
        },
        "id": "YIm8GJwtXg8Y",
        "outputId": "3a32b80c-92a4-49a1-d387-5232ed420cf7"
      },
      "source": [
        "print(lr.predict(x_test)[0:10])\n",
        "print(y_test.values[0:10])"
      ],
      "execution_count": null,
      "outputs": [
        {
          "output_type": "stream",
          "name": "stdout",
          "text": [
            "['No' 'No' 'No' 'No' 'No' 'No' 'No' 'No' 'No' 'No']\n",
            "[['No']\n",
            " ['No']\n",
            " ['No']\n",
            " ['No']\n",
            " ['Yes']\n",
            " ['No']\n",
            " ['No']\n",
            " ['No']\n",
            " ['No']\n",
            " ['No']]\n"
          ]
        }
      ]
    },
    {
      "cell_type": "code",
      "metadata": {
        "colab": {
          "base_uri": "https://localhost:8080/"
        },
        "id": "btWpZPTfsSG_",
        "outputId": "65e90a62-ae6d-4d64-e35e-c239d86e93d4"
      },
      "source": [
        "print(\"confusion matrix:\",metrics.confusion_matrix(y_test, lr.predict(x_test)))\n",
        "print(\"Accuracy:\",metrics.accuracy_score(y_test, lr.predict(x_test)))\n",
        "print(\"Precision:\",metrics.precision_score(y_test, lr.predict(x_test), average=\"binary\", pos_label=\"No\")) # pos_label: positive value"
      ],
      "execution_count": null,
      "outputs": [
        {
          "output_type": "stream",
          "name": "stdout",
          "text": [
            "confusion matrix: [[17725     0]\n",
            " [ 4381     0]]\n",
            "Accuracy: 0.8018185108115444\n",
            "Precision: 0.8018185108115444\n"
          ]
        }
      ]
    },
    {
      "cell_type": "markdown",
      "metadata": {
        "id": "n4kIKeiClMrF"
      },
      "source": [
        "#### Predicting noshow in appointment by SMS_received and In_advance columns"
      ]
    },
    {
      "cell_type": "code",
      "metadata": {
        "colab": {
          "base_uri": "https://localhost:8080/"
        },
        "id": "cJceUk7JlWiG",
        "outputId": "7a6911f0-c249-4074-8b2c-ab12824e3f2e"
      },
      "source": [
        "x2 = noshow[['SMS_received', 'In_advance']]\n",
        "y = noshow[['No-show']]\n",
        "lr1 = LogisticRegression()\n",
        "lr1.fit(x2,y)"
      ],
      "execution_count": null,
      "outputs": [
        {
          "output_type": "stream",
          "name": "stderr",
          "text": [
            "/usr/local/lib/python3.7/dist-packages/sklearn/utils/validation.py:985: DataConversionWarning: A column-vector y was passed when a 1d array was expected. Please change the shape of y to (n_samples, ), for example using ravel().\n",
            "  y = column_or_1d(y, warn=True)\n"
          ]
        },
        {
          "output_type": "execute_result",
          "data": {
            "text/plain": [
              "LogisticRegression()"
            ]
          },
          "metadata": {},
          "execution_count": 50
        }
      ]
    },
    {
      "cell_type": "code",
      "metadata": {
        "colab": {
          "base_uri": "https://localhost:8080/"
        },
        "id": "6UpgqP0toPOu",
        "outputId": "d8270989-daa9-4cb7-a239-4f0368cfe2aa"
      },
      "source": [
        "print(lr1.predict(x2)[0:5])\n",
        "print(noshow[['No-show']].values[0:5])"
      ],
      "execution_count": null,
      "outputs": [
        {
          "output_type": "stream",
          "name": "stdout",
          "text": [
            "['No' 'No' 'No' 'No' 'No']\n",
            "[['No']\n",
            " ['No']\n",
            " ['No']\n",
            " ['No']\n",
            " ['No']]\n"
          ]
        }
      ]
    },
    {
      "cell_type": "markdown",
      "metadata": {
        "id": "V0jdeVrmU6Fu"
      },
      "source": [
        "##### Train and test data"
      ]
    },
    {
      "cell_type": "code",
      "metadata": {
        "id": "zB2TBRTDYg3_",
        "colab": {
          "base_uri": "https://localhost:8080/"
        },
        "outputId": "7d7bbcf4-a643-41f4-a894-1540c8b19c95"
      },
      "source": [
        "x2_train, x2_test, y2_train, y2_test = train_test_split(x2, y, test_size=0.20, random_state=0)\n",
        "lr1.fit(x2_train,y2_train)"
      ],
      "execution_count": null,
      "outputs": [
        {
          "output_type": "stream",
          "name": "stderr",
          "text": [
            "/usr/local/lib/python3.7/dist-packages/sklearn/utils/validation.py:985: DataConversionWarning: A column-vector y was passed when a 1d array was expected. Please change the shape of y to (n_samples, ), for example using ravel().\n",
            "  y = column_or_1d(y, warn=True)\n"
          ]
        },
        {
          "output_type": "execute_result",
          "data": {
            "text/plain": [
              "LogisticRegression()"
            ]
          },
          "metadata": {},
          "execution_count": 57
        }
      ]
    },
    {
      "cell_type": "code",
      "metadata": {
        "colab": {
          "base_uri": "https://localhost:8080/"
        },
        "id": "Lc1WSDCZpCTN",
        "outputId": "4a778f3f-f8bb-43b3-d518-9d94456ce683"
      },
      "source": [
        "print(lr1.predict(x2_test)[0:10])\n",
        "print(y2_test.values[0:10])"
      ],
      "execution_count": null,
      "outputs": [
        {
          "output_type": "stream",
          "name": "stdout",
          "text": [
            "['No' 'No' 'No' 'No' 'No' 'No' 'No' 'No' 'No' 'No']\n",
            "[['No']\n",
            " ['No']\n",
            " ['No']\n",
            " ['No']\n",
            " ['Yes']\n",
            " ['No']\n",
            " ['No']\n",
            " ['No']\n",
            " ['No']\n",
            " ['No']]\n"
          ]
        }
      ]
    },
    {
      "cell_type": "code",
      "metadata": {
        "colab": {
          "base_uri": "https://localhost:8080/"
        },
        "id": "n7F51jhwpJUX",
        "outputId": "19aa3d01-3413-4d89-cac2-0b311a904079"
      },
      "source": [
        "print(\"confusion matrix:\",metrics.confusion_matrix(y2_test, lr1.predict(x2_test)))\n",
        "print(\"Accuracy:\",metrics.accuracy_score(y2_test, lr1.predict(x2_test)))\n",
        "print(\"Precision:\",metrics.precision_score(y2_test, lr1.predict(x2_test), average=\"binary\", pos_label=\"No\")) # pos_label: positive value"
      ],
      "execution_count": null,
      "outputs": [
        {
          "output_type": "stream",
          "name": "stdout",
          "text": [
            "confusion matrix: [[17725     0]\n",
            " [ 4381     0]]\n",
            "Accuracy: 0.8018185108115444\n",
            "Precision: 0.8018185108115444\n"
          ]
        }
      ]
    },
    {
      "cell_type": "code",
      "metadata": {
        "id": "PIC05PVapaAJ"
      },
      "source": [
        ""
      ],
      "execution_count": null,
      "outputs": []
    }
  ]
}