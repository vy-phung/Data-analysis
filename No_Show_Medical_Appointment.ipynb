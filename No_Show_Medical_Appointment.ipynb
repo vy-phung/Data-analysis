{
  "nbformat": 4,
  "nbformat_minor": 0,
  "metadata": {
    "colab": {
      "name": "No Show Medical Appointment.ipynb",
      "provenance": [],
      "authorship_tag": "ABX9TyPd+ZpRhaW6vPVrTyV8Ifi/",
      "include_colab_link": true
    },
    "kernelspec": {
      "name": "python3",
      "display_name": "Python 3"
    },
    "language_info": {
      "name": "python"
    }
  },
  "cells": [
    {
      "cell_type": "markdown",
      "metadata": {
        "id": "view-in-github",
        "colab_type": "text"
      },
      "source": [
        "<a href=\"https://colab.research.google.com/github/vy-phung/Data-analysis/blob/main/No_Show_Medical_Appointment.ipynb\" target=\"_parent\"><img src=\"https://colab.research.google.com/assets/colab-badge.svg\" alt=\"Open In Colab\"/></a>"
      ]
    },
    {
      "cell_type": "markdown",
      "metadata": {
        "id": "7eCArbS34Xxg"
      },
      "source": [
        "The purpose of this data analysis is to find if receiving SMS or not is associated with the customers show up or not show up in Medical appointment.\n",
        "\n",
        "In addition, I wil analyse others factors especially the factor of scheduled in the same day or in advance the Medical appointment may effect the relationship between SMS_received and no-show appointment. \n"
      ]
    },
    {
      "cell_type": "markdown",
      "metadata": {
        "id": "9wPDTbcU8KTr"
      },
      "source": [
        "Data source: https://www.kaggle.com/joniarroba/noshowappointments/home \n",
        " (In this data source there is also the explanation for variable name)"
      ]
    },
    {
      "cell_type": "markdown",
      "metadata": {
        "id": "5YavWOD_7ZfR"
      },
      "source": [
        "I will use logistic regression for this analysis. "
      ]
    },
    {
      "cell_type": "code",
      "metadata": {
        "id": "llMVzCWm23z2"
      },
      "source": [
        "#@title Import packages \n",
        "# Package\n",
        "import pandas as pd\n",
        "import numpy as np\n",
        "from sklearn.linear_model import LogisticRegression\n",
        "from sklearn.model_selection import train_test_split\n",
        "from sklearn import metrics\n",
        "from sklearn.linear_model import LinearRegression\n",
        "from sklearn.metrics import mean_squared_error\n",
        "from sklearn.model_selection import GridSearchCV\n",
        "from sklearn.linear_model import Ridge\n",
        "from sklearn.preprocessing import PolynomialFeatures\n",
        "# import the visualization package\n",
        "import seaborn as sns\n",
        "import matplotlib.pyplot as plt\n",
        "%matplotlib inline "
      ],
      "execution_count": 5,
      "outputs": []
    },
    {
      "cell_type": "markdown",
      "metadata": {
        "id": "9KRBdRQY9k8R"
      },
      "source": [
        "### **Import data**"
      ]
    },
    {
      "cell_type": "code",
      "metadata": {
        "colab": {
          "base_uri": "https://localhost:8080/",
          "height": 634
        },
        "id": "qNhETP4bdvDz",
        "outputId": "b4814e0e-9468-4a89-f614-638e6a96b608"
      },
      "source": [
        "noshow = pd.read_csv('/content/KaggleV2-May-2016.csv')\n",
        "noshow"
      ],
      "execution_count": 6,
      "outputs": [
        {
          "output_type": "execute_result",
          "data": {
            "text/html": [
              "<div>\n",
              "<style scoped>\n",
              "    .dataframe tbody tr th:only-of-type {\n",
              "        vertical-align: middle;\n",
              "    }\n",
              "\n",
              "    .dataframe tbody tr th {\n",
              "        vertical-align: top;\n",
              "    }\n",
              "\n",
              "    .dataframe thead th {\n",
              "        text-align: right;\n",
              "    }\n",
              "</style>\n",
              "<table border=\"1\" class=\"dataframe\">\n",
              "  <thead>\n",
              "    <tr style=\"text-align: right;\">\n",
              "      <th></th>\n",
              "      <th>PatientId</th>\n",
              "      <th>AppointmentID</th>\n",
              "      <th>Gender</th>\n",
              "      <th>ScheduledDay</th>\n",
              "      <th>AppointmentDay</th>\n",
              "      <th>Age</th>\n",
              "      <th>Neighbourhood</th>\n",
              "      <th>Scholarship</th>\n",
              "      <th>Hipertension</th>\n",
              "      <th>Diabetes</th>\n",
              "      <th>Alcoholism</th>\n",
              "      <th>Handcap</th>\n",
              "      <th>SMS_received</th>\n",
              "      <th>No-show</th>\n",
              "    </tr>\n",
              "  </thead>\n",
              "  <tbody>\n",
              "    <tr>\n",
              "      <th>0</th>\n",
              "      <td>2.987250e+13</td>\n",
              "      <td>5642903</td>\n",
              "      <td>F</td>\n",
              "      <td>2016-04-29T18:38:08Z</td>\n",
              "      <td>2016-04-29T00:00:00Z</td>\n",
              "      <td>62</td>\n",
              "      <td>JARDIM DA PENHA</td>\n",
              "      <td>0</td>\n",
              "      <td>1</td>\n",
              "      <td>0</td>\n",
              "      <td>0</td>\n",
              "      <td>0</td>\n",
              "      <td>0</td>\n",
              "      <td>No</td>\n",
              "    </tr>\n",
              "    <tr>\n",
              "      <th>1</th>\n",
              "      <td>5.589978e+14</td>\n",
              "      <td>5642503</td>\n",
              "      <td>M</td>\n",
              "      <td>2016-04-29T16:08:27Z</td>\n",
              "      <td>2016-04-29T00:00:00Z</td>\n",
              "      <td>56</td>\n",
              "      <td>JARDIM DA PENHA</td>\n",
              "      <td>0</td>\n",
              "      <td>0</td>\n",
              "      <td>0</td>\n",
              "      <td>0</td>\n",
              "      <td>0</td>\n",
              "      <td>0</td>\n",
              "      <td>No</td>\n",
              "    </tr>\n",
              "    <tr>\n",
              "      <th>2</th>\n",
              "      <td>4.262962e+12</td>\n",
              "      <td>5642549</td>\n",
              "      <td>F</td>\n",
              "      <td>2016-04-29T16:19:04Z</td>\n",
              "      <td>2016-04-29T00:00:00Z</td>\n",
              "      <td>62</td>\n",
              "      <td>MATA DA PRAIA</td>\n",
              "      <td>0</td>\n",
              "      <td>0</td>\n",
              "      <td>0</td>\n",
              "      <td>0</td>\n",
              "      <td>0</td>\n",
              "      <td>0</td>\n",
              "      <td>No</td>\n",
              "    </tr>\n",
              "    <tr>\n",
              "      <th>3</th>\n",
              "      <td>8.679512e+11</td>\n",
              "      <td>5642828</td>\n",
              "      <td>F</td>\n",
              "      <td>2016-04-29T17:29:31Z</td>\n",
              "      <td>2016-04-29T00:00:00Z</td>\n",
              "      <td>8</td>\n",
              "      <td>PONTAL DE CAMBURI</td>\n",
              "      <td>0</td>\n",
              "      <td>0</td>\n",
              "      <td>0</td>\n",
              "      <td>0</td>\n",
              "      <td>0</td>\n",
              "      <td>0</td>\n",
              "      <td>No</td>\n",
              "    </tr>\n",
              "    <tr>\n",
              "      <th>4</th>\n",
              "      <td>8.841186e+12</td>\n",
              "      <td>5642494</td>\n",
              "      <td>F</td>\n",
              "      <td>2016-04-29T16:07:23Z</td>\n",
              "      <td>2016-04-29T00:00:00Z</td>\n",
              "      <td>56</td>\n",
              "      <td>JARDIM DA PENHA</td>\n",
              "      <td>0</td>\n",
              "      <td>1</td>\n",
              "      <td>1</td>\n",
              "      <td>0</td>\n",
              "      <td>0</td>\n",
              "      <td>0</td>\n",
              "      <td>No</td>\n",
              "    </tr>\n",
              "    <tr>\n",
              "      <th>...</th>\n",
              "      <td>...</td>\n",
              "      <td>...</td>\n",
              "      <td>...</td>\n",
              "      <td>...</td>\n",
              "      <td>...</td>\n",
              "      <td>...</td>\n",
              "      <td>...</td>\n",
              "      <td>...</td>\n",
              "      <td>...</td>\n",
              "      <td>...</td>\n",
              "      <td>...</td>\n",
              "      <td>...</td>\n",
              "      <td>...</td>\n",
              "      <td>...</td>\n",
              "    </tr>\n",
              "    <tr>\n",
              "      <th>110522</th>\n",
              "      <td>2.572134e+12</td>\n",
              "      <td>5651768</td>\n",
              "      <td>F</td>\n",
              "      <td>2016-05-03T09:15:35Z</td>\n",
              "      <td>2016-06-07T00:00:00Z</td>\n",
              "      <td>56</td>\n",
              "      <td>MARIA ORTIZ</td>\n",
              "      <td>0</td>\n",
              "      <td>0</td>\n",
              "      <td>0</td>\n",
              "      <td>0</td>\n",
              "      <td>0</td>\n",
              "      <td>1</td>\n",
              "      <td>No</td>\n",
              "    </tr>\n",
              "    <tr>\n",
              "      <th>110523</th>\n",
              "      <td>3.596266e+12</td>\n",
              "      <td>5650093</td>\n",
              "      <td>F</td>\n",
              "      <td>2016-05-03T07:27:33Z</td>\n",
              "      <td>2016-06-07T00:00:00Z</td>\n",
              "      <td>51</td>\n",
              "      <td>MARIA ORTIZ</td>\n",
              "      <td>0</td>\n",
              "      <td>0</td>\n",
              "      <td>0</td>\n",
              "      <td>0</td>\n",
              "      <td>0</td>\n",
              "      <td>1</td>\n",
              "      <td>No</td>\n",
              "    </tr>\n",
              "    <tr>\n",
              "      <th>110524</th>\n",
              "      <td>1.557663e+13</td>\n",
              "      <td>5630692</td>\n",
              "      <td>F</td>\n",
              "      <td>2016-04-27T16:03:52Z</td>\n",
              "      <td>2016-06-07T00:00:00Z</td>\n",
              "      <td>21</td>\n",
              "      <td>MARIA ORTIZ</td>\n",
              "      <td>0</td>\n",
              "      <td>0</td>\n",
              "      <td>0</td>\n",
              "      <td>0</td>\n",
              "      <td>0</td>\n",
              "      <td>1</td>\n",
              "      <td>No</td>\n",
              "    </tr>\n",
              "    <tr>\n",
              "      <th>110525</th>\n",
              "      <td>9.213493e+13</td>\n",
              "      <td>5630323</td>\n",
              "      <td>F</td>\n",
              "      <td>2016-04-27T15:09:23Z</td>\n",
              "      <td>2016-06-07T00:00:00Z</td>\n",
              "      <td>38</td>\n",
              "      <td>MARIA ORTIZ</td>\n",
              "      <td>0</td>\n",
              "      <td>0</td>\n",
              "      <td>0</td>\n",
              "      <td>0</td>\n",
              "      <td>0</td>\n",
              "      <td>1</td>\n",
              "      <td>No</td>\n",
              "    </tr>\n",
              "    <tr>\n",
              "      <th>110526</th>\n",
              "      <td>3.775115e+14</td>\n",
              "      <td>5629448</td>\n",
              "      <td>F</td>\n",
              "      <td>2016-04-27T13:30:56Z</td>\n",
              "      <td>2016-06-07T00:00:00Z</td>\n",
              "      <td>54</td>\n",
              "      <td>MARIA ORTIZ</td>\n",
              "      <td>0</td>\n",
              "      <td>0</td>\n",
              "      <td>0</td>\n",
              "      <td>0</td>\n",
              "      <td>0</td>\n",
              "      <td>1</td>\n",
              "      <td>No</td>\n",
              "    </tr>\n",
              "  </tbody>\n",
              "</table>\n",
              "<p>110527 rows × 14 columns</p>\n",
              "</div>"
            ],
            "text/plain": [
              "           PatientId  AppointmentID Gender  ... Handcap SMS_received  No-show\n",
              "0       2.987250e+13        5642903      F  ...       0            0       No\n",
              "1       5.589978e+14        5642503      M  ...       0            0       No\n",
              "2       4.262962e+12        5642549      F  ...       0            0       No\n",
              "3       8.679512e+11        5642828      F  ...       0            0       No\n",
              "4       8.841186e+12        5642494      F  ...       0            0       No\n",
              "...              ...            ...    ...  ...     ...          ...      ...\n",
              "110522  2.572134e+12        5651768      F  ...       0            1       No\n",
              "110523  3.596266e+12        5650093      F  ...       0            1       No\n",
              "110524  1.557663e+13        5630692      F  ...       0            1       No\n",
              "110525  9.213493e+13        5630323      F  ...       0            1       No\n",
              "110526  3.775115e+14        5629448      F  ...       0            1       No\n",
              "\n",
              "[110527 rows x 14 columns]"
            ]
          },
          "metadata": {},
          "execution_count": 6
        }
      ]
    },
    {
      "cell_type": "code",
      "metadata": {
        "colab": {
          "base_uri": "https://localhost:8080/",
          "height": 300
        },
        "id": "qtBG2NhI-Yw1",
        "outputId": "2e82ed45-f4f8-4357-a47a-dcbc11fa45f0"
      },
      "source": [
        "noshow.describe()"
      ],
      "execution_count": 3,
      "outputs": [
        {
          "output_type": "execute_result",
          "data": {
            "text/html": [
              "<div>\n",
              "<style scoped>\n",
              "    .dataframe tbody tr th:only-of-type {\n",
              "        vertical-align: middle;\n",
              "    }\n",
              "\n",
              "    .dataframe tbody tr th {\n",
              "        vertical-align: top;\n",
              "    }\n",
              "\n",
              "    .dataframe thead th {\n",
              "        text-align: right;\n",
              "    }\n",
              "</style>\n",
              "<table border=\"1\" class=\"dataframe\">\n",
              "  <thead>\n",
              "    <tr style=\"text-align: right;\">\n",
              "      <th></th>\n",
              "      <th>PatientId</th>\n",
              "      <th>AppointmentID</th>\n",
              "      <th>Age</th>\n",
              "      <th>Scholarship</th>\n",
              "      <th>Hipertension</th>\n",
              "      <th>Diabetes</th>\n",
              "      <th>Alcoholism</th>\n",
              "      <th>Handcap</th>\n",
              "      <th>SMS_received</th>\n",
              "    </tr>\n",
              "  </thead>\n",
              "  <tbody>\n",
              "    <tr>\n",
              "      <th>count</th>\n",
              "      <td>1.105270e+05</td>\n",
              "      <td>1.105270e+05</td>\n",
              "      <td>110527.000000</td>\n",
              "      <td>110527.000000</td>\n",
              "      <td>110527.000000</td>\n",
              "      <td>110527.000000</td>\n",
              "      <td>110527.000000</td>\n",
              "      <td>110527.000000</td>\n",
              "      <td>110527.000000</td>\n",
              "    </tr>\n",
              "    <tr>\n",
              "      <th>mean</th>\n",
              "      <td>1.474963e+14</td>\n",
              "      <td>5.675305e+06</td>\n",
              "      <td>37.088874</td>\n",
              "      <td>0.098266</td>\n",
              "      <td>0.197246</td>\n",
              "      <td>0.071865</td>\n",
              "      <td>0.030400</td>\n",
              "      <td>0.022248</td>\n",
              "      <td>0.321026</td>\n",
              "    </tr>\n",
              "    <tr>\n",
              "      <th>std</th>\n",
              "      <td>2.560949e+14</td>\n",
              "      <td>7.129575e+04</td>\n",
              "      <td>23.110205</td>\n",
              "      <td>0.297675</td>\n",
              "      <td>0.397921</td>\n",
              "      <td>0.258265</td>\n",
              "      <td>0.171686</td>\n",
              "      <td>0.161543</td>\n",
              "      <td>0.466873</td>\n",
              "    </tr>\n",
              "    <tr>\n",
              "      <th>min</th>\n",
              "      <td>3.921784e+04</td>\n",
              "      <td>5.030230e+06</td>\n",
              "      <td>-1.000000</td>\n",
              "      <td>0.000000</td>\n",
              "      <td>0.000000</td>\n",
              "      <td>0.000000</td>\n",
              "      <td>0.000000</td>\n",
              "      <td>0.000000</td>\n",
              "      <td>0.000000</td>\n",
              "    </tr>\n",
              "    <tr>\n",
              "      <th>25%</th>\n",
              "      <td>4.172614e+12</td>\n",
              "      <td>5.640286e+06</td>\n",
              "      <td>18.000000</td>\n",
              "      <td>0.000000</td>\n",
              "      <td>0.000000</td>\n",
              "      <td>0.000000</td>\n",
              "      <td>0.000000</td>\n",
              "      <td>0.000000</td>\n",
              "      <td>0.000000</td>\n",
              "    </tr>\n",
              "    <tr>\n",
              "      <th>50%</th>\n",
              "      <td>3.173184e+13</td>\n",
              "      <td>5.680573e+06</td>\n",
              "      <td>37.000000</td>\n",
              "      <td>0.000000</td>\n",
              "      <td>0.000000</td>\n",
              "      <td>0.000000</td>\n",
              "      <td>0.000000</td>\n",
              "      <td>0.000000</td>\n",
              "      <td>0.000000</td>\n",
              "    </tr>\n",
              "    <tr>\n",
              "      <th>75%</th>\n",
              "      <td>9.439172e+13</td>\n",
              "      <td>5.725524e+06</td>\n",
              "      <td>55.000000</td>\n",
              "      <td>0.000000</td>\n",
              "      <td>0.000000</td>\n",
              "      <td>0.000000</td>\n",
              "      <td>0.000000</td>\n",
              "      <td>0.000000</td>\n",
              "      <td>1.000000</td>\n",
              "    </tr>\n",
              "    <tr>\n",
              "      <th>max</th>\n",
              "      <td>9.999816e+14</td>\n",
              "      <td>5.790484e+06</td>\n",
              "      <td>115.000000</td>\n",
              "      <td>1.000000</td>\n",
              "      <td>1.000000</td>\n",
              "      <td>1.000000</td>\n",
              "      <td>1.000000</td>\n",
              "      <td>4.000000</td>\n",
              "      <td>1.000000</td>\n",
              "    </tr>\n",
              "  </tbody>\n",
              "</table>\n",
              "</div>"
            ],
            "text/plain": [
              "          PatientId  AppointmentID  ...        Handcap   SMS_received\n",
              "count  1.105270e+05   1.105270e+05  ...  110527.000000  110527.000000\n",
              "mean   1.474963e+14   5.675305e+06  ...       0.022248       0.321026\n",
              "std    2.560949e+14   7.129575e+04  ...       0.161543       0.466873\n",
              "min    3.921784e+04   5.030230e+06  ...       0.000000       0.000000\n",
              "25%    4.172614e+12   5.640286e+06  ...       0.000000       0.000000\n",
              "50%    3.173184e+13   5.680573e+06  ...       0.000000       0.000000\n",
              "75%    9.439172e+13   5.725524e+06  ...       0.000000       1.000000\n",
              "max    9.999816e+14   5.790484e+06  ...       4.000000       1.000000\n",
              "\n",
              "[8 rows x 9 columns]"
            ]
          },
          "metadata": {},
          "execution_count": 3
        }
      ]
    },
    {
      "cell_type": "code",
      "metadata": {
        "colab": {
          "base_uri": "https://localhost:8080/"
        },
        "id": "heg3nYASAkI7",
        "outputId": "cc8d1b2c-68e7-47c3-b786-59b370ba8fe8"
      },
      "source": [
        "print(noshow.dtypes)"
      ],
      "execution_count": null,
      "outputs": [
        {
          "output_type": "stream",
          "name": "stdout",
          "text": [
            "PatientId         float64\n",
            "AppointmentID       int64\n",
            "Gender             object\n",
            "ScheduledDay       object\n",
            "AppointmentDay     object\n",
            "Age                 int64\n",
            "Neighbourhood      object\n",
            "Scholarship         int64\n",
            "Hipertension        int64\n",
            "Diabetes            int64\n",
            "Alcoholism          int64\n",
            "Handcap             int64\n",
            "SMS_received        int64\n",
            "No-show            object\n",
            "dtype: object\n"
          ]
        }
      ]
    },
    {
      "cell_type": "code",
      "metadata": {
        "colab": {
          "base_uri": "https://localhost:8080/"
        },
        "id": "a9BemaAPhKx5",
        "outputId": "21d8b6d6-3fd2-488b-ae4a-3706dee7d7c4"
      },
      "source": [
        "print(\"number of NaN values for the column No-show :\", noshow['No-show'].isnull().sum())\n",
        "print(\"number of NaN values for the column SMS_received :\", noshow['SMS_received'].isnull().sum())\n",
        "print(\"number of NaN values for the column ScheduledDay :\", noshow['ScheduledDay'].isnull().sum())\n",
        "print(\"number of NaN values for the column AppointmentDay :\", noshow['AppointmentDay'].isnull().sum())"
      ],
      "execution_count": 6,
      "outputs": [
        {
          "output_type": "stream",
          "name": "stdout",
          "text": [
            "number of NaN values for the column No-show : 0\n",
            "number of NaN values for the column SMS_received : 0\n",
            "number of NaN values for the column ScheduledDay : 0\n",
            "number of NaN values for the column AppointmentDay : 0\n"
          ]
        }
      ]
    },
    {
      "cell_type": "markdown",
      "metadata": {
        "id": "RebgFarL-nEr"
      },
      "source": [
        "### **Exploratory data analysis**"
      ]
    },
    {
      "cell_type": "code",
      "metadata": {
        "colab": {
          "base_uri": "https://localhost:8080/",
          "height": 634
        },
        "id": "Vo_RYBpQd18M",
        "outputId": "669cb537-ab38-4c85-f9aa-94ab9aeae864"
      },
      "source": [
        "no_show = []\n",
        "for term in noshow['No-show']:\n",
        "  if term == 'No':\n",
        "    no_show.append(0)\n",
        "  elif term == 'Yes':\n",
        "    no_show.append(1)\n",
        "df = pd.Series(no_show, name='noshow')\n",
        "noshow = pd.concat([noshow, df], axis=1)\n",
        "noshow"
      ],
      "execution_count": 7,
      "outputs": [
        {
          "output_type": "execute_result",
          "data": {
            "text/html": [
              "<div>\n",
              "<style scoped>\n",
              "    .dataframe tbody tr th:only-of-type {\n",
              "        vertical-align: middle;\n",
              "    }\n",
              "\n",
              "    .dataframe tbody tr th {\n",
              "        vertical-align: top;\n",
              "    }\n",
              "\n",
              "    .dataframe thead th {\n",
              "        text-align: right;\n",
              "    }\n",
              "</style>\n",
              "<table border=\"1\" class=\"dataframe\">\n",
              "  <thead>\n",
              "    <tr style=\"text-align: right;\">\n",
              "      <th></th>\n",
              "      <th>PatientId</th>\n",
              "      <th>AppointmentID</th>\n",
              "      <th>Gender</th>\n",
              "      <th>ScheduledDay</th>\n",
              "      <th>AppointmentDay</th>\n",
              "      <th>Age</th>\n",
              "      <th>Neighbourhood</th>\n",
              "      <th>Scholarship</th>\n",
              "      <th>Hipertension</th>\n",
              "      <th>Diabetes</th>\n",
              "      <th>Alcoholism</th>\n",
              "      <th>Handcap</th>\n",
              "      <th>SMS_received</th>\n",
              "      <th>No-show</th>\n",
              "      <th>noshow</th>\n",
              "    </tr>\n",
              "  </thead>\n",
              "  <tbody>\n",
              "    <tr>\n",
              "      <th>0</th>\n",
              "      <td>2.987250e+13</td>\n",
              "      <td>5642903</td>\n",
              "      <td>F</td>\n",
              "      <td>2016-04-29T18:38:08Z</td>\n",
              "      <td>2016-04-29T00:00:00Z</td>\n",
              "      <td>62</td>\n",
              "      <td>JARDIM DA PENHA</td>\n",
              "      <td>0</td>\n",
              "      <td>1</td>\n",
              "      <td>0</td>\n",
              "      <td>0</td>\n",
              "      <td>0</td>\n",
              "      <td>0</td>\n",
              "      <td>No</td>\n",
              "      <td>0</td>\n",
              "    </tr>\n",
              "    <tr>\n",
              "      <th>1</th>\n",
              "      <td>5.589978e+14</td>\n",
              "      <td>5642503</td>\n",
              "      <td>M</td>\n",
              "      <td>2016-04-29T16:08:27Z</td>\n",
              "      <td>2016-04-29T00:00:00Z</td>\n",
              "      <td>56</td>\n",
              "      <td>JARDIM DA PENHA</td>\n",
              "      <td>0</td>\n",
              "      <td>0</td>\n",
              "      <td>0</td>\n",
              "      <td>0</td>\n",
              "      <td>0</td>\n",
              "      <td>0</td>\n",
              "      <td>No</td>\n",
              "      <td>0</td>\n",
              "    </tr>\n",
              "    <tr>\n",
              "      <th>2</th>\n",
              "      <td>4.262962e+12</td>\n",
              "      <td>5642549</td>\n",
              "      <td>F</td>\n",
              "      <td>2016-04-29T16:19:04Z</td>\n",
              "      <td>2016-04-29T00:00:00Z</td>\n",
              "      <td>62</td>\n",
              "      <td>MATA DA PRAIA</td>\n",
              "      <td>0</td>\n",
              "      <td>0</td>\n",
              "      <td>0</td>\n",
              "      <td>0</td>\n",
              "      <td>0</td>\n",
              "      <td>0</td>\n",
              "      <td>No</td>\n",
              "      <td>0</td>\n",
              "    </tr>\n",
              "    <tr>\n",
              "      <th>3</th>\n",
              "      <td>8.679512e+11</td>\n",
              "      <td>5642828</td>\n",
              "      <td>F</td>\n",
              "      <td>2016-04-29T17:29:31Z</td>\n",
              "      <td>2016-04-29T00:00:00Z</td>\n",
              "      <td>8</td>\n",
              "      <td>PONTAL DE CAMBURI</td>\n",
              "      <td>0</td>\n",
              "      <td>0</td>\n",
              "      <td>0</td>\n",
              "      <td>0</td>\n",
              "      <td>0</td>\n",
              "      <td>0</td>\n",
              "      <td>No</td>\n",
              "      <td>0</td>\n",
              "    </tr>\n",
              "    <tr>\n",
              "      <th>4</th>\n",
              "      <td>8.841186e+12</td>\n",
              "      <td>5642494</td>\n",
              "      <td>F</td>\n",
              "      <td>2016-04-29T16:07:23Z</td>\n",
              "      <td>2016-04-29T00:00:00Z</td>\n",
              "      <td>56</td>\n",
              "      <td>JARDIM DA PENHA</td>\n",
              "      <td>0</td>\n",
              "      <td>1</td>\n",
              "      <td>1</td>\n",
              "      <td>0</td>\n",
              "      <td>0</td>\n",
              "      <td>0</td>\n",
              "      <td>No</td>\n",
              "      <td>0</td>\n",
              "    </tr>\n",
              "    <tr>\n",
              "      <th>...</th>\n",
              "      <td>...</td>\n",
              "      <td>...</td>\n",
              "      <td>...</td>\n",
              "      <td>...</td>\n",
              "      <td>...</td>\n",
              "      <td>...</td>\n",
              "      <td>...</td>\n",
              "      <td>...</td>\n",
              "      <td>...</td>\n",
              "      <td>...</td>\n",
              "      <td>...</td>\n",
              "      <td>...</td>\n",
              "      <td>...</td>\n",
              "      <td>...</td>\n",
              "      <td>...</td>\n",
              "    </tr>\n",
              "    <tr>\n",
              "      <th>110522</th>\n",
              "      <td>2.572134e+12</td>\n",
              "      <td>5651768</td>\n",
              "      <td>F</td>\n",
              "      <td>2016-05-03T09:15:35Z</td>\n",
              "      <td>2016-06-07T00:00:00Z</td>\n",
              "      <td>56</td>\n",
              "      <td>MARIA ORTIZ</td>\n",
              "      <td>0</td>\n",
              "      <td>0</td>\n",
              "      <td>0</td>\n",
              "      <td>0</td>\n",
              "      <td>0</td>\n",
              "      <td>1</td>\n",
              "      <td>No</td>\n",
              "      <td>0</td>\n",
              "    </tr>\n",
              "    <tr>\n",
              "      <th>110523</th>\n",
              "      <td>3.596266e+12</td>\n",
              "      <td>5650093</td>\n",
              "      <td>F</td>\n",
              "      <td>2016-05-03T07:27:33Z</td>\n",
              "      <td>2016-06-07T00:00:00Z</td>\n",
              "      <td>51</td>\n",
              "      <td>MARIA ORTIZ</td>\n",
              "      <td>0</td>\n",
              "      <td>0</td>\n",
              "      <td>0</td>\n",
              "      <td>0</td>\n",
              "      <td>0</td>\n",
              "      <td>1</td>\n",
              "      <td>No</td>\n",
              "      <td>0</td>\n",
              "    </tr>\n",
              "    <tr>\n",
              "      <th>110524</th>\n",
              "      <td>1.557663e+13</td>\n",
              "      <td>5630692</td>\n",
              "      <td>F</td>\n",
              "      <td>2016-04-27T16:03:52Z</td>\n",
              "      <td>2016-06-07T00:00:00Z</td>\n",
              "      <td>21</td>\n",
              "      <td>MARIA ORTIZ</td>\n",
              "      <td>0</td>\n",
              "      <td>0</td>\n",
              "      <td>0</td>\n",
              "      <td>0</td>\n",
              "      <td>0</td>\n",
              "      <td>1</td>\n",
              "      <td>No</td>\n",
              "      <td>0</td>\n",
              "    </tr>\n",
              "    <tr>\n",
              "      <th>110525</th>\n",
              "      <td>9.213493e+13</td>\n",
              "      <td>5630323</td>\n",
              "      <td>F</td>\n",
              "      <td>2016-04-27T15:09:23Z</td>\n",
              "      <td>2016-06-07T00:00:00Z</td>\n",
              "      <td>38</td>\n",
              "      <td>MARIA ORTIZ</td>\n",
              "      <td>0</td>\n",
              "      <td>0</td>\n",
              "      <td>0</td>\n",
              "      <td>0</td>\n",
              "      <td>0</td>\n",
              "      <td>1</td>\n",
              "      <td>No</td>\n",
              "      <td>0</td>\n",
              "    </tr>\n",
              "    <tr>\n",
              "      <th>110526</th>\n",
              "      <td>3.775115e+14</td>\n",
              "      <td>5629448</td>\n",
              "      <td>F</td>\n",
              "      <td>2016-04-27T13:30:56Z</td>\n",
              "      <td>2016-06-07T00:00:00Z</td>\n",
              "      <td>54</td>\n",
              "      <td>MARIA ORTIZ</td>\n",
              "      <td>0</td>\n",
              "      <td>0</td>\n",
              "      <td>0</td>\n",
              "      <td>0</td>\n",
              "      <td>0</td>\n",
              "      <td>1</td>\n",
              "      <td>No</td>\n",
              "      <td>0</td>\n",
              "    </tr>\n",
              "  </tbody>\n",
              "</table>\n",
              "<p>110527 rows × 15 columns</p>\n",
              "</div>"
            ],
            "text/plain": [
              "           PatientId  AppointmentID Gender  ... SMS_received No-show  noshow\n",
              "0       2.987250e+13        5642903      F  ...            0      No       0\n",
              "1       5.589978e+14        5642503      M  ...            0      No       0\n",
              "2       4.262962e+12        5642549      F  ...            0      No       0\n",
              "3       8.679512e+11        5642828      F  ...            0      No       0\n",
              "4       8.841186e+12        5642494      F  ...            0      No       0\n",
              "...              ...            ...    ...  ...          ...     ...     ...\n",
              "110522  2.572134e+12        5651768      F  ...            1      No       0\n",
              "110523  3.596266e+12        5650093      F  ...            1      No       0\n",
              "110524  1.557663e+13        5630692      F  ...            1      No       0\n",
              "110525  9.213493e+13        5630323      F  ...            1      No       0\n",
              "110526  3.775115e+14        5629448      F  ...            1      No       0\n",
              "\n",
              "[110527 rows x 15 columns]"
            ]
          },
          "metadata": {},
          "execution_count": 7
        }
      ]
    },
    {
      "cell_type": "code",
      "metadata": {
        "id": "092qcVe4SzPM"
      },
      "source": [
        "noshow.to_csv('noshow.csv')"
      ],
      "execution_count": 29,
      "outputs": []
    },
    {
      "cell_type": "code",
      "metadata": {
        "colab": {
          "base_uri": "https://localhost:8080/",
          "height": 349
        },
        "id": "h_MqC6ihh_ye",
        "outputId": "a4d9e5d2-a870-45a0-83f2-eccfe1de0a31"
      },
      "source": [
        "print(noshow['No-show'].value_counts())\n",
        "sns.countplot(data=noshow,x = 'No-show')"
      ],
      "execution_count": 11,
      "outputs": [
        {
          "output_type": "stream",
          "name": "stdout",
          "text": [
            "No     88208\n",
            "Yes    22319\n",
            "Name: No-show, dtype: int64\n"
          ]
        },
        {
          "output_type": "execute_result",
          "data": {
            "text/plain": [
              "<matplotlib.axes._subplots.AxesSubplot at 0x7f083481e850>"
            ]
          },
          "metadata": {},
          "execution_count": 11
        },
        {
          "output_type": "display_data",
          "data": {
            "image/png": "[encoded data removed]",
            "text/plain": [
              "<Figure size 432x288 with 1 Axes>"
            ]
          },
          "metadata": {
            "needs_background": "light"
          }
        }
      ]
    },
    {
      "cell_type": "code",
      "metadata": {
        "colab": {
          "base_uri": "https://localhost:8080/",
          "height": 349
        },
        "id": "8oWBbY6_iq13",
        "outputId": "aa24aeb9-7266-4431-fd15-6431f61457e8"
      },
      "source": [
        "print(noshow['SMS_received'].value_counts())\n",
        "sns.countplot(data=noshow,x = 'SMS_received')"
      ],
      "execution_count": 12,
      "outputs": [
        {
          "output_type": "stream",
          "name": "stdout",
          "text": [
            "0    75045\n",
            "1    35482\n",
            "Name: SMS_received, dtype: int64\n"
          ]
        },
        {
          "output_type": "execute_result",
          "data": {
            "text/plain": [
              "<matplotlib.axes._subplots.AxesSubplot at 0x7f08347de810>"
            ]
          },
          "metadata": {},
          "execution_count": 12
        },
        {
          "output_type": "display_data",
          "data": {
            "image/png": "[encoded data removed]",
            "text/plain": [
              "<Figure size 432x288 with 1 Axes>"
            ]
          },
          "metadata": {
            "needs_background": "light"
          }
        }
      ]
    },
    {
      "cell_type": "code",
      "metadata": {
        "colab": {
          "base_uri": "https://localhost:8080/",
          "height": 423
        },
        "id": "QnffBL1JHbI2",
        "outputId": "ddc53d81-fb29-4130-b705-015d571636fe"
      },
      "source": [
        "x = noshow[['AppointmentDay','ScheduledDay']]\n",
        "x "
      ],
      "execution_count": null,
      "outputs": [
        {
          "output_type": "execute_result",
          "data": {
            "text/html": [
              "<div>\n",
              "<style scoped>\n",
              "    .dataframe tbody tr th:only-of-type {\n",
              "        vertical-align: middle;\n",
              "    }\n",
              "\n",
              "    .dataframe tbody tr th {\n",
              "        vertical-align: top;\n",
              "    }\n",
              "\n",
              "    .dataframe thead th {\n",
              "        text-align: right;\n",
              "    }\n",
              "</style>\n",
              "<table border=\"1\" class=\"dataframe\">\n",
              "  <thead>\n",
              "    <tr style=\"text-align: right;\">\n",
              "      <th></th>\n",
              "      <th>AppointmentDay</th>\n",
              "      <th>ScheduledDay</th>\n",
              "    </tr>\n",
              "  </thead>\n",
              "  <tbody>\n",
              "    <tr>\n",
              "      <th>0</th>\n",
              "      <td>2016-04-29T00:00:00Z</td>\n",
              "      <td>2016-04-29T18:38:08Z</td>\n",
              "    </tr>\n",
              "    <tr>\n",
              "      <th>1</th>\n",
              "      <td>2016-04-29T00:00:00Z</td>\n",
              "      <td>2016-04-29T16:08:27Z</td>\n",
              "    </tr>\n",
              "    <tr>\n",
              "      <th>2</th>\n",
              "      <td>2016-04-29T00:00:00Z</td>\n",
              "      <td>2016-04-29T16:19:04Z</td>\n",
              "    </tr>\n",
              "    <tr>\n",
              "      <th>3</th>\n",
              "      <td>2016-04-29T00:00:00Z</td>\n",
              "      <td>2016-04-29T17:29:31Z</td>\n",
              "    </tr>\n",
              "    <tr>\n",
              "      <th>4</th>\n",
              "      <td>2016-04-29T00:00:00Z</td>\n",
              "      <td>2016-04-29T16:07:23Z</td>\n",
              "    </tr>\n",
              "    <tr>\n",
              "      <th>...</th>\n",
              "      <td>...</td>\n",
              "      <td>...</td>\n",
              "    </tr>\n",
              "    <tr>\n",
              "      <th>110522</th>\n",
              "      <td>2016-06-07T00:00:00Z</td>\n",
              "      <td>2016-05-03T09:15:35Z</td>\n",
              "    </tr>\n",
              "    <tr>\n",
              "      <th>110523</th>\n",
              "      <td>2016-06-07T00:00:00Z</td>\n",
              "      <td>2016-05-03T07:27:33Z</td>\n",
              "    </tr>\n",
              "    <tr>\n",
              "      <th>110524</th>\n",
              "      <td>2016-06-07T00:00:00Z</td>\n",
              "      <td>2016-04-27T16:03:52Z</td>\n",
              "    </tr>\n",
              "    <tr>\n",
              "      <th>110525</th>\n",
              "      <td>2016-06-07T00:00:00Z</td>\n",
              "      <td>2016-04-27T15:09:23Z</td>\n",
              "    </tr>\n",
              "    <tr>\n",
              "      <th>110526</th>\n",
              "      <td>2016-06-07T00:00:00Z</td>\n",
              "      <td>2016-04-27T13:30:56Z</td>\n",
              "    </tr>\n",
              "  </tbody>\n",
              "</table>\n",
              "<p>110527 rows × 2 columns</p>\n",
              "</div>"
            ],
            "text/plain": [
              "              AppointmentDay          ScheduledDay\n",
              "0       2016-04-29T00:00:00Z  2016-04-29T18:38:08Z\n",
              "1       2016-04-29T00:00:00Z  2016-04-29T16:08:27Z\n",
              "2       2016-04-29T00:00:00Z  2016-04-29T16:19:04Z\n",
              "3       2016-04-29T00:00:00Z  2016-04-29T17:29:31Z\n",
              "4       2016-04-29T00:00:00Z  2016-04-29T16:07:23Z\n",
              "...                      ...                   ...\n",
              "110522  2016-06-07T00:00:00Z  2016-05-03T09:15:35Z\n",
              "110523  2016-06-07T00:00:00Z  2016-05-03T07:27:33Z\n",
              "110524  2016-06-07T00:00:00Z  2016-04-27T16:03:52Z\n",
              "110525  2016-06-07T00:00:00Z  2016-04-27T15:09:23Z\n",
              "110526  2016-06-07T00:00:00Z  2016-04-27T13:30:56Z\n",
              "\n",
              "[110527 rows x 2 columns]"
            ]
          },
          "metadata": {},
          "execution_count": 32
        }
      ]
    },
    {
      "cell_type": "code",
      "metadata": {
        "colab": {
          "base_uri": "https://localhost:8080/",
          "height": 423
        },
        "id": "Bt631ZfQCFri",
        "outputId": "aa9cf73f-05f4-4d31-b117-bf8479064600"
      },
      "source": [
        "month = []\n",
        "year = []\n",
        "for i in noshow['ScheduledDay']:\n",
        "  schedule = i.split('-') \n",
        "  if schedule[0] == '2015':  year.append('2015')\n",
        "  elif schedule[0] == '2016':  year.append('2016')\n",
        "  if schedule[1] == '01':  month.append('Jan')\n",
        "  elif schedule[1] == '02':  month.append('Feb')\n",
        "  elif schedule[1] == '03':  month.append('Mar')\n",
        "  elif schedule[1] == '04':  month.append('Apr')\n",
        "  elif schedule[1] == '05':  month.append('May')\n",
        "  elif schedule[1] == '06':  month.append('Jun')\n",
        "  elif schedule[1] == '07':  month.append('Jul')\n",
        "  elif schedule[1] == '08':  month.append('Aug')\n",
        "  elif schedule[1] == '09':  month.append('Sep')\n",
        "  elif schedule[1] == '10':  month.append('Oct')\n",
        "  elif schedule[1] == '11':  month.append('Nov')\n",
        "  elif schedule[1] == '12':  month.append('Dec')\n",
        "Scheduled1 = pd.Series(month, name='Month_Sched')\n",
        "Scheduled2 = pd.Series(year, name='Year_Sched')\n",
        "x = pd.concat([x, Scheduled1, Scheduled2], axis=1)\n",
        "x"
      ],
      "execution_count": null,
      "outputs": [
        {
          "output_type": "execute_result",
          "data": {
            "text/html": [
              "<div>\n",
              "<style scoped>\n",
              "    .dataframe tbody tr th:only-of-type {\n",
              "        vertical-align: middle;\n",
              "    }\n",
              "\n",
              "    .dataframe tbody tr th {\n",
              "        vertical-align: top;\n",
              "    }\n",
              "\n",
              "    .dataframe thead th {\n",
              "        text-align: right;\n",
              "    }\n",
              "</style>\n",
              "<table border=\"1\" class=\"dataframe\">\n",
              "  <thead>\n",
              "    <tr style=\"text-align: right;\">\n",
              "      <th></th>\n",
              "      <th>AppointmentDay</th>\n",
              "      <th>ScheduledDay</th>\n",
              "      <th>Month_Sched</th>\n",
              "      <th>Year_Sched</th>\n",
              "    </tr>\n",
              "  </thead>\n",
              "  <tbody>\n",
              "    <tr>\n",
              "      <th>0</th>\n",
              "      <td>2016-04-29T00:00:00Z</td>\n",
              "      <td>2016-04-29T18:38:08Z</td>\n",
              "      <td>Apr</td>\n",
              "      <td>2016</td>\n",
              "    </tr>\n",
              "    <tr>\n",
              "      <th>1</th>\n",
              "      <td>2016-04-29T00:00:00Z</td>\n",
              "      <td>2016-04-29T16:08:27Z</td>\n",
              "      <td>Apr</td>\n",
              "      <td>2016</td>\n",
              "    </tr>\n",
              "    <tr>\n",
              "      <th>2</th>\n",
              "      <td>2016-04-29T00:00:00Z</td>\n",
              "      <td>2016-04-29T16:19:04Z</td>\n",
              "      <td>Apr</td>\n",
              "      <td>2016</td>\n",
              "    </tr>\n",
              "    <tr>\n",
              "      <th>3</th>\n",
              "      <td>2016-04-29T00:00:00Z</td>\n",
              "      <td>2016-04-29T17:29:31Z</td>\n",
              "      <td>Apr</td>\n",
              "      <td>2016</td>\n",
              "    </tr>\n",
              "    <tr>\n",
              "      <th>4</th>\n",
              "      <td>2016-04-29T00:00:00Z</td>\n",
              "      <td>2016-04-29T16:07:23Z</td>\n",
              "      <td>Apr</td>\n",
              "      <td>2016</td>\n",
              "    </tr>\n",
              "    <tr>\n",
              "      <th>...</th>\n",
              "      <td>...</td>\n",
              "      <td>...</td>\n",
              "      <td>...</td>\n",
              "      <td>...</td>\n",
              "    </tr>\n",
              "    <tr>\n",
              "      <th>110522</th>\n",
              "      <td>2016-06-07T00:00:00Z</td>\n",
              "      <td>2016-05-03T09:15:35Z</td>\n",
              "      <td>May</td>\n",
              "      <td>2016</td>\n",
              "    </tr>\n",
              "    <tr>\n",
              "      <th>110523</th>\n",
              "      <td>2016-06-07T00:00:00Z</td>\n",
              "      <td>2016-05-03T07:27:33Z</td>\n",
              "      <td>May</td>\n",
              "      <td>2016</td>\n",
              "    </tr>\n",
              "    <tr>\n",
              "      <th>110524</th>\n",
              "      <td>2016-06-07T00:00:00Z</td>\n",
              "      <td>2016-04-27T16:03:52Z</td>\n",
              "      <td>Apr</td>\n",
              "      <td>2016</td>\n",
              "    </tr>\n",
              "    <tr>\n",
              "      <th>110525</th>\n",
              "      <td>2016-06-07T00:00:00Z</td>\n",
              "      <td>2016-04-27T15:09:23Z</td>\n",
              "      <td>Apr</td>\n",
              "      <td>2016</td>\n",
              "    </tr>\n",
              "    <tr>\n",
              "      <th>110526</th>\n",
              "      <td>2016-06-07T00:00:00Z</td>\n",
              "      <td>2016-04-27T13:30:56Z</td>\n",
              "      <td>Apr</td>\n",
              "      <td>2016</td>\n",
              "    </tr>\n",
              "  </tbody>\n",
              "</table>\n",
              "<p>110527 rows × 4 columns</p>\n",
              "</div>"
            ],
            "text/plain": [
              "              AppointmentDay          ScheduledDay Month_Sched Year_Sched\n",
              "0       2016-04-29T00:00:00Z  2016-04-29T18:38:08Z         Apr       2016\n",
              "1       2016-04-29T00:00:00Z  2016-04-29T16:08:27Z         Apr       2016\n",
              "2       2016-04-29T00:00:00Z  2016-04-29T16:19:04Z         Apr       2016\n",
              "3       2016-04-29T00:00:00Z  2016-04-29T17:29:31Z         Apr       2016\n",
              "4       2016-04-29T00:00:00Z  2016-04-29T16:07:23Z         Apr       2016\n",
              "...                      ...                   ...         ...        ...\n",
              "110522  2016-06-07T00:00:00Z  2016-05-03T09:15:35Z         May       2016\n",
              "110523  2016-06-07T00:00:00Z  2016-05-03T07:27:33Z         May       2016\n",
              "110524  2016-06-07T00:00:00Z  2016-04-27T16:03:52Z         Apr       2016\n",
              "110525  2016-06-07T00:00:00Z  2016-04-27T15:09:23Z         Apr       2016\n",
              "110526  2016-06-07T00:00:00Z  2016-04-27T13:30:56Z         Apr       2016\n",
              "\n",
              "[110527 rows x 4 columns]"
            ]
          },
          "metadata": {},
          "execution_count": 33
        }
      ]
    },
    {
      "cell_type": "code",
      "metadata": {
        "colab": {
          "base_uri": "https://localhost:8080/",
          "height": 423
        },
        "id": "Id2_7A_jNe5l",
        "outputId": "ce803a57-3e83-4435-c454-976941287d05"
      },
      "source": [
        "month = []\n",
        "year = []\n",
        "for i in noshow['AppointmentDay']:\n",
        "  appday = i.split('-') \n",
        "  if appday[0] == '2015':  year.append('2015')\n",
        "  elif appday[0] == '2016':  year.append('2016')\n",
        "  if appday[1] == '01':  month.append('Jan')\n",
        "  elif appday[1] == '02':  month.append('Feb')\n",
        "  elif appday[1] == '03':  month.append('Mar')\n",
        "  elif appday[1] == '04':  month.append('Apr')\n",
        "  elif appday[1] == '05':  month.append('May')\n",
        "  elif appday[1] == '06':  month.append('Jun')\n",
        "  elif appday[1] == '07':  month.append('Jul')\n",
        "  elif appday[1] == '08':  month.append('Aug')\n",
        "  elif appday[1] == '09':  month.append('Sep')\n",
        "  elif appday[1] == '10':  month.append('Oct')\n",
        "  elif appday[1] == '11':  month.append('Nov')\n",
        "  elif appday[1] == '12':  month.append('Dec')\n",
        "Scheduled1 = pd.Series(month, name='Month_App')\n",
        "Scheduled2 = pd.Series(year, name='Year_App')\n",
        "x = pd.concat([x, Scheduled1, Scheduled2], axis=1)\n",
        "x"
      ],
      "execution_count": null,
      "outputs": [
        {
          "output_type": "execute_result",
          "data": {
            "text/html": [
              "<div>\n",
              "<style scoped>\n",
              "    .dataframe tbody tr th:only-of-type {\n",
              "        vertical-align: middle;\n",
              "    }\n",
              "\n",
              "    .dataframe tbody tr th {\n",
              "        vertical-align: top;\n",
              "    }\n",
              "\n",
              "    .dataframe thead th {\n",
              "        text-align: right;\n",
              "    }\n",
              "</style>\n",
              "<table border=\"1\" class=\"dataframe\">\n",
              "  <thead>\n",
              "    <tr style=\"text-align: right;\">\n",
              "      <th></th>\n",
              "      <th>AppointmentDay</th>\n",
              "      <th>ScheduledDay</th>\n",
              "      <th>Month_Sched</th>\n",
              "      <th>Year_Sched</th>\n",
              "      <th>Month_App</th>\n",
              "      <th>Year_App</th>\n",
              "    </tr>\n",
              "  </thead>\n",
              "  <tbody>\n",
              "    <tr>\n",
              "      <th>0</th>\n",
              "      <td>2016-04-29T00:00:00Z</td>\n",
              "      <td>2016-04-29T18:38:08Z</td>\n",
              "      <td>Apr</td>\n",
              "      <td>2016</td>\n",
              "      <td>Apr</td>\n",
              "      <td>2016</td>\n",
              "    </tr>\n",
              "    <tr>\n",
              "      <th>1</th>\n",
              "      <td>2016-04-29T00:00:00Z</td>\n",
              "      <td>2016-04-29T16:08:27Z</td>\n",
              "      <td>Apr</td>\n",
              "      <td>2016</td>\n",
              "      <td>Apr</td>\n",
              "      <td>2016</td>\n",
              "    </tr>\n",
              "    <tr>\n",
              "      <th>2</th>\n",
              "      <td>2016-04-29T00:00:00Z</td>\n",
              "      <td>2016-04-29T16:19:04Z</td>\n",
              "      <td>Apr</td>\n",
              "      <td>2016</td>\n",
              "      <td>Apr</td>\n",
              "      <td>2016</td>\n",
              "    </tr>\n",
              "    <tr>\n",
              "      <th>3</th>\n",
              "      <td>2016-04-29T00:00:00Z</td>\n",
              "      <td>2016-04-29T17:29:31Z</td>\n",
              "      <td>Apr</td>\n",
              "      <td>2016</td>\n",
              "      <td>Apr</td>\n",
              "      <td>2016</td>\n",
              "    </tr>\n",
              "    <tr>\n",
              "      <th>4</th>\n",
              "      <td>2016-04-29T00:00:00Z</td>\n",
              "      <td>2016-04-29T16:07:23Z</td>\n",
              "      <td>Apr</td>\n",
              "      <td>2016</td>\n",
              "      <td>Apr</td>\n",
              "      <td>2016</td>\n",
              "    </tr>\n",
              "    <tr>\n",
              "      <th>...</th>\n",
              "      <td>...</td>\n",
              "      <td>...</td>\n",
              "      <td>...</td>\n",
              "      <td>...</td>\n",
              "      <td>...</td>\n",
              "      <td>...</td>\n",
              "    </tr>\n",
              "    <tr>\n",
              "      <th>110522</th>\n",
              "      <td>2016-06-07T00:00:00Z</td>\n",
              "      <td>2016-05-03T09:15:35Z</td>\n",
              "      <td>May</td>\n",
              "      <td>2016</td>\n",
              "      <td>Jun</td>\n",
              "      <td>2016</td>\n",
              "    </tr>\n",
              "    <tr>\n",
              "      <th>110523</th>\n",
              "      <td>2016-06-07T00:00:00Z</td>\n",
              "      <td>2016-05-03T07:27:33Z</td>\n",
              "      <td>May</td>\n",
              "      <td>2016</td>\n",
              "      <td>Jun</td>\n",
              "      <td>2016</td>\n",
              "    </tr>\n",
              "    <tr>\n",
              "      <th>110524</th>\n",
              "      <td>2016-06-07T00:00:00Z</td>\n",
              "      <td>2016-04-27T16:03:52Z</td>\n",
              "      <td>Apr</td>\n",
              "      <td>2016</td>\n",
              "      <td>Jun</td>\n",
              "      <td>2016</td>\n",
              "    </tr>\n",
              "    <tr>\n",
              "      <th>110525</th>\n",
              "      <td>2016-06-07T00:00:00Z</td>\n",
              "      <td>2016-04-27T15:09:23Z</td>\n",
              "      <td>Apr</td>\n",
              "      <td>2016</td>\n",
              "      <td>Jun</td>\n",
              "      <td>2016</td>\n",
              "    </tr>\n",
              "    <tr>\n",
              "      <th>110526</th>\n",
              "      <td>2016-06-07T00:00:00Z</td>\n",
              "      <td>2016-04-27T13:30:56Z</td>\n",
              "      <td>Apr</td>\n",
              "      <td>2016</td>\n",
              "      <td>Jun</td>\n",
              "      <td>2016</td>\n",
              "    </tr>\n",
              "  </tbody>\n",
              "</table>\n",
              "<p>110527 rows × 6 columns</p>\n",
              "</div>"
            ],
            "text/plain": [
              "              AppointmentDay          ScheduledDay  ... Month_App Year_App\n",
              "0       2016-04-29T00:00:00Z  2016-04-29T18:38:08Z  ...       Apr     2016\n",
              "1       2016-04-29T00:00:00Z  2016-04-29T16:08:27Z  ...       Apr     2016\n",
              "2       2016-04-29T00:00:00Z  2016-04-29T16:19:04Z  ...       Apr     2016\n",
              "3       2016-04-29T00:00:00Z  2016-04-29T17:29:31Z  ...       Apr     2016\n",
              "4       2016-04-29T00:00:00Z  2016-04-29T16:07:23Z  ...       Apr     2016\n",
              "...                      ...                   ...  ...       ...      ...\n",
              "110522  2016-06-07T00:00:00Z  2016-05-03T09:15:35Z  ...       Jun     2016\n",
              "110523  2016-06-07T00:00:00Z  2016-05-03T07:27:33Z  ...       Jun     2016\n",
              "110524  2016-06-07T00:00:00Z  2016-04-27T16:03:52Z  ...       Jun     2016\n",
              "110525  2016-06-07T00:00:00Z  2016-04-27T15:09:23Z  ...       Jun     2016\n",
              "110526  2016-06-07T00:00:00Z  2016-04-27T13:30:56Z  ...       Jun     2016\n",
              "\n",
              "[110527 rows x 6 columns]"
            ]
          },
          "metadata": {},
          "execution_count": 34
        }
      ]
    },
    {
      "cell_type": "markdown",
      "metadata": {
        "id": "uP8GTJk7RF3c"
      },
      "source": [
        "### **Statistical analysis in R**"
      ]
    },
    {
      "cell_type": "code",
      "metadata": {
        "id": "j-ZJat7BRFOZ"
      },
      "source": [
        "%load_ext rpy2.ipython"
      ],
      "execution_count": 20,
      "outputs": []
    },
    {
      "cell_type": "code",
      "metadata": {
        "colab": {
          "base_uri": "https://localhost:8080/"
        },
        "id": "P_qQb9z3ST3-",
        "outputId": "99350cba-8d26-468c-8886-bf648cdb3b0c"
      },
      "source": [
        "%%R\n",
        "noshow <- read.csv(\"/content/noshow.csv\")\n",
        "head(noshow)"
      ],
      "execution_count": 30,
      "outputs": [
        {
          "output_type": "stream",
          "name": "stdout",
          "text": [
            "  X    PatientId AppointmentID Gender         ScheduledDay       AppointmentDay\n",
            "1 0 2.987250e+13       5642903      F 2016-04-29T18:38:08Z 2016-04-29T00:00:00Z\n",
            "2 1 5.589978e+14       5642503      M 2016-04-29T16:08:27Z 2016-04-29T00:00:00Z\n",
            "3 2 4.262962e+12       5642549      F 2016-04-29T16:19:04Z 2016-04-29T00:00:00Z\n",
            "4 3 8.679512e+11       5642828      F 2016-04-29T17:29:31Z 2016-04-29T00:00:00Z\n",
            "5 4 8.841186e+12       5642494      F 2016-04-29T16:07:23Z 2016-04-29T00:00:00Z\n",
            "6 5 9.598513e+13       5626772      F 2016-04-27T08:36:51Z 2016-04-29T00:00:00Z\n",
            "  Age     Neighbourhood Scholarship Hipertension Diabetes Alcoholism Handcap\n",
            "1  62   JARDIM DA PENHA           0            1        0          0       0\n",
            "2  56   JARDIM DA PENHA           0            0        0          0       0\n",
            "3  62     MATA DA PRAIA           0            0        0          0       0\n",
            "4   8 PONTAL DE CAMBURI           0            0        0          0       0\n",
            "5  56   JARDIM DA PENHA           0            1        1          0       0\n",
            "6  76         REPÚBLICA           0            1        0          0       0\n",
            "  SMS_received No.show noshow\n",
            "1            0      No      0\n",
            "2            0      No      0\n",
            "3            0      No      0\n",
            "4            0      No      0\n",
            "5            0      No      0\n",
            "6            0      No      0\n"
          ]
        }
      ]
    },
    {
      "cell_type": "markdown",
      "metadata": {
        "id": "gZgfWITRVEPP"
      },
      "source": [
        "#### Unadjusted data"
      ]
    },
    {
      "cell_type": "code",
      "metadata": {
        "colab": {
          "base_uri": "https://localhost:8080/"
        },
        "id": "zrrrB8YfRLuC",
        "outputId": "a8c608b9-6cbb-4cc7-b7e1-9000d30dcd38"
      },
      "source": [
        "%%R\n",
        "result_un = glm(noshow$noshow ~ noshow$SMS_received, family = binomial)\n",
        "summary(result_un)"
      ],
      "execution_count": 31,
      "outputs": [
        {
          "output_type": "stream",
          "name": "stdout",
          "text": [
            "\n",
            "Call:\n",
            "glm(formula = noshow$noshow ~ noshow$SMS_received, family = binomial)\n",
            "\n",
            "Deviance Residuals: \n",
            "    Min       1Q   Median       3Q      Max  \n",
            "-0.8033  -0.6046  -0.6046  -0.6046   1.8919  \n",
            "\n",
            "Coefficients:\n",
            "                     Estimate Std. Error z value Pr(>|z|)    \n",
            "(Intercept)         -1.606802   0.009786 -164.19   <2e-16 ***\n",
            "noshow$SMS_received  0.641137   0.015391   41.66   <2e-16 ***\n",
            "---\n",
            "Signif. codes:  0 ‘***’ 0.001 ‘**’ 0.01 ‘*’ 0.05 ‘.’ 0.1 ‘ ’ 1\n",
            "\n",
            "(Dispersion parameter for binomial family taken to be 1)\n",
            "\n",
            "    Null deviance: 111206  on 110526  degrees of freedom\n",
            "Residual deviance: 109503  on 110525  degrees of freedom\n",
            "AIC: 109507\n",
            "\n",
            "Number of Fisher Scoring iterations: 4\n",
            "\n"
          ]
        }
      ]
    },
    {
      "cell_type": "code",
      "metadata": {
        "colab": {
          "base_uri": "https://localhost:8080/"
        },
        "id": "lxDwjv6GT78r",
        "outputId": "bc7b0568-fbd2-4f78-aef1-8612e1380368"
      },
      "source": [
        "%%R\n",
        "coef(result_un)"
      ],
      "execution_count": 32,
      "outputs": [
        {
          "output_type": "stream",
          "name": "stdout",
          "text": [
            "        (Intercept) noshow$SMS_received \n",
            "          -1.606802            0.641137 \n"
          ]
        }
      ]
    },
    {
      "cell_type": "markdown",
      "metadata": {
        "id": "4zCfGjyTZ8yP"
      },
      "source": [
        "#### Adjusted data"
      ]
    },
    {
      "cell_type": "markdown",
      "metadata": {
        "id": "7mbQE88bqibP"
      },
      "source": [
        "### **Predicting and classifying**"
      ]
    },
    {
      "cell_type": "code",
      "metadata": {
        "id": "iOglMYrjO7WJ",
        "colab": {
          "base_uri": "https://localhost:8080/"
        },
        "outputId": "d1efb84e-a338-4316-8982-e7b4aaeaafdd"
      },
      "source": [
        "x1 = noshow[['SMS_received']]\n",
        "y = noshow[['No-show']]\n",
        "lr = LogisticRegression()\n",
        "lr.fit(x1,y)"
      ],
      "execution_count": 8,
      "outputs": [
        {
          "output_type": "stream",
          "name": "stderr",
          "text": [
            "/usr/local/lib/python3.7/dist-packages/sklearn/utils/validation.py:985: DataConversionWarning: A column-vector y was passed when a 1d array was expected. Please change the shape of y to (n_samples, ), for example using ravel().\n",
            "  y = column_or_1d(y, warn=True)\n"
          ]
        },
        {
          "output_type": "execute_result",
          "data": {
            "text/plain": [
              "LogisticRegression()"
            ]
          },
          "metadata": {},
          "execution_count": 8
        }
      ]
    },
    {
      "cell_type": "code",
      "metadata": {
        "id": "6g6y3BjWGHOv",
        "colab": {
          "base_uri": "https://localhost:8080/"
        },
        "outputId": "b1c1f6d5-3ea7-4263-a4d8-87ef97699a69"
      },
      "source": [
        "print(lr.predict(noshow[['SMS_received']])[0:5])\n",
        "print(noshow[['No-show']].values[0:5])"
      ],
      "execution_count": 9,
      "outputs": [
        {
          "output_type": "stream",
          "name": "stdout",
          "text": [
            "['No' 'No' 'No' 'No' 'No']\n",
            "[['No']\n",
            " ['No']\n",
            " ['No']\n",
            " ['No']\n",
            " ['No']]\n"
          ]
        }
      ]
    },
    {
      "cell_type": "markdown",
      "metadata": {
        "id": "V0jdeVrmU6Fu"
      },
      "source": [
        "#### Train and test data"
      ]
    },
    {
      "cell_type": "code",
      "metadata": {
        "colab": {
          "base_uri": "https://localhost:8080/"
        },
        "id": "Sw7o-_41U-j1",
        "outputId": "8c51b48d-75bb-4c54-dbd5-723a63f1768f"
      },
      "source": [
        "x_train, x_test, y_train, y_test = train_test_split(x1, y, test_size=0.20, random_state=0)\n",
        "lr.fit(x_train,y_train)\n",
        "print(x_train.di)"
      ],
      "execution_count": 10,
      "outputs": [
        {
          "output_type": "stream",
          "name": "stderr",
          "text": [
            "/usr/local/lib/python3.7/dist-packages/sklearn/utils/validation.py:985: DataConversionWarning: A column-vector y was passed when a 1d array was expected. Please change the shape of y to (n_samples, ), for example using ravel().\n",
            "  y = column_or_1d(y, warn=True)\n"
          ]
        },
        {
          "output_type": "execute_result",
          "data": {
            "text/plain": [
              "LogisticRegression()"
            ]
          },
          "metadata": {},
          "execution_count": 10
        }
      ]
    },
    {
      "cell_type": "code",
      "metadata": {
        "colab": {
          "base_uri": "https://localhost:8080/"
        },
        "id": "YIm8GJwtXg8Y",
        "outputId": "203d73f3-ca6c-4fed-dbdc-fb3058f5e4a9"
      },
      "source": [
        "print(lr.predict(x_test)[0:5])\n",
        "print(y_test.values[0:5])"
      ],
      "execution_count": 16,
      "outputs": [
        {
          "output_type": "stream",
          "name": "stdout",
          "text": [
            "['No' 'No' 'No' 'No' 'No']\n",
            "[['No']\n",
            " ['No']\n",
            " ['No']\n",
            " ['No']\n",
            " ['Yes']]\n"
          ]
        }
      ]
    },
    {
      "cell_type": "code",
      "metadata": {
        "colab": {
          "base_uri": "https://localhost:8080/"
        },
        "id": "btWpZPTfsSG_",
        "outputId": "7ff86370-5fec-45f8-dca5-58aec332e609"
      },
      "source": [
        "print(\"confusion matrix:\",metrics.confusion_matrix(y_test, lr.predict(x_test)))\n",
        "print(\"Accuracy:\",metrics.accuracy_score(y_test, lr.predict(x_test)))\n",
        "print(\"Precision:\",metrics.precision_score(y_test, lr.predict(x_test), average=\"binary\", pos_label=\"No\")) # pos_label: positive value"
      ],
      "execution_count": 15,
      "outputs": [
        {
          "output_type": "stream",
          "name": "stdout",
          "text": [
            "confusion matrix: [[17725     0]\n",
            " [ 4381     0]]\n",
            "Accuracy: 0.8018185108115444\n",
            "Precision: 0.8018185108115444\n"
          ]
        }
      ]
    },
    {
      "cell_type": "code",
      "metadata": {
        "id": "zB2TBRTDYg3_"
      },
      "source": [
        ""
      ],
      "execution_count": null,
      "outputs": []
    }
  ]
}